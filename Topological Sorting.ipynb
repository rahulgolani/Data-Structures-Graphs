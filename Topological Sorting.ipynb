{
 "cells": [
  {
   "cell_type": "markdown",
   "metadata": {},
   "source": [
    "# Topological Sorting"
   ]
  },
  {
   "cell_type": "markdown",
   "metadata": {},
   "source": [
    "Topological sorting for Directed Acyclic Graph (DAG) is a linear ordering of vertices such that for every directed edge uv, vertex u comes before v in the ordering. Topological Sorting for a graph is not possible if the graph is not a DAG."
   ]
  },
  {
   "cell_type": "markdown",
   "metadata": {},
   "source": [
    "Topological sorting give the order which ensures that if we give directions to edges based on this ordering then the graph will always be acyclic"
   ]
  },
  {
   "cell_type": "markdown",
   "metadata": {},
   "source": [
    "The first vertex in topological sorting is always a vertex with in-degree as 0 (a vertex with no incoming edges)."
   ]
  },
  {
   "cell_type": "markdown",
   "metadata": {},
   "source": [
    "<strong>Topological Sorting vs Depth First Traversal (DFS):</strong>"
   ]
  },
  {
   "cell_type": "markdown",
   "metadata": {},
   "source": [
    "In DFS, we print a vertex and then recursively call DFS for its adjacent vertices. In topological sorting, we need to print a vertex before its adjacent vertices. (i.e first print adjacent vertices and then print the vertex)"
   ]
  },
  {
   "cell_type": "markdown",
   "metadata": {},
   "source": [
    "In DFS, we start from a vertex, we first print it and then recursively call DFS for its adjacent vertices. In topological sorting, we use a temporary stack. We don’t print the vertex immediately, we first recursively call topological sorting for all its adjacent vertices, then push it to a stack. Finally, print contents of the stack. Note that a vertex is pushed to stack only when all of its adjacent vertices (and their adjacent vertices and so on) are already in the stack. "
   ]
  },
  {
   "cell_type": "code",
   "execution_count": 1,
   "metadata": {},
   "outputs": [
    {
     "name": "stdout",
     "output_type": "stream",
     "text": [
      "5 4 2 3 1 0\n"
     ]
    }
   ],
   "source": [
    "from collections import defaultdict\n",
    "class Graph:\n",
    "    def __init__(self,v):\n",
    "        self.v=v\n",
    "        self.graph=defaultdict(list)\n",
    "\n",
    "    def addEdge(self,u,v):\n",
    "        self.graph[u].append(v)\n",
    "\n",
    "    def topologicalSortUtil(self,node,visited,stack):\n",
    "        visited[node]=True\n",
    "        for i in self.graph[node]:\n",
    "            if visited[i]==False:\n",
    "                self.topologicalSortUtil(i,visited,stack)\n",
    "        stack.insert(0,node)\n",
    "\n",
    "    def topologicalSort(self):\n",
    "        visited=[False]*self.v\n",
    "        stack=[]\n",
    "        for i in range(self.v):\n",
    "            if visited[i]==False:\n",
    "                self.topologicalSortUtil(i,visited,stack)\n",
    "        return stack\n",
    "\n",
    "if __name__ == '__main__':\n",
    "    g=Graph(6)\n",
    "    g.addEdge(5,2)\n",
    "    g.addEdge(5,0)\n",
    "    g.addEdge(4,0)\n",
    "    g.addEdge(4,1)\n",
    "    g.addEdge(2,3)\n",
    "    g.addEdge(3,1)\n",
    "    result=g.topologicalSort()\n",
    "    print(\" \".join(map(str,result)))\n"
   ]
  },
  {
   "cell_type": "markdown",
   "metadata": {},
   "source": [
    "Time Complexity O(V+E), Space Complexity O(V) for visited and Stack"
   ]
  },
  {
   "cell_type": "markdown",
   "metadata": {},
   "source": [
    "<strong>Applications</strong>\n",
    "\n",
    "Topological Sorting is mainly used for scheduling jobs from the given dependencies among jobs. In computer science, applications of this type arise in instruction scheduling, ordering of formula cell evaluation when recomputing formula values in spreadsheets, logic synthesis, determining the order of compilation tasks to perform in make files, data serialization, and resolving symbol dependencies in linkers "
   ]
  },
  {
   "cell_type": "markdown",
   "metadata": {},
   "source": [
    "# Kahn’s algorithm for Topological Sorting"
   ]
  },
  {
   "cell_type": "markdown",
   "metadata": {},
   "source": [
    "BFS Based solution for Topological Sorting"
   ]
  },
  {
   "cell_type": "code",
   "execution_count": 1,
   "metadata": {},
   "outputs": [
    {
     "name": "stdout",
     "output_type": "stream",
     "text": [
      "4 5 2 0 3 1\n"
     ]
    }
   ],
   "source": [
    "from collections import defaultdict\n",
    "\n",
    "class Graph:\n",
    "    def __init__(self,v):\n",
    "        self.v=v\n",
    "        self.graph=defaultdict(list)\n",
    "\n",
    "    def addEdge(self,u,v):\n",
    "        self.graph[u].append(v)\n",
    "\n",
    "    def findTopologicalSort(self):\n",
    "        inDegree=[0]*self.v\n",
    "\n",
    "        for i in range(self.v):\n",
    "            for j in self.graph[i]:\n",
    "                inDegree[j]+=1\n",
    "\n",
    "        result=[]\n",
    "        count=0\n",
    "        queue=[]\n",
    "\n",
    "        for i in range(self.v):\n",
    "            if inDegree[i]==0:\n",
    "                queue.append(i)\n",
    "\n",
    "        while queue:\n",
    "            ele=queue.pop(0)\n",
    "            result.append(ele)\n",
    "            for i in self.graph[ele]:\n",
    "                inDegree[i]-=1\n",
    "                if inDegree[i]==0:\n",
    "                    queue.append(i)\n",
    "            count+=1\n",
    "\n",
    "        if count!=self.v:\n",
    "            return \"Graph Contains a Cycle\"\n",
    "        return \" \".join(map(str,result))\n",
    "\n",
    "if __name__ == '__main__':\n",
    "    g=Graph(6)\n",
    "    g.addEdge(5,2)\n",
    "    g.addEdge(5,0)\n",
    "    g.addEdge(4,0)\n",
    "    g.addEdge(4,1)\n",
    "    g.addEdge(2,3)\n",
    "    g.addEdge(3,1)\n",
    "    print(g.findTopologicalSort())\n"
   ]
  },
  {
   "cell_type": "markdown",
   "metadata": {},
   "source": [
    "Time Complexity O(V+E), Space Complexity O(V)"
   ]
  },
  {
   "cell_type": "code",
   "execution_count": null,
   "metadata": {},
   "outputs": [],
   "source": []
  }
 ],
 "metadata": {
  "kernelspec": {
   "display_name": "Python 3",
   "language": "python",
   "name": "python3"
  },
  "language_info": {
   "codemirror_mode": {
    "name": "ipython",
    "version": 3
   },
   "file_extension": ".py",
   "mimetype": "text/x-python",
   "name": "python",
   "nbconvert_exporter": "python",
   "pygments_lexer": "ipython3",
   "version": "3.7.6"
  }
 },
 "nbformat": 4,
 "nbformat_minor": 4
}
