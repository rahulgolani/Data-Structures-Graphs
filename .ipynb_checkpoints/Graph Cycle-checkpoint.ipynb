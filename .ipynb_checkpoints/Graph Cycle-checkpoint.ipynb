{
 "cells": [
  {
   "cell_type": "markdown",
   "metadata": {},
   "source": [
    "# Detect Cycle in a Directed Graph"
   ]
  },
  {
   "cell_type": "markdown",
   "metadata": {},
   "source": [
    "Depth First Traversal can be used to detect a cycle in a Graph. DFS for a connected graph produces a tree. There is a cycle in a graph only if there is a back edge present in the graph. A back edge is an edge that is from a node to itself (self-loop) or node to one of its ancestors in the tree produced by DFS."
   ]
  },
  {
   "cell_type": "markdown",
   "metadata": {},
   "source": [
    "For a disconnected graph, Get the DFS forest as output. To detect cycle, check for a cycle in individual trees by checking back edges."
   ]
  },
  {
   "cell_type": "markdown",
   "metadata": {},
   "source": [
    "To detect a back edge, keep track of vertices currently in the recursion stack of function for DFS traversal. If a vertex is reached that is already in the recursion stack, then there is a cycle in the tree. The edge that connects the current vertex to the vertex in the recursion stack is a back edge. Use recStack[] array to keep track of vertices in the recursion stack."
   ]
  },
  {
   "cell_type": "code",
   "execution_count": 5,
   "metadata": {},
   "outputs": [
    {
     "name": "stdout",
     "output_type": "stream",
     "text": [
      "True\n"
     ]
    }
   ],
   "source": [
    "from collections import defaultdict\n",
    "class Graph:\n",
    "    def __init__(self,v):\n",
    "        self.v=v\n",
    "        self.graph=defaultdict(list)\n",
    "    \n",
    "    def addEdge(self,u,v):\n",
    "        self.graph[u].append(v)\n",
    "    \n",
    "    def isCyclic(self):\n",
    "        visited=[False]*self.v\n",
    "        recStack=[False]*self.v\n",
    "        for i in range(self.v):\n",
    "            if self.isCyclicUtil(i,visited,recStack):\n",
    "                return True\n",
    "        return False\n",
    "    \n",
    "    def isCyclicUtil(self,node,visited,recStack):\n",
    "        visited[node]=True\n",
    "        recStack[node]=True\n",
    "        for i in self.graph[node]:\n",
    "            if visited[i]==False:\n",
    "                if self.isCyclicUtil(i,visited,recStack):\n",
    "                    return True\n",
    "            elif recStack[i]==True:\n",
    "                return True\n",
    "        \n",
    "        recStack[node]=False\n",
    "        return False\n",
    "    \n",
    "if __name__==\"__main__\":\n",
    "    g=Graph(4)\n",
    "    g.addEdge(0,1)\n",
    "    g.addEdge(0,2)\n",
    "    g.addEdge(1,2)\n",
    "    g.addEdge(2,0)\n",
    "    g.addEdge(2,3)\n",
    "    g.addEdge(3,3)\n",
    "#     g.addEdge(0,1)\n",
    "#     g.addEdge(0,2)\n",
    "#     g.addEdge(1,2)\n",
    "# #     g.addEdge(2,0)\n",
    "#     g.addEdge(2,3)\n",
    "# #     g.addEdge(3,3)\n",
    "    print(g.isCyclic())"
   ]
  },
  {
   "cell_type": "markdown",
   "metadata": {},
   "source": [
    "Time Complexity ->O(v+e) and space complexity-> O(v) for visited and recStack"
   ]
  },
  {
   "cell_type": "markdown",
   "metadata": {},
   "source": [
    "# Detect cycle in an undirected graph"
   ]
  },
  {
   "cell_type": "code",
   "execution_count": 2,
   "metadata": {},
   "outputs": [
    {
     "name": "stdout",
     "output_type": "stream",
     "text": [
      "True\n"
     ]
    }
   ],
   "source": [
    "from collections import defaultdict\n",
    "class Graph:\n",
    "\n",
    "    def __init__(self,v):\n",
    "        self.v=v\n",
    "        self.graph=defaultdict(list)\n",
    "\n",
    "    def addEdge(self,u,v):\n",
    "        self.graph[u].append(v)\n",
    "        self.graph[v].append(u)\n",
    "\n",
    "    def isCyclicUtil(self,node,visited,parent):\n",
    "        visited[node]=True\n",
    "        for i in self.graph[node]:\n",
    "            if visited[i]==False:\n",
    "                if self.isCyclicUtil(i,visited,node):\n",
    "                    return True\n",
    "            elif parent!=i:\n",
    "                return True\n",
    "\n",
    "    def isCyclic(self):\n",
    "        visited=[False]*self.v\n",
    "        for i in range(self.v):\n",
    "            if visited[i]==False:\n",
    "                if self.isCyclicUtil(i,visited,-1):\n",
    "                    return True\n",
    "        return False\n",
    "\n",
    "if __name__ == '__main__':\n",
    "    g=Graph(5)\n",
    "    g.addEdge(1,0)\n",
    "    g.addEdge(0,2)\n",
    "    g.addEdge(2,0)\n",
    "    g.addEdge(0,3)\n",
    "    g.addEdge(3,4)\n",
    "\n",
    "    # g=Graph(3)\n",
    "    # g.addEdge(0,1)\n",
    "    # g.addEdge(1,2)\n",
    "    print(g.isCyclic())\n"
   ]
  },
  {
   "cell_type": "markdown",
   "metadata": {},
   "source": [
    "Time Complexity -> O(V+E) and Space Complexity -> O(V) for visited"
   ]
  },
  {
   "cell_type": "markdown",
   "metadata": {},
   "source": [
    "# Detect Cycle in a directed graph using colors"
   ]
  },
  {
   "cell_type": "markdown",
   "metadata": {},
   "source": [
    "The idea is to do DFS of a given graph and while doing traversal, assign one of the below three colours to every vertex."
   ]
  },
  {
   "cell_type": "markdown",
   "metadata": {},
   "source": [
    "<pre>\n",
    "<strong>WHITE :</strong> Vertex is not processed yet. Initially, all vertices are WHITE.\n",
    "\n",
    "<strong>GRAY:</strong> Vertex is being processed (DFS for this vertex has started, but not finished which means that all descendants (in DFS tree) of this vertex are not processed yet (or this vertex is in the function call stack)\n",
    "\n",
    "<strong>BLACK :</strong> Vertex and all its descendants are processed. While doing DFS, if an edge is encountered from current vertex to a GRAY vertex, then this edge is back edge and hence there is a cycle.\n",
    "\n",
    "</pre>"
   ]
  },
  {
   "cell_type": "code",
   "execution_count": 1,
   "metadata": {},
   "outputs": [
    {
     "name": "stdout",
     "output_type": "stream",
     "text": [
      "True\n"
     ]
    }
   ],
   "source": [
    "from collections import defaultdict\n",
    "class Graph:\n",
    "    def __init__(self,v):\n",
    "        self.v=v\n",
    "        self.graph=defaultdict(list)\n",
    "\n",
    "    def addEdge(self,u,v):\n",
    "        self.graph[u].append(v)\n",
    "\n",
    "    def isCyclicUtil(self,node,color):\n",
    "        color[node]='GRAY'\n",
    "        for i in self.graph[node]:\n",
    "            if color[i]=='GRAY':\n",
    "                return True\n",
    "            elif color[i]=='WHITE':\n",
    "                if self.isCyclicUtil(i,color):\n",
    "                    return True\n",
    "        color[node]='BLACK'\n",
    "        return False\n",
    "\n",
    "    def isCyclic(self):\n",
    "        color=['WHITE']*self.v\n",
    "        for i in range(self.v):\n",
    "            if color[i]=='WHITE':\n",
    "                if self.isCyclicUtil(i,color):\n",
    "                    return True\n",
    "        return False\n",
    "\n",
    "if __name__ == '__main__':\n",
    "    g=Graph(4)\n",
    "    g.addEdge(0,1)\n",
    "    g.addEdge(0,2)\n",
    "    g.addEdge(1,2)\n",
    "    g.addEdge(2,0)\n",
    "    g.addEdge(2,3)\n",
    "    g.addEdge(3,3)\n",
    "    print(g.isCyclic())\n"
   ]
  },
  {
   "cell_type": "markdown",
   "metadata": {},
   "source": [
    "# Assign directions to edges so that the directed graph remains acyclic"
   ]
  },
  {
   "cell_type": "markdown",
   "metadata": {},
   "source": [
    "Given a graph with both directed and undirected edges. It is given that the directed edges don’t form cycle. How to assign directions to undirected edges so that the graph (with all directed edges) remains acyclic even after the assignment?"
   ]
  },
  {
   "cell_type": "markdown",
   "metadata": {},
   "source": [
    "Approach-> Use topological sorting with directed edges, find the order in which the edges should be to avoid the cycle, then on the basis of that ordering, choose the direction of the edges"
   ]
  },
  {
   "cell_type": "code",
   "execution_count": 1,
   "metadata": {},
   "outputs": [
    {
     "name": "stdout",
     "output_type": "stream",
     "text": [
      "Adding edge 0 to 3\n",
      "Adding edge 5 to 4\n",
      "Adding edge 0 to 2\n"
     ]
    }
   ],
   "source": [
    "from collections import defaultdict\n",
    "class Graph:\n",
    "    def __init__(self,v):\n",
    "        self.v=v\n",
    "        self.graph=defaultdict(list)\n",
    "\n",
    "    def addEdge(self,u,v):\n",
    "        self.graph[u].append(v)\n",
    "\n",
    "    def getTopologicalSortOrderUtil(self,node,visited,stack):\n",
    "        visited[node]=True\n",
    "        for i in self.graph[node]:\n",
    "            if visited[i]==False:\n",
    "                self.getTopologicalSortOrderUtil(i,visited,stack)\n",
    "        stack.insert(0,node)\n",
    "\n",
    "    def getTopologicalSortOrder(self):\n",
    "        visited=[False]*self.v\n",
    "        stack=[]\n",
    "        for i in range(self.v):\n",
    "            if visited[i]==False:\n",
    "                self.getTopologicalSortOrderUtil(i,visited,stack)\n",
    "        return stack\n",
    "\n",
    "    def addDirectionsToEdges(self,edges):\n",
    "        order=self.getTopologicalSortOrder()\n",
    "        # print(order)\n",
    "        orderDict={}\n",
    "        for i in range(len(order)):\n",
    "            orderDict[order[i]]=i\n",
    "        for i in range(len(edges)):\n",
    "            x=edges[i][0]\n",
    "            y=edges[i][1]\n",
    "            if orderDict[x]<orderDict[y]:\n",
    "                print(f\"Adding edge {x} to {y}\")\n",
    "                self.addEdge(x,y)\n",
    "            else:\n",
    "                print(f\"Adding edge {y} to {x}\")\n",
    "                self.addEdge(y,x)\n",
    "\n",
    "if __name__ == '__main__':\n",
    "    g=Graph(6)\n",
    "    g.addEdge(0,1)\n",
    "    g.addEdge(0,5)\n",
    "    g.addEdge(1,3)\n",
    "    g.addEdge(1,4)\n",
    "    g.addEdge(1,2)\n",
    "    g.addEdge(2,3)\n",
    "    g.addEdge(2,4)\n",
    "    g.addEdge(3,4)\n",
    "    g.addEdge(5,2)\n",
    "    g.addEdge(5,1)\n",
    "    edges=[(0,3),(4,5),(0,2)]\n",
    "    g.addDirectionsToEdges(edges)\n"
   ]
  },
  {
   "cell_type": "markdown",
   "metadata": {},
   "source": [
    "Time complexity-> O(V+E)"
   ]
  },
  {
   "cell_type": "markdown",
   "metadata": {},
   "source": [
    "# Detect a negative cycle in a Graph | (Bellman Ford)"
   ]
  },
  {
   "cell_type": "markdown",
   "metadata": {},
   "source": [
    "Prerequisite-> Bellman Ford"
   ]
  },
  {
   "cell_type": "markdown",
   "metadata": {},
   "source": [
    "# Bellman Ford"
   ]
  },
  {
   "cell_type": "markdown",
   "metadata": {},
   "source": [
    "Given a graph and a source vertex src in graph, find shortest paths from src to all vertices in the given graph. The graph may contain negative weight edges.\n",
    "\n",
    "We have Dijkstra’s algorithm for this problem. Dijkstra’s algorithm is a Greedy algorithm and time complexity is O(VLogV) (with the use of Fibonacci heap). Dijkstra doesn’t work for Graphs with negative weight edges, Bellman-Ford works for such graphs. Bellman-Ford is also simpler than Dijkstra and suites well for distributed systems. But time complexity of Bellman-Ford is O(VE), which is more than Dijkstra."
   ]
  },
  {
   "cell_type": "code",
   "execution_count": 3,
   "metadata": {},
   "outputs": [
    {
     "name": "stdout",
     "output_type": "stream",
     "text": [
      "0 -> 0\n",
      "1 -> -1\n",
      "2 -> 2\n",
      "3 -> -2\n",
      "4 -> 1\n"
     ]
    }
   ],
   "source": [
    "from collections import defaultdict\n",
    "class Graph:\n",
    "    def __init__(self,v):\n",
    "        self.v=v\n",
    "        self.graph=[]\n",
    "        self.graph=defaultdict(list)\n",
    "\n",
    "    def addEdge(self,u,v,w):\n",
    "        # self.graph.append([u,v,w])\n",
    "        self.graph[u].append([v,w])\n",
    "\n",
    "    def findShortestPath(self,source):\n",
    "        distance=[float('infinity')]*self.v\n",
    "        distance[source]=0\n",
    "        for _ in range(self.v-1):\n",
    "            for u in range(self.v):\n",
    "                for v,w in self.graph[u]:\n",
    "                    if distance[u]!=float('infinity') and distance[v]>distance[u]+w:\n",
    "                        distance[v]=distance[u]+w\n",
    "            # for u,v,w in self.graph:\n",
    "            #     if distance[u]!=float('infinity') and distance[v]>distance[u]+w:\n",
    "            #         distance[v]=distance[u]+w\n",
    "        for u in range(self.v):\n",
    "            for v,w in self.graph[u]:\n",
    "                if distance[u]!=float('infinity') and distance[v]>distance[u]+w:\n",
    "                    print('-ve cycle')\n",
    "                    return\n",
    "\n",
    "        # for u,v,w in self.graph:\n",
    "        #     if distance[u]!=float('infinity') and distance[v]>distance[u]+w:\n",
    "        #         print('Negative Cycle present')\n",
    "        #         return\n",
    "\n",
    "        self.printDistance(distance)\n",
    "\n",
    "\n",
    "    def printDistance(self,distance):\n",
    "        for i in range(len(distance)):\n",
    "            print(f\"{i} -> {distance[i]}\")\n",
    "\n",
    "if __name__ == '__main__':\n",
    "    g=Graph(5)\n",
    "    g.addEdge(0, 1, -1)\n",
    "    g.addEdge(0, 2, 4)\n",
    "    g.addEdge(1, 2, 3)\n",
    "    g.addEdge(1, 3, 2)\n",
    "    g.addEdge(1, 4, 2)\n",
    "    g.addEdge(3, 2, 5)\n",
    "    g.addEdge(3, 1, 1)\n",
    "    g.addEdge(4, 3, -3)\n",
    "    g.findShortestPath(0)\n"
   ]
  },
  {
   "cell_type": "markdown",
   "metadata": {},
   "source": [
    "Notes\n",
    "\n",
    "1) Negative weights are found in various applications of graphs. For example, instead of paying cost for a path, we may get some advantage if we follow the path.\n",
    "\n",
    "2) Bellman-Ford works better (better than Dijksra’s) for distributed systems. Unlike Dijkstra’s where we need to find the minimum value of all vertices, in Bellman-Ford, edges are considered one by one."
   ]
  },
  {
   "cell_type": "code",
   "execution_count": 4,
   "metadata": {},
   "outputs": [
    {
     "name": "stdout",
     "output_type": "stream",
     "text": [
      "Graph contains a negative cycle\n"
     ]
    }
   ],
   "source": [
    "class Graph:\n",
    "    def __init__(self,v):\n",
    "        self.v=v\n",
    "        self.graph=[]\n",
    "\n",
    "    def addEdge(self,u,v,w):\n",
    "        self.graph.append([u,v,w])\n",
    "\n",
    "    def detectNegativeCycle(self):\n",
    "        distance=[float('infinity')]*self.v\n",
    "        distance[0]=0\n",
    "        for _ in range(self.v-1):\n",
    "            for u,v,w in self.graph:\n",
    "                if distance[u]!=float('infinity') and distance[v]>distance[u]+w:\n",
    "                    distance[v]=distance[u]+w\n",
    "        for u,v,w in self.graph:\n",
    "            if distance[u]!=float('infinity') and distance[v]>distance[u]+w:\n",
    "                print(\"Graph contains a negative cycle\")\n",
    "                return\n",
    "        print('Graph does not contain a negative Cycle')\n",
    "\n",
    "if __name__ == '__main__':\n",
    "    # g=Graph(5)\n",
    "    # g.addEdge(0,1,-1)\n",
    "    # g.addEdge(0,2,4)\n",
    "    # g.addEdge(1,2,3)\n",
    "    # g.addEdge(1,3,2)\n",
    "    # g.addEdge(1,4,2)\n",
    "    # g.addEdge(3,2,5)\n",
    "    # g.addEdge(3,1,1)\n",
    "    # g.addEdge(4,3,-3)\n",
    "    g=Graph(4)\n",
    "    g.addEdge(0,1,1)\n",
    "    g.addEdge(1,2,-1)\n",
    "    g.addEdge(2,3,-1)\n",
    "    g.addEdge(3,0,-1)\n",
    "    g.detectNegativeCycle()\n"
   ]
  },
  {
   "cell_type": "markdown",
   "metadata": {},
   "source": [
    "For Disconnected Graph->"
   ]
  },
  {
   "cell_type": "code",
   "execution_count": 6,
   "metadata": {},
   "outputs": [
    {
     "name": "stdout",
     "output_type": "stream",
     "text": [
      "Graph contains a negative cycle\n"
     ]
    }
   ],
   "source": [
    "# for disconnected Graph\n",
    "class Graph:\n",
    "    def __init__(self,v):\n",
    "        self.v=v\n",
    "        self.graph=[]\n",
    "\n",
    "    def addEdge(self,u,v,w):\n",
    "        self.graph.append([u,v,w])\n",
    "\n",
    "    def detectNegativeCycle(self):\n",
    "        visited=[False]*self.v\n",
    "        distance=[float('infinity')]*self.v\n",
    "        distance[0]=0\n",
    "        # visited[0]=True\n",
    "        for i in range(self.v):\n",
    "            if visited[i]==False:\n",
    "                if self.detectNegativeCycleUtil(i,visited,distance):\n",
    "                    return True\n",
    "        return False\n",
    "\n",
    "    def detectNegativeCycleUtil(self,source,visited,distance):\n",
    "        for _ in range(self.v-1):\n",
    "            for u,v,w in self.graph:\n",
    "                if distance[u]!=float('infinity') and distance[v]>distance[u]+w:\n",
    "                    distance[v]=distance[u]+w\n",
    "                    visited[v]=True\n",
    "        for u,v,w in self.graph:\n",
    "            if distance[u]!=float('infinity') and distance[v]>distance[u]+w:\n",
    "                # distance[v]=distance[u]+w\n",
    "                # visited[v]=True\n",
    "                return True\n",
    "        return False\n",
    "\n",
    "if __name__ == '__main__':\n",
    "    # g=Graph(5)\n",
    "    # g.addEdge(0,1,-1)\n",
    "    # g.addEdge(0,2,4)\n",
    "    # g.addEdge(1,2,3)\n",
    "    # g.addEdge(1,3,2)\n",
    "    # g.addEdge(1,4,2)\n",
    "    # g.addEdge(3,2,5)\n",
    "    # g.addEdge(3,1,1)\n",
    "    # g.addEdge(4,3,-3)\n",
    "    g=Graph(4)\n",
    "    g.addEdge(0,1,1)\n",
    "    g.addEdge(1,2,-1)\n",
    "    g.addEdge(2,3,-1)\n",
    "    g.addEdge(3,0,-1)\n",
    "    if g.detectNegativeCycle():\n",
    "        print('Graph contains a negative cycle')\n",
    "    else:\n",
    "        print('Graph does not contain a negative cycle')\n"
   ]
  },
  {
   "cell_type": "markdown",
   "metadata": {},
   "source": [
    "# Cycles of length n in an undirected and connected graph"
   ]
  },
  {
   "cell_type": "markdown",
   "metadata": {},
   "source": [
    "Given an undirected and connected graph and a number n, count total number of cycles of length n in the graph. A cycle of length n simply means that the cycle contains n vertices and n edges. And we have to count all such cycles that exist."
   ]
  },
  {
   "cell_type": "markdown",
   "metadata": {},
   "source": [
    "To solve this Problem, DFS(Depth First Search) can be effectively used. Using DFS we find every possible path of length (n-1) for a particular source (or starting point). Then we check if this path ends with the vertex it started with, if yes then we count this as the cycle of length n. Notice that we looked for path of length (n-1) because the nth edge will be the closing edge of cycle.\n",
    "\n",
    "Every possible path of length (n-1) can be searched using only V – (n – 1) vertices (where V is the total number of vertices).\n",
    "For above example, all the cycles of length 4 can be searched using only 5-(4-1) = 2 vertices. The reason behind this is quite simple, because we search for all possible path of length (n-1) = 3 using these 2 vertices which include the remaining 3 vertices. So, these 2 vertices cover the cycles of remaining 3 vertices as well, and using only 3 vertices we can’t form a cycle of length 4 anyways.\n",
    "\n",
    "One more thing to notice is that, every vertex finds 2 duplicate cycles for every cycle that it forms. For above example 0th vertex finds two duplicate cycle namely 0 -> 3 -> 2 -> 1 -> 0 and 0 -> 1 -> 2 -> 3 -> 0. Hence the total count must be divided by 2 because every cycle is counted twice."
   ]
  },
  {
   "cell_type": "code",
   "execution_count": 1,
   "metadata": {},
   "outputs": [
    {
     "name": "stdout",
     "output_type": "stream",
     "text": [
      "3\n"
     ]
    }
   ],
   "source": [
    "def findCycles(graph,n,v):\n",
    "    # stack=[]\n",
    "    visited=[False]*v\n",
    "    count=0\n",
    "    for i in range(v-(n-1)):\n",
    "        count=dfs(graph,n-1,i,i,visited,count)\n",
    "        visited[i]=True\n",
    "    return count//2\n",
    "\n",
    "def dfs(graph,n,vertex,start,visited,count):\n",
    "    # stack.append(vertex)\n",
    "    visited[vertex]=True\n",
    "    if n==0:\n",
    "        visited[vertex]=False\n",
    "        if graph[vertex][start]==1:\n",
    "            # print(stack)\n",
    "            count+=1\n",
    "            # stack.pop()\n",
    "            return count\n",
    "        # stack.pop()\n",
    "        return count\n",
    "\n",
    "    for i in range(v):\n",
    "        if visited[i]==False and graph[vertex][i]==1:\n",
    "            count=dfs(graph,n-1,i,start,visited,count)\n",
    "    visited[vertex]=False\n",
    "    return count\n",
    "\n",
    "\n",
    "if __name__ == '__main__':\n",
    "    graph = [[0, 1, 0, 1, 0], [1 ,0 ,1 ,0, 1], [0, 1, 0, 1, 0], [1, 0, 1, 0, 1], [0, 1, 0, 1, 0]]\n",
    "    n=4\n",
    "    v=5\n",
    "    print(findCycles(graph,n,v))\n"
   ]
  },
  {
   "cell_type": "markdown",
   "metadata": {},
   "source": [
    "# Floyd Warshal Algorithm - All pair shortest Path algorithm"
   ]
  },
  {
   "cell_type": "markdown",
   "metadata": {},
   "source": [
    "We initialize the solution matrix same as the input graph matrix as a first step. Then we update the solution matrix by considering all vertices as an intermediate vertex. The idea is to one by one pick all vertices and updates all shortest paths which include the picked vertex as an intermediate vertex in the shortest path. When we pick vertex number k as an intermediate vertex, we already have considered vertices {0, 1, 2, .. k-1} as intermediate vertices. For every pair (i, j) of the source and destination vertices respectively, there are two possible cases.\n",
    "1) k is not an intermediate vertex in shortest path from i to j. We keep the value of dist[i][j] as it is.\n",
    "2) k is an intermediate vertex in shortest path from i to j. We update the value of dist[i][j] as dist[i][k] + dist[k][j] if dist[i][j] > dist[i][k] + dist[k][j]"
   ]
  },
  {
   "cell_type": "code",
   "execution_count": 1,
   "metadata": {},
   "outputs": [
    {
     "name": "stdout",
     "output_type": "stream",
     "text": [
      "[0, 5, 8, 9]\n",
      "[inf, 0, 3, 4]\n",
      "[inf, inf, 0, 1]\n",
      "[inf, inf, inf, 0]\n"
     ]
    }
   ],
   "source": [
    "def allPairShortestPath(graph):\n",
    "    v=len(graph)\n",
    "    distance=[[graph[i][j] for j in range(v)]for i in range(v)]\n",
    "    for k in range(v):\n",
    "        for i in range(v):\n",
    "            for j in range(v):\n",
    "                if distance[i][j]>distance[i][k]+distance[k][j]:\n",
    "                    distance[i][j]=distance[i][k]+distance[k][j]\n",
    "    return distance\n",
    "\n",
    "if __name__ == '__main__':\n",
    "    INF=float('infinity')\n",
    "    graph=[[0,5,INF,10], [INF,0,3,INF],[INF, INF, 0,   1], [INF, INF, INF, 0]]\n",
    "    result=allPairShortestPath(graph)\n",
    "    for i in range(len(result)):\n",
    "        print(result[i])\n"
   ]
  },
  {
   "cell_type": "markdown",
   "metadata": {},
   "source": [
    "Time Complexity - O(n^3)"
   ]
  },
  {
   "cell_type": "markdown",
   "metadata": {},
   "source": [
    "# Finding sortest path between any two nodes using Floyd Warshall Algorithm/"
   ]
  },
  {
   "cell_type": "markdown",
   "metadata": {},
   "source": [
    "The main idea here is to use a matrix(2D array) that will keep track of the next node to point if the shortest path changes for any pair of nodes. Initially, the shortest path between any two nodes u and v is v (that is the direct edge from u -> v).\n",
    "Initialising the Next array\n",
    "If the path exists between two nodes then Next[u][v] = v\n",
    "else we set Next[u][v] = -1\n",
    "\n",
    "Modification in Floyd Warshall Algorithm\n",
    "Inside the if condition of Floyd Warshall Algorithm we’ll add a statement Next[i][j] = Next[i][k]\n",
    "(that means we found the shortest path between i, j through an intermediate node k).\n",
    "\n"
   ]
  },
  {
   "cell_type": "code",
   "execution_count": 2,
   "metadata": {},
   "outputs": [
    {
     "name": "stdout",
     "output_type": "stream",
     "text": [
      "[0, 3, 5, 6]\n",
      "[5, 0, 2, 3]\n",
      "[3, 6, 0, 1]\n",
      "[2, 5, 7, 0]\n",
      "\n",
      "[1, 2, 3]\n"
     ]
    }
   ],
   "source": [
    "def allPairShortestPath(graph):\n",
    "    v=len(graph)\n",
    "    distance=[[graph[i][j] for j in range(v)]for i in range(v)]\n",
    "    next=[[-1 for j in range(v)]for i in range(v)]\n",
    "    for i in range(v):\n",
    "        for j in range(v):\n",
    "            if graph[i][j]!=float('infinity'):\n",
    "                next[i][j]=j\n",
    "    for k in range(v):\n",
    "        for i in range(v):\n",
    "            for j in range(v):\n",
    "                if distance[i][j]>distance[i][k]+distance[k][j]:\n",
    "                    distance[i][j]=distance[i][k]+distance[k][j]\n",
    "                    next[i][j]=next[i][k]\n",
    "    return (distance,next)\n",
    "\n",
    "def constructPath(u, v, next):\n",
    "    if next[u][v]==-1:\n",
    "        return -1\n",
    "    path=[]\n",
    "    path.append(u)\n",
    "    while u!=v:\n",
    "        u=next[u][v]\n",
    "        path.append(u)\n",
    "    return path\n",
    "\n",
    "\n",
    "if __name__ == '__main__':\n",
    "    INF=float('infinity')\n",
    "    graph=[[0,3,INF,7], [8,0,2,INF],[5, INF, 0,   1], [2, INF, INF, 0]]\n",
    "    result=allPairShortestPath(graph)\n",
    "    distance=result[0]\n",
    "    next=result[1]\n",
    "    for i in range(len(distance)):\n",
    "        print(distance[i])\n",
    "    # for i in range(len(next)):\n",
    "    #     print(next[i])\n",
    "    print()\n",
    "    path=constructPath(1,3,next)\n",
    "    print(path)\n"
   ]
  },
  {
   "cell_type": "markdown",
   "metadata": {},
   "source": [
    "Time Complexity -> O(v^3)"
   ]
  },
  {
   "cell_type": "markdown",
   "metadata": {},
   "source": [
    "# Detecting negative cycle using Floyd Warshall"
   ]
  },
  {
   "cell_type": "markdown",
   "metadata": {},
   "source": [
    "Distance of any node from itself is always zero. But in some cases, as in this example, when we traverse further from 4 to 1, the distance comes out to be -2, i.e. distance of 1 from 1 will become -2. This is our catch, we just have to check the nodes distance from itself and if it comes out to be negative, we will detect the required negative cycle."
   ]
  },
  {
   "cell_type": "code",
   "execution_count": 1,
   "metadata": {},
   "outputs": [
    {
     "name": "stdout",
     "output_type": "stream",
     "text": [
      "True\n"
     ]
    }
   ],
   "source": [
    "def isNegativeCycle(graph):\n",
    "    v=len(graph)\n",
    "    distance=[[graph[i][j] for j in range(v)]for i in range(v)]\n",
    "    for k in range(v):\n",
    "        for i in range(v):\n",
    "            for j in range(v):\n",
    "                if distance[i][j]>distance[i][k]+distance[k][j]:\n",
    "                    distance[i][j]=distance[i][k]+distance[k][j]\n",
    "    for i in range(v):\n",
    "        if distance[i][i]<0:\n",
    "            return True\n",
    "    return False\n",
    "\n",
    "if __name__ == '__main__':\n",
    "    INF=float('infinity')\n",
    "    graph=[ [0, 1, INF, INF],[INF, 0, -1, INF],[INF, INF, 0, -1],[-1, INF, INF, 0]]\n",
    "    print(isNegativeCycle(graph))\n"
   ]
  },
  {
   "cell_type": "markdown",
   "metadata": {},
   "source": [
    "# Check if a graphs has a cycle of odd length"
   ]
  },
  {
   "cell_type": "markdown",
   "metadata": {},
   "source": [
    "The idea is based on an important fact that a graph does not contain a cycle of odd length if and only if it is Bipartite, i.e., it can be colored with two colors."
   ]
  },
  {
   "cell_type": "markdown",
   "metadata": {},
   "source": [
    "It is obvious that if a graph has an odd length cycle then it cannot be Bipartite. In Bipartite graph there are two sets of vertices such that no vertex in a set is connected with any other vertex of the same set). For a cycle of odd length, two vertices must of the same set be connected which contradicts Bipartite definition."
   ]
  },
  {
   "cell_type": "code",
   "execution_count": null,
   "metadata": {},
   "outputs": [],
   "source": []
  }
 ],
 "metadata": {
  "kernelspec": {
   "display_name": "Python 3",
   "language": "python",
   "name": "python3"
  },
  "language_info": {
   "codemirror_mode": {
    "name": "ipython",
    "version": 3
   },
   "file_extension": ".py",
   "mimetype": "text/x-python",
   "name": "python",
   "nbconvert_exporter": "python",
   "pygments_lexer": "ipython3",
   "version": "3.7.6"
  }
 },
 "nbformat": 4,
 "nbformat_minor": 4
}
