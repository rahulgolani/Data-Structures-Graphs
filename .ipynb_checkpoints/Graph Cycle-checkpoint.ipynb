{
 "cells": [
  {
   "cell_type": "markdown",
   "metadata": {},
   "source": [
    "# Detect Cycle in a Directed Graph"
   ]
  },
  {
   "cell_type": "markdown",
   "metadata": {},
   "source": [
    "Depth First Traversal can be used to detect a cycle in a Graph. DFS for a connected graph produces a tree. There is a cycle in a graph only if there is a back edge present in the graph. A back edge is an edge that is from a node to itself (self-loop) or node to one of its ancestors in the tree produced by DFS."
   ]
  },
  {
   "cell_type": "markdown",
   "metadata": {},
   "source": [
    "For a disconnected graph, Get the DFS forest as output. To detect cycle, check for a cycle in individual trees by checking back edges."
   ]
  },
  {
   "cell_type": "markdown",
   "metadata": {},
   "source": [
    "To detect a back edge, keep track of vertices currently in the recursion stack of function for DFS traversal. If a vertex is reached that is already in the recursion stack, then there is a cycle in the tree. The edge that connects the current vertex to the vertex in the recursion stack is a back edge. Use recStack[] array to keep track of vertices in the recursion stack."
   ]
  },
  {
   "cell_type": "code",
   "execution_count": 5,
   "metadata": {},
   "outputs": [
    {
     "name": "stdout",
     "output_type": "stream",
     "text": [
      "True\n"
     ]
    }
   ],
   "source": [
    "from collections import defaultdict\n",
    "class Graph:\n",
    "    def __init__(self,v):\n",
    "        self.v=v\n",
    "        self.graph=defaultdict(list)\n",
    "    \n",
    "    def addEdge(self,u,v):\n",
    "        self.graph[u].append(v)\n",
    "    \n",
    "    def isCyclic(self):\n",
    "        visited=[False]*self.v\n",
    "        recStack=[False]*self.v\n",
    "        for i in range(self.v):\n",
    "            if self.isCyclicUtil(i,visited,recStack):\n",
    "                return True\n",
    "        return False\n",
    "    \n",
    "    def isCyclicUtil(self,node,visited,recStack):\n",
    "        visited[node]=True\n",
    "        recStack[node]=True\n",
    "        for i in self.graph[node]:\n",
    "            if visited[i]==False:\n",
    "                if self.isCyclicUtil(i,visited,recStack):\n",
    "                    return True\n",
    "            elif recStack[i]==True:\n",
    "                return True\n",
    "        \n",
    "        recStack[node]=False\n",
    "        return False\n",
    "    \n",
    "if __name__==\"__main__\":\n",
    "    g=Graph(4)\n",
    "    g.addEdge(0,1)\n",
    "    g.addEdge(0,2)\n",
    "    g.addEdge(1,2)\n",
    "    g.addEdge(2,0)\n",
    "    g.addEdge(2,3)\n",
    "    g.addEdge(3,3)\n",
    "#     g.addEdge(0,1)\n",
    "#     g.addEdge(0,2)\n",
    "#     g.addEdge(1,2)\n",
    "# #     g.addEdge(2,0)\n",
    "#     g.addEdge(2,3)\n",
    "# #     g.addEdge(3,3)\n",
    "    print(g.isCyclic())"
   ]
  },
  {
   "cell_type": "markdown",
   "metadata": {},
   "source": [
    "Time Complexity ->O(v+e) and space complexity-> O(v) for visited and recStack"
   ]
  },
  {
   "cell_type": "markdown",
   "metadata": {},
   "source": [
    "# Detect cycle in an undirected graph"
   ]
  },
  {
   "cell_type": "code",
   "execution_count": 2,
   "metadata": {},
   "outputs": [
    {
     "name": "stdout",
     "output_type": "stream",
     "text": [
      "True\n"
     ]
    }
   ],
   "source": [
    "from collections import defaultdict\n",
    "class Graph:\n",
    "\n",
    "    def __init__(self,v):\n",
    "        self.v=v\n",
    "        self.graph=defaultdict(list)\n",
    "\n",
    "    def addEdge(self,u,v):\n",
    "        self.graph[u].append(v)\n",
    "        self.graph[v].append(u)\n",
    "\n",
    "    def isCyclicUtil(self,node,visited,parent):\n",
    "        visited[node]=True\n",
    "        for i in self.graph[node]:\n",
    "            if visited[i]==False:\n",
    "                if self.isCyclicUtil(i,visited,node):\n",
    "                    return True\n",
    "            elif parent!=i:\n",
    "                return True\n",
    "\n",
    "    def isCyclic(self):\n",
    "        visited=[False]*self.v\n",
    "        for i in range(self.v):\n",
    "            if visited[i]==False:\n",
    "                if self.isCyclicUtil(i,visited,-1):\n",
    "                    return True\n",
    "        return False\n",
    "\n",
    "if __name__ == '__main__':\n",
    "    g=Graph(5)\n",
    "    g.addEdge(1,0)\n",
    "    g.addEdge(0,2)\n",
    "    g.addEdge(2,0)\n",
    "    g.addEdge(0,3)\n",
    "    g.addEdge(3,4)\n",
    "\n",
    "    # g=Graph(3)\n",
    "    # g.addEdge(0,1)\n",
    "    # g.addEdge(1,2)\n",
    "    print(g.isCyclic())\n"
   ]
  },
  {
   "cell_type": "markdown",
   "metadata": {},
   "source": [
    "Time Complexity -> O(V+E) and Space Complexity -> O(V) for visited"
   ]
  },
  {
   "cell_type": "markdown",
   "metadata": {},
   "source": [
    "# Detect Cycle in a directed graph using colors"
   ]
  },
  {
   "cell_type": "markdown",
   "metadata": {},
   "source": [
    "The idea is to do DFS of a given graph and while doing traversal, assign one of the below three colours to every vertex."
   ]
  },
  {
   "cell_type": "markdown",
   "metadata": {},
   "source": [
    "<pre>\n",
    "<strong>WHITE :</strong> Vertex is not processed yet. Initially, all vertices are WHITE.\n",
    "\n",
    "<strong>GRAY:</strong> Vertex is being processed (DFS for this vertex has started, but not finished which means that all descendants (in DFS tree) of this vertex are not processed yet (or this vertex is in the function call stack)\n",
    "\n",
    "<strong>BLACK :</strong> Vertex and all its descendants are processed. While doing DFS, if an edge is encountered from current vertex to a GRAY vertex, then this edge is back edge and hence there is a cycle.\n",
    "\n",
    "</pre>"
   ]
  },
  {
   "cell_type": "code",
   "execution_count": 1,
   "metadata": {},
   "outputs": [
    {
     "name": "stdout",
     "output_type": "stream",
     "text": [
      "True\n"
     ]
    }
   ],
   "source": [
    "from collections import defaultdict\n",
    "class Graph:\n",
    "    def __init__(self,v):\n",
    "        self.v=v\n",
    "        self.graph=defaultdict(list)\n",
    "\n",
    "    def addEdge(self,u,v):\n",
    "        self.graph[u].append(v)\n",
    "\n",
    "    def isCyclicUtil(self,node,color):\n",
    "        color[node]='GRAY'\n",
    "        for i in self.graph[node]:\n",
    "            if color[i]=='GRAY':\n",
    "                return True\n",
    "            elif color[i]=='WHITE':\n",
    "                if self.isCyclicUtil(i,color):\n",
    "                    return True\n",
    "        color[node]='BLACK'\n",
    "        return False\n",
    "\n",
    "    def isCyclic(self):\n",
    "        color=['WHITE']*self.v\n",
    "        for i in range(self.v):\n",
    "            if color[i]=='WHITE':\n",
    "                if self.isCyclicUtil(i,color):\n",
    "                    return True\n",
    "        return False\n",
    "\n",
    "if __name__ == '__main__':\n",
    "    g=Graph(4)\n",
    "    g.addEdge(0,1)\n",
    "    g.addEdge(0,2)\n",
    "    g.addEdge(1,2)\n",
    "    g.addEdge(2,0)\n",
    "    g.addEdge(2,3)\n",
    "    g.addEdge(3,3)\n",
    "    print(g.isCyclic())\n"
   ]
  },
  {
   "cell_type": "markdown",
   "metadata": {},
   "source": [
    "# Assign directions to edges so that the directed graph remains acyclic"
   ]
  },
  {
   "cell_type": "markdown",
   "metadata": {},
   "source": [
    "Given a graph with both directed and undirected edges. It is given that the directed edges don’t form cycle. How to assign directions to undirected edges so that the graph (with all directed edges) remains acyclic even after the assignment?"
   ]
  },
  {
   "cell_type": "markdown",
   "metadata": {},
   "source": [
    "Approach-> Use topological sorting with directed edges, find the order in which the edges should be to avoid the cycle, then on the basis of that ordering, choose the direction of the edges"
   ]
  },
  {
   "cell_type": "code",
   "execution_count": 1,
   "metadata": {},
   "outputs": [
    {
     "name": "stdout",
     "output_type": "stream",
     "text": [
      "Adding edge 0 to 3\n",
      "Adding edge 5 to 4\n",
      "Adding edge 0 to 2\n"
     ]
    }
   ],
   "source": [
    "from collections import defaultdict\n",
    "class Graph:\n",
    "    def __init__(self,v):\n",
    "        self.v=v\n",
    "        self.graph=defaultdict(list)\n",
    "\n",
    "    def addEdge(self,u,v):\n",
    "        self.graph[u].append(v)\n",
    "\n",
    "    def getTopologicalSortOrderUtil(self,node,visited,stack):\n",
    "        visited[node]=True\n",
    "        for i in self.graph[node]:\n",
    "            if visited[i]==False:\n",
    "                self.getTopologicalSortOrderUtil(i,visited,stack)\n",
    "        stack.insert(0,node)\n",
    "\n",
    "    def getTopologicalSortOrder(self):\n",
    "        visited=[False]*self.v\n",
    "        stack=[]\n",
    "        for i in range(self.v):\n",
    "            if visited[i]==False:\n",
    "                self.getTopologicalSortOrderUtil(i,visited,stack)\n",
    "        return stack\n",
    "\n",
    "    def addDirectionsToEdges(self,edges):\n",
    "        order=self.getTopologicalSortOrder()\n",
    "        # print(order)\n",
    "        orderDict={}\n",
    "        for i in range(len(order)):\n",
    "            orderDict[order[i]]=i\n",
    "        for i in range(len(edges)):\n",
    "            x=edges[i][0]\n",
    "            y=edges[i][1]\n",
    "            if orderDict[x]<orderDict[y]:\n",
    "                print(f\"Adding edge {x} to {y}\")\n",
    "                self.addEdge(x,y)\n",
    "            else:\n",
    "                print(f\"Adding edge {y} to {x}\")\n",
    "                self.addEdge(y,x)\n",
    "\n",
    "if __name__ == '__main__':\n",
    "    g=Graph(6)\n",
    "    g.addEdge(0,1)\n",
    "    g.addEdge(0,5)\n",
    "    g.addEdge(1,3)\n",
    "    g.addEdge(1,4)\n",
    "    g.addEdge(1,2)\n",
    "    g.addEdge(2,3)\n",
    "    g.addEdge(2,4)\n",
    "    g.addEdge(3,4)\n",
    "    g.addEdge(5,2)\n",
    "    g.addEdge(5,1)\n",
    "    edges=[(0,3),(4,5),(0,2)]\n",
    "    g.addDirectionsToEdges(edges)\n"
   ]
  },
  {
   "cell_type": "markdown",
   "metadata": {},
   "source": [
    "Time complexity-> O(V+E)"
   ]
  },
  {
   "cell_type": "code",
   "execution_count": null,
   "metadata": {},
   "outputs": [],
   "source": []
  }
 ],
 "metadata": {
  "kernelspec": {
   "display_name": "Python 3",
   "language": "python",
   "name": "python3"
  },
  "language_info": {
   "codemirror_mode": {
    "name": "ipython",
    "version": 3
   },
   "file_extension": ".py",
   "mimetype": "text/x-python",
   "name": "python",
   "nbconvert_exporter": "python",
   "pygments_lexer": "ipython3",
   "version": "3.7.6"
  }
 },
 "nbformat": 4,
 "nbformat_minor": 4
}
