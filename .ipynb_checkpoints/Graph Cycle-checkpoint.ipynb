{
 "cells": [
  {
   "cell_type": "markdown",
   "metadata": {},
   "source": [
    "# Detect Cycle in a Directed Graph"
   ]
  },
  {
   "cell_type": "markdown",
   "metadata": {},
   "source": [
    "Depth First Traversal can be used to detect a cycle in a Graph. DFS for a connected graph produces a tree. There is a cycle in a graph only if there is a back edge present in the graph. A back edge is an edge that is from a node to itself (self-loop) or node to one of its ancestors in the tree produced by DFS."
   ]
  },
  {
   "cell_type": "markdown",
   "metadata": {},
   "source": [
    "For a disconnected graph, Get the DFS forest as output. To detect cycle, check for a cycle in individual trees by checking back edges."
   ]
  },
  {
   "cell_type": "markdown",
   "metadata": {},
   "source": [
    "To detect a back edge, keep track of vertices currently in the recursion stack of function for DFS traversal. If a vertex is reached that is already in the recursion stack, then there is a cycle in the tree. The edge that connects the current vertex to the vertex in the recursion stack is a back edge. Use recStack[] array to keep track of vertices in the recursion stack."
   ]
  },
  {
   "cell_type": "code",
   "execution_count": 5,
   "metadata": {},
   "outputs": [
    {
     "name": "stdout",
     "output_type": "stream",
     "text": [
      "True\n"
     ]
    }
   ],
   "source": [
    "from collections import defaultdict\n",
    "class Graph:\n",
    "    def __init__(self,v):\n",
    "        self.v=v\n",
    "        self.graph=defaultdict(list)\n",
    "    \n",
    "    def addEdge(self,u,v):\n",
    "        self.graph[u].append(v)\n",
    "    \n",
    "    def isCyclic(self):\n",
    "        visited=[False]*self.v\n",
    "        recStack=[False]*self.v\n",
    "        for i in range(self.v):\n",
    "            if self.isCyclicUtil(i,visited,recStack):\n",
    "                return True\n",
    "        return False\n",
    "    \n",
    "    def isCyclicUtil(self,node,visited,recStack):\n",
    "        visited[node]=True\n",
    "        recStack[node]=True\n",
    "        for i in self.graph[node]:\n",
    "            if visited[i]==False:\n",
    "                if self.isCyclicUtil(i,visited,recStack):\n",
    "                    return True\n",
    "            elif recStack[i]==True:\n",
    "                return True\n",
    "        \n",
    "        recStack[node]=False\n",
    "        return False\n",
    "    \n",
    "if __name__==\"__main__\":\n",
    "    g=Graph(4)\n",
    "    g.addEdge(0,1)\n",
    "    g.addEdge(0,2)\n",
    "    g.addEdge(1,2)\n",
    "    g.addEdge(2,0)\n",
    "    g.addEdge(2,3)\n",
    "    g.addEdge(3,3)\n",
    "#     g.addEdge(0,1)\n",
    "#     g.addEdge(0,2)\n",
    "#     g.addEdge(1,2)\n",
    "# #     g.addEdge(2,0)\n",
    "#     g.addEdge(2,3)\n",
    "# #     g.addEdge(3,3)\n",
    "    print(g.isCyclic())"
   ]
  },
  {
   "cell_type": "code",
   "execution_count": null,
   "metadata": {},
   "outputs": [],
   "source": []
  }
 ],
 "metadata": {
  "kernelspec": {
   "display_name": "Python 3",
   "language": "python",
   "name": "python3"
  },
  "language_info": {
   "codemirror_mode": {
    "name": "ipython",
    "version": 3
   },
   "file_extension": ".py",
   "mimetype": "text/x-python",
   "name": "python",
   "nbconvert_exporter": "python",
   "pygments_lexer": "ipython3",
   "version": "3.7.6"
  }
 },
 "nbformat": 4,
 "nbformat_minor": 4
}
