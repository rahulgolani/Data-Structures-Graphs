{
 "cells": [
  {
   "cell_type": "markdown",
   "metadata": {},
   "source": [
    "# Dijkstra’s shortest path algorithm"
   ]
  },
  {
   "cell_type": "markdown",
   "metadata": {},
   "source": [
    "TO DO"
   ]
  },
  {
   "cell_type": "markdown",
   "metadata": {},
   "source": [
    "# Bellman–Ford Algorithm"
   ]
  },
  {
   "cell_type": "markdown",
   "metadata": {},
   "source": [
    "Single source shortest path algorithm"
   ]
  },
  {
   "cell_type": "markdown",
   "metadata": {},
   "source": [
    "works for negative edges and suits ell for distribted systems"
   ]
  },
  {
   "cell_type": "markdown",
   "metadata": {},
   "source": [
    "1) This step initializes distances from the source to all vertices as infinite and distance to the source itself as 0. Create an array dist[] of size |V| with all values as infinite except dist[src] where src is source vertex.\n",
    "\n",
    "2) This step calculates shortest distances. Do following |V|-1 times where |V| is the number of vertices in given graph.\n",
    "…..a) Do following for each edge u-v\n",
    "………………If dist[v] > dist[u] + weight of edge uv, then update dist[v]\n",
    "………………….dist[v] = dist[u] + weight of edge uv\n",
    "\n",
    "\n",
    "\n",
    "\n",
    "3) This step reports if there is a negative weight cycle in graph. Do following for each edge u-v\n",
    "……If dist[v] > dist[u] + weight of edge uv, then “Graph contains negative weight cycle”\n",
    "The idea of step 3 is, step 2 guarantees the shortest distances if the graph doesn’t contain a negative weight cycle. If we iterate through all edges one more time and get a shorter path for any vertex, then there is a negative weight cycle"
   ]
  },
  {
   "cell_type": "code",
   "execution_count": 3,
   "metadata": {},
   "outputs": [
    {
     "name": "stdout",
     "output_type": "stream",
     "text": [
      "0 -> 0\n",
      "1 -> -1\n",
      "2 -> 2\n",
      "3 -> -2\n",
      "4 -> 1\n"
     ]
    }
   ],
   "source": [
    "from collections import defaultdict\n",
    "class Graph:\n",
    "    def __init__(self,v):\n",
    "        self.v=v\n",
    "        self.graph=[]\n",
    "        self.graph=defaultdict(list)\n",
    "\n",
    "    def addEdge(self,u,v,w):\n",
    "        # self.graph.append([u,v,w])\n",
    "        self.graph[u].append([v,w])\n",
    "\n",
    "    def findShortestPath(self,source):\n",
    "        distance=[float('infinity')]*self.v\n",
    "        distance[source]=0\n",
    "        for _ in range(self.v-1):\n",
    "            for u in range(self.v):\n",
    "                for v,w in self.graph[u]:\n",
    "                    if distance[u]!=float('infinity') and distance[v]>distance[u]+w:\n",
    "                        distance[v]=distance[u]+w\n",
    "            # for u,v,w in self.graph:\n",
    "            #     if distance[u]!=float('infinity') and distance[v]>distance[u]+w:\n",
    "            #         distance[v]=distance[u]+w\n",
    "        for u in range(self.v):\n",
    "            for v,w in self.graph[u]:\n",
    "                if distance[u]!=float('infinity') and distance[v]>distance[u]+w:\n",
    "                    print('-ve cycle')\n",
    "                    return\n",
    "\n",
    "#         for u,v,w in self.graph:\n",
    "#             if distance[u]!=float('infinity') and distance[v]>distance[u]+w:\n",
    "#                 print('Negative Cycle present')\n",
    "#                 return\n",
    "\n",
    "        self.printDistance(distance)\n",
    "\n",
    "\n",
    "    def printDistance(self,distance):\n",
    "        for i in range(len(distance)):\n",
    "            print(f\"{i} -> {distance[i]}\")\n",
    "\n",
    "if __name__ == '__main__':\n",
    "    g=Graph(5)\n",
    "    g.addEdge(0, 1, -1)\n",
    "    g.addEdge(0, 2, 4)\n",
    "    g.addEdge(1, 2, 3)\n",
    "    g.addEdge(1, 3, 2)\n",
    "    g.addEdge(1, 4, 2)\n",
    "    g.addEdge(3, 2, 5)\n",
    "    g.addEdge(3, 1, 1)\n",
    "    g.addEdge(4, 3, -3)\n",
    "    g.findShortestPath(0)\n"
   ]
  },
  {
   "cell_type": "markdown",
   "metadata": {},
   "source": [
    "Time Complexity O(VE) "
   ]
  },
  {
   "cell_type": "markdown",
   "metadata": {},
   "source": [
    "# Floyd Warshall Algorithm"
   ]
  },
  {
   "cell_type": "markdown",
   "metadata": {},
   "source": [
    "All Pairs Shortest Path problem"
   ]
  },
  {
   "cell_type": "code",
   "execution_count": 4,
   "metadata": {},
   "outputs": [
    {
     "name": "stdout",
     "output_type": "stream",
     "text": [
      "[0, 5, 8, 9]\n",
      "[inf, 0, 3, 4]\n",
      "[inf, inf, 0, 1]\n",
      "[inf, inf, inf, 0]\n"
     ]
    }
   ],
   "source": [
    "def allPairShortestPath(graph):\n",
    "    v=len(graph)\n",
    "    distance=[[graph[i][j] for j in range(v)]for i in range(v)]\n",
    "    # intermediate vertex k\n",
    "    for k in range(v):\n",
    "        # source vertex i\n",
    "        for i in range(v):\n",
    "            # destination vertex j\n",
    "            for j in range(v):\n",
    "                if distance[i][j]>distance[i][k]+distance[k][j]:\n",
    "                    distance[i][j]=distance[i][k]+distance[k][j]\n",
    "    return distance\n",
    "\n",
    "if __name__ == '__main__':\n",
    "    INF=float('infinity')\n",
    "    graph=[[0,5,INF,10], [INF,0,3,INF],[INF, INF, 0,   1], [INF, INF, INF, 0]]\n",
    "    result=allPairShortestPath(graph)\n",
    "    for i in range(len(result)):\n",
    "        print(result[i])\n"
   ]
  },
  {
   "cell_type": "markdown",
   "metadata": {},
   "source": [
    "Time Complexity O(V^3)"
   ]
  },
  {
   "cell_type": "markdown",
   "metadata": {},
   "source": [
    "# Johnson’s algorithm for All-pairs shortest paths"
   ]
  },
  {
   "cell_type": "markdown",
   "metadata": {},
   "source": [
    "Time complexity of Floyd Warshall Algorithm is Θ(V3)"
   ]
  },
  {
   "cell_type": "markdown",
   "metadata": {},
   "source": [
    "Using Johnson’s algorithm, we can find all pair shortest paths in O(V2log V + VE) time. Johnson’s algorithm uses both Dijkstra and Bellman-Ford as subroutines."
   ]
  },
  {
   "cell_type": "markdown",
   "metadata": {},
   "source": [
    "If we apply Dijkstra’s Single Source shortest path algorithm for every vertex, considering every vertex as source, we can find all pair shortest paths in O(V*VLogV) time. So using Dijkstra’s single source shortest path seems to be a better option than Floyd Warshell, but the problem with Dijkstra’s algorithm is, it doesn’t work for negative weight edge."
   ]
  },
  {
   "cell_type": "markdown",
   "metadata": {},
   "source": [
    "The idea of Johnson’s algorithm is to re-weight all edges and make them all positive, then apply Dijkstra’s algorithm for every vertex."
   ]
  },
  {
   "cell_type": "markdown",
   "metadata": {},
   "source": [
    "<strong>The idea of Johnson’s algorithm is to assign a weight to every vertex.</strong> \n",
    "\n",
    "Let the weight assigned to vertex u be h[u]. We reweight edges using vertex weights. For example, for an edge (u, v) of weight w(u, v), the new weight becomes w(u, v) + h[u] – h[v]. The great thing about this reweighting is, all set of paths between any two vertices are increased by same amount and all negative weights become non-negative. Consider any path between two vertices s and t, weight of every path is increased by h[s] – h[t], all h[] values of vertices on path from s to t cancel each other."
   ]
  },
  {
   "cell_type": "markdown",
   "metadata": {},
   "source": [
    "<strong>How do we calculate h[] values?</strong> \n",
    "\n",
    "Bellman-Ford algorithm is used for this purpose. Following is the complete algorithm. A new vertex is added to the graph and connected to all existing vertices. The shortest distance values from new vertex to all existing vertices are h[] values"
   ]
  },
  {
   "cell_type": "markdown",
   "metadata": {},
   "source": [
    "1) Let the given graph be G. Add a new vertex s to the graph, add edges from new vertex to all vertices of G. Let the modified graph be G’.\n",
    "\n",
    "2) Run Bellman-Ford algorithm on G’ with s as source. Let the distances calculated by Bellman-Ford be h[0], h[1], .. h[V-1]. If we find a negative weight cycle, then return. Note that the negative weight cycle cannot be created by new vertex s as there is no edge to s. All edges are from s.\n",
    "\n",
    "3) Reweight the edges of original graph. For each edge (u, v), assign the new weight as “original weight + h[u] – h[v]”.\n",
    "\n",
    "4) Remove the added vertex s and run Dijkstra’s algorithm for every vertex."
   ]
  },
  {
   "cell_type": "markdown",
   "metadata": {},
   "source": [
    "<strong>How does the transformation ensure nonnegative weight edges?</strong>\n",
    "\n",
    "\n",
    "The following property is always true about h[] values as they are shortest distances.\n",
    "\n",
    "   h[v] <= h[u] + w(u, v) \n",
    "The property simply means, shortest distance from s to v must be smaller than or equal to shortest distance from s to u plus weight of edge (u, v). The new weights are w(u, v) + h[u] - h[v]. The value of the new weights must be greater than or equal to zero because of the inequality \"h[v] <= h[u] + w(u, v)\""
   ]
  },
  {
   "cell_type": "markdown",
   "metadata": {},
   "source": [
    "![](https://media.geeksforgeeks.org/wp-content/cdn-uploads/Johnson1.png)"
   ]
  },
  {
   "cell_type": "markdown",
   "metadata": {},
   "source": [
    "![](https://media.geeksforgeeks.org/wp-content/cdn-uploads/Johnson2.png)"
   ]
  },
  {
   "cell_type": "markdown",
   "metadata": {},
   "source": [
    "We calculate the shortest distances from 4 to all other vertices using Bellman-Ford algorithm. The shortest distances from 4 to 0, 1, 2 and 3 are 0, -5, -1 and 0 respectively, i.e., h[] = {0, -5, -1, 0}. Once we get these distances, we remove the source vertex 4 and reweight the edges using following formula. w(u, v) = w(u, v) + h[u] - h[v]."
   ]
  },
  {
   "cell_type": "markdown",
   "metadata": {},
   "source": [
    "![](https://media.geeksforgeeks.org/wp-content/cdn-uploads/Johnson3.png)"
   ]
  },
  {
   "cell_type": "markdown",
   "metadata": {},
   "source": [
    "Since all weights are positive now, we can run Dijkstra's shortest path algorithm for every vertex as source."
   ]
  },
  {
   "cell_type": "markdown",
   "metadata": {},
   "source": [
    "# Shortest Path in Directed Acyclic Graph"
   ]
  },
  {
   "cell_type": "markdown",
   "metadata": {},
   "source": [
    "For a general weighted graph, we can calculate single source shortest distances in O(VE) time using Bellman–Ford Algorithm"
   ]
  },
  {
   "cell_type": "markdown",
   "metadata": {},
   "source": [
    "For a graph with no negative weights, we can do better and calculate single source shortest distances in O(E + VLogV) time using Dijkstra’s algorithm."
   ]
  },
  {
   "cell_type": "markdown",
   "metadata": {},
   "source": [
    "We can do even better for Directed Acyclic Graph (DAG). We can calculate single source shortest distances in O(V+E) time for DAGs. The idea is to use Topological Sorting."
   ]
  },
  {
   "cell_type": "markdown",
   "metadata": {},
   "source": [
    "We initialize distances to all vertices as infinite and distance to source as 0, then we find a topological sorting of the graph. Topological Sorting of a graph represents a linear ordering of the graph (See below, figure (b) is a linear representation of figure (a) ). Once we have topological order (or linear representation), we one by one process all vertices in topological order. For every vertex being processed, we update distances of its adjacent using distance of current vertex."
   ]
  },
  {
   "cell_type": "code",
   "execution_count": 5,
   "metadata": {},
   "outputs": [
    {
     "name": "stdout",
     "output_type": "stream",
     "text": [
      "[inf, 0, 2, 6, 5, 3]\n"
     ]
    }
   ],
   "source": [
    "from collections import defaultdict\n",
    "\n",
    "class Graph:\n",
    "    def __init__(self,v):\n",
    "        self.v=v\n",
    "        self.graph=defaultdict(list)\n",
    "\n",
    "    def addEdge(self,u,v,w):\n",
    "        self.graph[u].append((v,w))\n",
    "\n",
    "    def getTopologicalOrder(self):\n",
    "        indegree=[0]*self.v\n",
    "        for i in range(self.v):\n",
    "            for j in self.graph[i]:\n",
    "                indegree[j[0]]+=1\n",
    "\n",
    "        queue=[]\n",
    "        result=[]\n",
    "        count=0\n",
    "\n",
    "        for i in range(self.v):\n",
    "            if indegree[i]==0:\n",
    "                queue.append(i)\n",
    "\n",
    "        while queue:\n",
    "            ele=queue.pop(0)\n",
    "            result.append(ele)\n",
    "            for i in self.graph[ele]:\n",
    "                indegree[i[0]]-=1\n",
    "                if indegree[i[0]]==0:\n",
    "                    queue.append(i[0])\n",
    "            count+=1\n",
    "        if count==self.v:\n",
    "            return result\n",
    "\n",
    "    def findShortestPath(self):\n",
    "        order=self.getTopologicalOrder()\n",
    "        distance=[float('infinity')]*self.v\n",
    "        distance[1]=0\n",
    "        for i in range(1,self.v):\n",
    "            ele=order[i]\n",
    "            for i in self.graph[ele]:\n",
    "                if distance[i[0]]>distance[ele]+i[1]:\n",
    "                    distance[i[0]]=distance[ele]+i[1]\n",
    "        print(distance)\n",
    "\n",
    "if __name__ == '__main__':\n",
    "    g=Graph(6)\n",
    "    g.addEdge(0, 1, 5)\n",
    "    g.addEdge(0, 2, 3)\n",
    "    g.addEdge(1, 3, 6)\n",
    "    g.addEdge(1, 2, 2)\n",
    "    g.addEdge(2, 4, 4)\n",
    "    g.addEdge(2, 5, 2)\n",
    "    g.addEdge(2, 3, 7)\n",
    "    g.addEdge(3, 4, -1)\n",
    "    g.addEdge(4, 5, -2)\n",
    "    g.findShortestPath()\n"
   ]
  },
  {
   "cell_type": "markdown",
   "metadata": {},
   "source": [
    "Time Complexity: Time complexity of topological sorting is O(V+E). After finding topological order, the algorithm process all vertices and for every vertex, it runs a loop for all adjacent vertices. Total adjacent vertices in a graph is O(E). So the inner loop runs O(V+E) times. Therefore, overall time complexity of this algorithm is O(V+E)."
   ]
  },
  {
   "cell_type": "markdown",
   "metadata": {},
   "source": [
    "# Shortest path with exactly k edges in a directed and weighted graph"
   ]
  },
  {
   "cell_type": "markdown",
   "metadata": {},
   "source": [
    "Given a directed and two vertices ‘u’ and ‘v’ in it, find shortest path from ‘u’ to ‘v’ with exactly k edges on the path."
   ]
  },
  {
   "cell_type": "code",
   "execution_count": 6,
   "metadata": {},
   "outputs": [
    {
     "name": "stdout",
     "output_type": "stream",
     "text": [
      "9\n"
     ]
    }
   ],
   "source": [
    "from collections import defaultdict\n",
    "\n",
    "class Graph:\n",
    "    def __init__(self,v):\n",
    "        self.v=v\n",
    "        self.graph=defaultdict(list)\n",
    "\n",
    "    def addEdge(self,u,v,w):\n",
    "        self.graph[u].append((v,w))\n",
    "\n",
    "    def findShortestPath(self,s,d,k):\n",
    "        if k==0 and s==d:\n",
    "            return 0\n",
    "        if k<=0:\n",
    "            return float(\"infinity\")\n",
    "\n",
    "        result=float(\"infinity\")\n",
    "        for i in self.graph[s]:\n",
    "            temp=self.findShortestPath(i[0],d,k-1)\n",
    "            if temp!=float('infinity'):\n",
    "                result=min(result,i[1]+temp)\n",
    "        return result\n",
    "\n",
    "if __name__ == '__main__':\n",
    "    g=Graph(4)\n",
    "    g.addEdge(0,1,10)\n",
    "    g.addEdge(0,2,3)\n",
    "    g.addEdge(0,3,2)\n",
    "    g.addEdge(1,3,7)\n",
    "    g.addEdge(2,3,6)\n",
    "    print(g.findShortestPath(0,3,2))\n"
   ]
  },
  {
   "cell_type": "markdown",
   "metadata": {},
   "source": [
    "DP solution"
   ]
  },
  {
   "cell_type": "code",
   "execution_count": 7,
   "metadata": {},
   "outputs": [],
   "source": [
    "# Dials Algorithm"
   ]
  },
  {
   "cell_type": "code",
   "execution_count": 8,
   "metadata": {},
   "outputs": [],
   "source": [
    "# Path Printing in Dijkstra"
   ]
  },
  {
   "cell_type": "markdown",
   "metadata": {},
   "source": [
    "# Shortest Path in a weighted Graph where weight of an edge is 1 or 2"
   ]
  },
  {
   "cell_type": "markdown",
   "metadata": {},
   "source": [
    "The idea is to use BFS. One important observation about BFS is, the path used in BFS always has least number of edges between any two vertices. So if all edges are of same weight, we can use BFS to find the shortest path. For this problem, we can modify the graph and split all edges of weight 2 into two edges of weight 1 each. In the modified graph, we can use BFS to find the shortest path"
   ]
  },
  {
   "cell_type": "code",
   "execution_count": 9,
   "metadata": {},
   "outputs": [
    {
     "name": "stdout",
     "output_type": "stream",
     "text": [
      "3\n"
     ]
    }
   ],
   "source": [
    "from collections import defaultdict\n",
    "\n",
    "class Graph:\n",
    "    def __init__(self,v):\n",
    "        self.v=v\n",
    "        self.graph=defaultdict(list)\n",
    "        self.edges=[]\n",
    "\n",
    "    def addEdge(self,u,v,w):\n",
    "        self.edges.append([u,v,w])\n",
    "\n",
    "    def preprocess(self):\n",
    "        self.count=self.v\n",
    "        for i in self.edges:\n",
    "            if i[2]==1:\n",
    "                self.graph[i[0]].append(i[1])\n",
    "            else:\n",
    "                self.graph[i[0]].append(self.count)\n",
    "                self.graph[self.count].append(i[1])\n",
    "                self.count+=1\n",
    "\n",
    "    def findShortestPath(self,s,d):\n",
    "        self.preprocess()\n",
    "        # print(self.graph)\n",
    "        distance=[0]*self.count\n",
    "        # print(self.count)\n",
    "        visited=[False]*self.count\n",
    "        queue=[]\n",
    "        queue.append(s)\n",
    "        while queue:\n",
    "            parent=queue.pop(0)\n",
    "            for i in self.graph[parent]:\n",
    "                if visited[i]==False:\n",
    "                    visited[i]=True\n",
    "                    queue.append(i)\n",
    "                    distance[i]=distance[parent]+1\n",
    "        return distance[d]\n",
    "\n",
    "if __name__ == '__main__':\n",
    "    g=Graph(4)\n",
    "    g.addEdge(0, 1, 2);\n",
    "    g.addEdge(0, 2, 2);\n",
    "    g.addEdge(1, 2, 1);\n",
    "    g.addEdge(1, 3, 1);\n",
    "    g.addEdge(2, 0, 1);\n",
    "    g.addEdge(2, 3, 2);\n",
    "    g.addEdge(3, 3, 2);\n",
    "    s=0\n",
    "    d=3\n",
    "    print(g.findShortestPath(s,d))\n"
   ]
  },
  {
   "cell_type": "code",
   "execution_count": 10,
   "metadata": {},
   "outputs": [],
   "source": [
    "# Multistage Graph"
   ]
  },
  {
   "cell_type": "code",
   "execution_count": 11,
   "metadata": {},
   "outputs": [],
   "source": [
    "# Minimize the number of weakly connected nodes"
   ]
  },
  {
   "cell_type": "markdown",
   "metadata": {},
   "source": [
    "# Cheapest Flights Within K Stops"
   ]
  },
  {
   "cell_type": "markdown",
   "metadata": {},
   "source": [
    "There are n cities connected by m flights. Each flight starts from city u and arrives at v with a price w.\n",
    "\n",
    "Now given all the cities and flights, together with starting city src and the destination dst, your task is to find the cheapest price from src to dst with up to k stops. If there is no such route, output -1."
   ]
  },
  {
   "cell_type": "markdown",
   "metadata": {},
   "source": [
    "Similar to shortest path from u to v with exactly k edges"
   ]
  },
  {
   "cell_type": "code",
   "execution_count": 15,
   "metadata": {},
   "outputs": [
    {
     "name": "stdout",
     "output_type": "stream",
     "text": [
      "200\n"
     ]
    }
   ],
   "source": [
    "from collections import defaultdict\n",
    "\n",
    "class Graph:\n",
    "    def __init__(self,v):\n",
    "        self.v=v\n",
    "        self.graph=defaultdict(list)\n",
    "\n",
    "    def addEdge(self,u,v,w):\n",
    "        self.graph[u].append((v,w))\n",
    "\n",
    "    def findShortestPath(self,s,d,k):\n",
    "        if k==0 and s==d:\n",
    "            return 0\n",
    "        if k>0 and s==d:\n",
    "            return 0\n",
    "        if k<=0:\n",
    "            return float(\"infinity\")\n",
    "\n",
    "        result=float(\"infinity\")\n",
    "        for i in self.graph[s]:\n",
    "            temp=self.findShortestPath(i[0],d,k-1)\n",
    "            if temp!=float('infinity'):\n",
    "                result=min(result,i[1]+temp)\n",
    "        return result\n",
    "\n",
    "if __name__ == '__main__':\n",
    "    # g=Graph(4)\n",
    "    # g.addEdge(0,1,10)\n",
    "    # g.addEdge(0,2,3)\n",
    "    # g.addEdge(0,3,2)\n",
    "    # g.addEdge(1,3,7)\n",
    "    # g.addEdge(2,3,6)\n",
    "    g=Graph(3)\n",
    "    g.addEdge(0,1,100)\n",
    "    g.addEdge(1,2,100)\n",
    "    g.addEdge(0,2,500)\n",
    "    print(g.findShortestPath(0,2,2))\n"
   ]
  },
  {
   "cell_type": "code",
   "execution_count": null,
   "metadata": {},
   "outputs": [],
   "source": []
  }
 ],
 "metadata": {
  "kernelspec": {
   "display_name": "Python 3",
   "language": "python",
   "name": "python3"
  },
  "language_info": {
   "codemirror_mode": {
    "name": "ipython",
    "version": 3
   },
   "file_extension": ".py",
   "mimetype": "text/x-python",
   "name": "python",
   "nbconvert_exporter": "python",
   "pygments_lexer": "ipython3",
   "version": "3.7.6"
  }
 },
 "nbformat": 4,
 "nbformat_minor": 4
}
