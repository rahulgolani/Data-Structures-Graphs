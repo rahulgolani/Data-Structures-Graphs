{
 "cells": [
  {
   "cell_type": "markdown",
   "metadata": {},
   "source": [
    "A Graph is a non-linear data structure (do not have to traverse the elements sequentially) consisting of nodes and edges. The nodes are sometimes also referred to as vertices and the edges are lines or arcs that connect any two nodes in the graph."
   ]
  },
  {
   "cell_type": "markdown",
   "metadata": {},
   "source": [
    "Graphs are used to solve many real-life problems. Graphs are used to represent networks. The networks may include paths in a city or telephone network or circuit network. Graphs are also used in social networks like linkedIn, Facebook. For example, in Facebook, each person is represented with a vertex(or node). Each node is a structure and contains information like person id, name, gender, locale etc."
   ]
  },
  {
   "cell_type": "markdown",
   "metadata": {},
   "source": [
    "# Introduction, DFS, BFS"
   ]
  },
  {
   "cell_type": "markdown",
   "metadata": {},
   "source": [
    "Graph is a data structure that consists of following two components:<br>\n",
    "1. A finite set of vertices also called as nodes.<br>\n",
    "2. A finite set of ordered pair of the form (u, v) called as edge. The pair is ordered because (u, v) is not same as (v, u) in case of a directed graph(di-graph). The pair of the form (u, v) indicates that there is an edge from vertex u to vertex v. The edges may contain weight/value/cost."
   ]
  },
  {
   "cell_type": "markdown",
   "metadata": {},
   "source": [
    "<strong>Representations</strong>"
   ]
  },
  {
   "cell_type": "markdown",
   "metadata": {},
   "source": [
    "Following two are the most commonly used representations of a graph.<br>\n",
    "1. Adjacency Matrix<br>\n",
    "2. Adjacency List<br>\n",
    "There are other representations also like, Incidence Matrix and Incidence List. The choice of the graph representation is situation specific. It totally depends on the type of operations to be performed and ease of use."
   ]
  },
  {
   "cell_type": "markdown",
   "metadata": {},
   "source": [
    "Adjacency Matrix is a 2D array of size V x V where V is the number of vertices in a graph. Let the 2D array be adj[][], a slot adj[i][j] = 1 indicates that there is an edge from vertex i to vertex j. Adjacency matrix for undirected graph is always symmetric. Adjacency Matrix is also used to represent weighted graphs. If adj[i][j] = w, then there is an edge from vertex i to vertex j with weight w."
   ]
  },
  {
   "cell_type": "markdown",
   "metadata": {},
   "source": [
    "Pros: Representation is easier to implement and follow. Removing an edge takes O(1) time. Queries like whether there is an edge from vertex ‘u’ to vertex ‘v’ are efficient and can be done O(1).\n",
    "<br><br>\n",
    "Cons: Consumes more space O(V^2). Even if the graph is sparse(contains less number of edges), it consumes the same space. Adding a vertex is O(V^2) time."
   ]
  },
  {
   "cell_type": "markdown",
   "metadata": {},
   "source": [
    "<strong>Adjacency Matrix</strong>"
   ]
  },
  {
   "cell_type": "code",
   "execution_count": 2,
   "metadata": {},
   "outputs": [
    {
     "name": "stdout",
     "output_type": "stream",
     "text": [
      "['a', 'b', 'c', 'd', 'e', 'f']\n",
      "[('a', 'c', 20), ('a', 'e', 10), ('b', 'e', 40), ('c', 'b', 30), ('e', 'd', 50), ('f', 'e', 60)]\n"
     ]
    }
   ],
   "source": [
    "class Graph:\n",
    "    def __init__(self,numVertices):\n",
    "        self.adjMat=[[-1 for j in range(numVertices)] for i in range(numVertices)]\n",
    "        self.numVertices=numVertices\n",
    "        self.vertices={}\n",
    "        self.verticesList=[None]*numVertices\n",
    "\n",
    "    def addVertex(self,vtx,id):\n",
    "        if vtx>=0 and vtx<self.numVertices:\n",
    "            self.vertices[id]=vtx\n",
    "            self.verticesList[vtx]=id\n",
    "\n",
    "    def setEdge(self,frm,to,cost):\n",
    "        frm=self.vertices[frm]\n",
    "        to=self.vertices[to]\n",
    "        self.adjMat[frm][to]=cost\n",
    "\n",
    "    def getVertices(self):\n",
    "        return self.verticesList\n",
    "\n",
    "    def getEdges(self):\n",
    "        edges=[]\n",
    "        for i in range(self.numVertices):\n",
    "            for j in range(self.numVertices):\n",
    "                if self.adjMat[i][j]!=-1:\n",
    "                    edges.append((self.verticesList[i],self.verticesList[j],self.adjMat[i][j]))\n",
    "        return edges\n",
    "\n",
    "if __name__ == '__main__':\n",
    "    graph=Graph(6)\n",
    "    graph.addVertex(0,'a')\n",
    "    graph.addVertex(1,'b')\n",
    "    graph.addVertex(2,'c')\n",
    "    graph.addVertex(3,'d')\n",
    "    graph.addVertex(4,'e')\n",
    "    graph.addVertex(5,'f')\n",
    "    print(graph.getVertices())\n",
    "    graph.setEdge('a','e',10)\n",
    "    graph.setEdge('a','c',20)\n",
    "    graph.setEdge('c','b',30)\n",
    "    graph.setEdge('b','e',40)\n",
    "    graph.setEdge('e','d',50)\n",
    "    graph.setEdge('f','e',60)\n",
    "    print(graph.getEdges())\n",
    "    #print(graph.adjMat)\n"
   ]
  },
  {
   "cell_type": "markdown",
   "metadata": {},
   "source": [
    "<strong>Adjacency List</strong>"
   ]
  },
  {
   "cell_type": "markdown",
   "metadata": {},
   "source": [
    "An array of lists is used. Size of the array is equal to the number of vertices. Let the array be array[]. An entry array[i] represents the list of vertices adjacent to the ith vertex"
   ]
  },
  {
   "cell_type": "code",
   "execution_count": 3,
   "metadata": {},
   "outputs": [
    {
     "name": "stdout",
     "output_type": "stream",
     "text": [
      "defaultdict(<class 'list'>, {0: [1, 4], 1: [2, 3, 4], 2: [3], 3: [4]})\n"
     ]
    }
   ],
   "source": [
    "from collections import defaultdict\n",
    "class Graph:\n",
    "    def __init__(self,v):\n",
    "        self.v=v\n",
    "        self.graph=defaultdict(list)\n",
    "\n",
    "    def addEdge(self,u,v):\n",
    "        self.graph[u].append(v)\n",
    "\n",
    "    def getGraph(self):\n",
    "        return self.graph\n",
    "\n",
    "if __name__ == '__main__':\n",
    "    graph=Graph(5)\n",
    "    graph.addEdge(0, 1)\n",
    "    graph.addEdge(0, 4)\n",
    "    graph.addEdge(1, 2)\n",
    "    graph.addEdge(1, 3)\n",
    "    graph.addEdge(1, 4)\n",
    "    graph.addEdge(2, 3)\n",
    "    graph.addEdge(3, 4)\n",
    "    print(graph.getGraph())\n"
   ]
  },
  {
   "cell_type": "markdown",
   "metadata": {},
   "source": [
    "Pros: Saves space O(|V|+|E|) . In the worst case, there can be C(V, 2) number of edges in a graph thus consuming O(V^2) space. Adding a vertex is easier.\n",
    "<br><br>\n",
    "Cons: Queries like whether there is an edge from vertex u to vertex v are not efficient and can be done O(V)."
   ]
  },
  {
   "cell_type": "markdown",
   "metadata": {},
   "source": [
    "# Breadth First Search or BFS for a Graph"
   ]
  },
  {
   "cell_type": "markdown",
   "metadata": {},
   "source": [
    "Breadth First Traversal (or Search) for a graph is similar to Breadth First Traversal of a tree. The only catch here is, unlike trees, graphs may contain cycles, so we may come to the same node again. To avoid processing a node more than once, we use a boolean visited array. For simplicity, it is assumed that all vertices are reachable from the starting vertex."
   ]
  },
  {
   "cell_type": "code",
   "execution_count": 5,
   "metadata": {},
   "outputs": [
    {
     "name": "stdout",
     "output_type": "stream",
     "text": [
      "2 0 3 1 "
     ]
    }
   ],
   "source": [
    "from collections import defaultdict\n",
    "\n",
    "class Graph:\n",
    "    def __init__(self, v):\n",
    "        self.v = v\n",
    "        self.graph = defaultdict(list)\n",
    "\n",
    "    def addEdge(self, u, v):\n",
    "        self.graph[u].append(v)\n",
    "\n",
    "    def BFS(self, s):\n",
    "        queue=[]\n",
    "        visited=[False]*self.v\n",
    "\n",
    "        queue.append(s)\n",
    "        visited[s]=True\n",
    "\n",
    "        while queue:\n",
    "            temp=queue.pop(0)\n",
    "            print(temp,end=' ')\n",
    "            for i in self.graph[temp]:\n",
    "                if visited[i]==False:\n",
    "                    queue.append(i)\n",
    "                    visited[i]=True\n",
    "\n",
    "\n",
    "if __name__ == '__main__':\n",
    "    g = Graph(4)\n",
    "    g.addEdge(0, 1)\n",
    "    g.addEdge(0, 2)\n",
    "    g.addEdge(1, 2)\n",
    "    g.addEdge(2, 0)\n",
    "    g.addEdge(2, 3)\n",
    "    g.addEdge(3, 3)\n",
    "    g.BFS(2)\n"
   ]
  },
  {
   "cell_type": "markdown",
   "metadata": {},
   "source": [
    "Note that the above code traverses only the vertices reachable from a given source vertex. All the vertices may not be reachable from a given vertex (example Disconnected graph). To print all the vertices, we can modify the BFS function to do traversal starting from all nodes one by one"
   ]
  },
  {
   "cell_type": "markdown",
   "metadata": {},
   "source": [
    "Time Complexity: O(V+E) where V is number of vertices in the graph and E is number of edges in the graph."
   ]
  },
  {
   "cell_type": "markdown",
   "metadata": {},
   "source": [
    "# Depth First Search or DFS for a Graph"
   ]
  },
  {
   "cell_type": "code",
   "execution_count": 7,
   "metadata": {},
   "outputs": [
    {
     "name": "stdout",
     "output_type": "stream",
     "text": [
      "2 0 1 3 "
     ]
    }
   ],
   "source": [
    "from collections import defaultdict\n",
    "class Graph:\n",
    "    def __init__(self,v):\n",
    "        self.v=v\n",
    "        self.graph=defaultdict(list)\n",
    "\n",
    "    def addEdge(self,u,v):\n",
    "        self.graph[u].append(v)\n",
    "\n",
    "    def DFSUtil(self,v,visited):\n",
    "        visited[v]=True\n",
    "        print(v,end=\" \")\n",
    "        for i in self.graph[v]:\n",
    "            if visited[i]==False:\n",
    "                self.DFSUtil(i,visited)\n",
    "\n",
    "    def DFS(self,s):\n",
    "        visited=[False]*self.v\n",
    "        self.DFSUtil(s,visited)\n",
    "\n",
    "if __name__ == '__main__':\n",
    "    g = Graph(4)\n",
    "    g.addEdge(0, 1)\n",
    "    g.addEdge(0, 2)\n",
    "    g.addEdge(1, 2)\n",
    "    g.addEdge(2, 0)\n",
    "    g.addEdge(2, 3)\n",
    "    g.addEdge(3, 3)\n",
    "    g.DFS(2)\n"
   ]
  },
  {
   "cell_type": "markdown",
   "metadata": {},
   "source": [
    "Time Complexity: O(V+E) where V is number of vertices in the graph and E is number of edges in the graph."
   ]
  },
  {
   "cell_type": "markdown",
   "metadata": {},
   "source": [
    "The above code traverses only the vertices reachable from a given source vertex. All the vertices may not be reachable from a given vertex (example Disconnected graph). To do complete DFS traversal of such graphs, we must call DFSUtil() for every vertex. Also, before calling DFSUtil(), we should check if it is already printed by some other call of DFSUtil()"
   ]
  },
  {
   "cell_type": "markdown",
   "metadata": {},
   "source": [
    "# Applications of Breadth First Traversal"
   ]
  },
  {
   "cell_type": "markdown",
   "metadata": {},
   "source": [
    "1) Shortest Path and Minimum Spanning Tree for unweighted graph->n an unweighted graph, the shortest path is the path with least number of edges. With Breadth First, we always reach a vertex from given source using the minimum number of edges. Also, in case of unweighted graphs, any spanning tree is Minimum Spanning Tree\n",
    "<br><br>\n",
    "2) Peer to Peer Networks. In Peer to Peer Networks like BitTorrent, Breadth First Search is used to find all neighbor nodes.\n",
    "<br><br>\n",
    "3) Crawlers in Search Engines: Crawlers build index using Breadth First. The idea is to start from source page and follow all links from source and keep doing same. Depth First Traversal can also be used for crawlers, but the advantage with Breadth First Traversal is, depth or levels of the built tree can be limited.\n",
    "<br><br>\n",
    "4) Social Networking Websites: In social networks, we can find people within a given distance ‘k’ from a person using Breadth First Search till ‘k’ levels.\n",
    "<br><br>\n",
    "5) GPS Navigation systems\n",
    "<br><br>\n",
    "6) Broadcasting in Network\n",
    "<br><br>\n",
    "7) Garbage Collection:Breadth First Search is preferred over Depth First Search because of better locality of reference:\n",
    "<br><br>\n",
    "8) Cycle Detection\n",
    "<br><br>\n",
    "9) Path Finding\n",
    "<br><br>\n",
    "10) Finding all nodes within one connected component: We can either use Breadth First or Depth First Traversal to find all nodes reachable from a given node."
   ]
  },
  {
   "cell_type": "markdown",
   "metadata": {},
   "source": [
    "# Applications of Depth First Search"
   ]
  },
  {
   "cell_type": "markdown",
   "metadata": {},
   "source": [
    "1) For a weighted graph, DFS traversal of the graph produces the minimum spanning tree and all pair shortest path tree.\n",
    "<br><br>\n",
    "2) Detecting cycle in a graph\n",
    "<br><br>\n",
    "3) Path Finding\n",
    "i) Call DFS(G, u) with u as the start vertex.\n",
    "ii) Use a stack S to keep track of the path between the start vertex and the current vertex.\n",
    "iii) As soon as destination vertex z is encountered, return the path as the\n",
    "contents of the stack\n",
    "<br><br>\n",
    "4) Topological Sorting\n",
    "<br><br>\n",
    "5) Finding Strongly Connected Components of a graph\n",
    "<br><br>\n",
    "6) Solving puzzles with only one solution, such as mazes\n"
   ]
  },
  {
   "cell_type": "code",
   "execution_count": 10,
   "metadata": {},
   "outputs": [],
   "source": [
    "# Graph representations using set and hash LATER"
   ]
  },
  {
   "cell_type": "markdown",
   "metadata": {},
   "source": [
    "# Find a Mother Vertex in a Graph"
   ]
  },
  {
   "cell_type": "markdown",
   "metadata": {},
   "source": [
    "Brute Force solution-> To run BFS/DFS for each vertex and check if all the vertices are reachable. This approach takes O(V(E+V)) time, which is very inefficient for large graphs."
   ]
  },
  {
   "cell_type": "code",
   "execution_count": 16,
   "metadata": {},
   "outputs": [
    {
     "name": "stdout",
     "output_type": "stream",
     "text": [
      "5\n"
     ]
    }
   ],
   "source": [
    "from collections import defaultdict\n",
    "class Graph:\n",
    "    def __init__(self,v):\n",
    "        self.v=v\n",
    "        self.graph=defaultdict(list)\n",
    "\n",
    "    def addEdge(self,u,v):\n",
    "        self.graph[u].append(v)\n",
    "\n",
    "    def BFSUtil(self,s):\n",
    "        queue=[]\n",
    "        self.visited[s]=True\n",
    "        queue.append(s)\n",
    "\n",
    "        while queue:\n",
    "            temp=queue.pop(0)\n",
    "            for node in self.graph[temp]:\n",
    "                if self.visited[node]==False:\n",
    "                    queue.append(node)\n",
    "                    self.visited[node]=True\n",
    "        if False in self.visited:\n",
    "            return False\n",
    "        return True\n",
    "\n",
    "\n",
    "    def BFS(self):\n",
    "        self.visited=[]\n",
    "        for i in range(self.v):\n",
    "            self.visited=[False]*self.v\n",
    "            if self.BFSUtil(i):\n",
    "                return i\n",
    "        return -1\n",
    "\n",
    "if __name__ == '__main__':\n",
    "    g=Graph(7)\n",
    "    g.addEdge(0, 1);\n",
    "    g.addEdge(0, 2);\n",
    "    g.addEdge(1, 3);\n",
    "    g.addEdge(4, 1);\n",
    "    g.addEdge(6, 4);\n",
    "    g.addEdge(5, 6);\n",
    "    g.addEdge(5, 2);\n",
    "    g.addEdge(6, 0);\n",
    "    print(g.BFS())\n"
   ]
  },
  {
   "cell_type": "markdown",
   "metadata": {},
   "source": [
    "How to find mother vertex?\n",
    "<br><br>\n",
    "Case 1:- Undirected Connected Graph : In this case, all the vertices are mother vertices as we can reach to all the other nodes in the graph.\n",
    "<br>\n",
    "Case 2:- Undirected/Directed Disconnected Graph : In this case, there is no mother vertices as we cannot reach to all the other nodes in the graph.\n",
    "<br>\n",
    "Case 3:- Directed Connected Graph : In this case, we have to find a vertex -v in the graph such that we can reach to all the other nodes in the graph through a directed path."
   ]
  },
  {
   "cell_type": "markdown",
   "metadata": {},
   "source": [
    "The idea is based on Kosaraju’s Strongly Connected Component Algorithm. In a graph of strongly connected components, mother vertices are always vertices of source component in component graph. The idea is->\n",
    "<br>\n",
    "If there exist mother vertex (or vertices), then one of the mother vertices is the last finished vertex in DFS. (Or a mother vertex has the maximum finish time in DFS traversal).\n",
    "<br>\n",
    "A vertex is said to be finished in DFS if a recursive call for its DFS is over, i.e., all descendants of the vertex have been visited.\n",
    "\n"
   ]
  },
  {
   "cell_type": "markdown",
   "metadata": {},
   "source": [
    "Approach-><br>\n",
    "Do DFS traversal of the given graph. While doing traversal keep track of last finished vertex ‘v’. This step takes O(V+E) time.<br>\n",
    "If there exist mother vertex (or vetices), then v must be one (or one of them). Check if v is a mother vertex by doing DFS/BFS from v. This step also takes O(V+E) time."
   ]
  },
  {
   "cell_type": "code",
   "execution_count": 17,
   "metadata": {},
   "outputs": [
    {
     "name": "stdout",
     "output_type": "stream",
     "text": [
      "5\n"
     ]
    }
   ],
   "source": [
    "from collections import defaultdict\n",
    "class Graph:\n",
    "    def __init__(self,v):\n",
    "        self.v=v\n",
    "        self.graph=defaultdict(list)\n",
    "\n",
    "    def addEdge(self,u,v):\n",
    "        self.graph[u].append(v)\n",
    "\n",
    "    def DFSUtil(self,v,visited):\n",
    "        visited[v]=True\n",
    "        for i in self.graph[v]:\n",
    "            if visited[i]==False:\n",
    "                self.DFSUtil(i,visited)\n",
    "\n",
    "    def findMotherVertex(self):\n",
    "        visited=[False]*self.v\n",
    "        v=0\n",
    "        for i in range(self.v):\n",
    "            if visited[i]==False:\n",
    "                self.DFSUtil(i,visited)\n",
    "                v=i\n",
    "\n",
    "        visited=[False]*self.v\n",
    "        self.DFSUtil(v,visited)\n",
    "        if False in visited:\n",
    "            return -1\n",
    "        return v\n",
    "\n",
    "if __name__ == '__main__':\n",
    "    g=Graph(7)\n",
    "    g.addEdge(0, 1)\n",
    "    g.addEdge(0, 2)\n",
    "    g.addEdge(1, 3)\n",
    "    g.addEdge(4, 1)\n",
    "    g.addEdge(6, 4)\n",
    "    g.addEdge(5, 6)\n",
    "    g.addEdge(5, 2)\n",
    "    g.addEdge(6, 0)\n",
    "    result=g.findMotherVertex()\n",
    "    print(result)\n"
   ]
  },
  {
   "cell_type": "markdown",
   "metadata": {},
   "source": [
    "# Transitive Closure of a Graph using DFS"
   ]
  },
  {
   "cell_type": "markdown",
   "metadata": {},
   "source": [
    "Given a directed graph, find out if a vertex v is reachable from another vertex u for all vertex pairs (u, v) in the given graph. Here reachable mean that there is a path from vertex u to v. The reach-ability matrix is called transitive closure of a graph."
   ]
  },
  {
   "cell_type": "code",
   "execution_count": 18,
   "metadata": {},
   "outputs": [
    {
     "name": "stdout",
     "output_type": "stream",
     "text": [
      "[1, 1, 1, 1]\n",
      "[1, 1, 1, 1]\n",
      "[1, 1, 1, 1]\n",
      "[0, 0, 0, 1]\n"
     ]
    }
   ],
   "source": [
    "from collections import defaultdict\n",
    "class Graph:\n",
    "    def __init__(self,v):\n",
    "        self.v=v\n",
    "        self.graph=defaultdict(list)\n",
    "        self.tClosure=[[1 if i==j else 0 for j in range(self.v) ]for i in range(self.v)]\n",
    "\n",
    "    parent=0\n",
    "\n",
    "    def addEdge(self,u,v):\n",
    "        self.graph[u].append(v)\n",
    "\n",
    "    def DFSUtil(self,v):\n",
    "        self.visited[v]=True\n",
    "        self.tClosure[Graph.parent][v]=1\n",
    "        for i in self.graph[v]:\n",
    "            if self.visited[i]==False:\n",
    "                self.DFSUtil(i)\n",
    "\n",
    "    def findTClosure(self):\n",
    "        self.visited=[]\n",
    "        # parent=0\n",
    "        for i in range(self.v):\n",
    "            Graph.parent=i\n",
    "            self.visited=[False]*self.v\n",
    "            if self.visited[i] == False:\n",
    "                self.DFSUtil(i)\n",
    "        return self.tClosure\n",
    "\n",
    "if __name__ == '__main__':\n",
    "    g = Graph(4)\n",
    "    g.addEdge(0, 1)\n",
    "    g.addEdge(0, 2)\n",
    "    g.addEdge(1, 2)\n",
    "    g.addEdge(2, 0)\n",
    "    g.addEdge(2, 3)\n",
    "    g.addEdge(3, 3)\n",
    "    result=g.findTClosure()\n",
    "    for i in range(g.v):\n",
    "        print(result[i])\n"
   ]
  },
  {
   "cell_type": "markdown",
   "metadata": {},
   "source": [
    "<strong> Without using visited array</strong>"
   ]
  },
  {
   "cell_type": "code",
   "execution_count": 2,
   "metadata": {},
   "outputs": [
    {
     "name": "stdout",
     "output_type": "stream",
     "text": [
      "[1, 1, 1, 1]\n",
      "[1, 1, 1, 1]\n",
      "[1, 1, 1, 1]\n",
      "[0, 0, 0, 1]\n"
     ]
    }
   ],
   "source": [
    "from collections import defaultdict\n",
    "class Graph:\n",
    "    def __init__(self,v):\n",
    "        self.v=v\n",
    "        self.graph=defaultdict(list)\n",
    "        # self.tClosure=[[1 if i==j else 0 for j in range(self.v) ]for i in range(self.v)]\n",
    "        self.tClosure=[[0 for j in range(self.v)] for i in range(self.v)]\n",
    "    parent=0\n",
    "\n",
    "    def addEdge(self,u,v):\n",
    "        self.graph[u].append(v)\n",
    "\n",
    "    def DFSUtil(self,v):\n",
    "        #self.visited[v]=True\n",
    "        self.tClosure[Graph.parent][v]=1\n",
    "        # self.tClosure[s][v]=1\n",
    "        for i in self.graph[v]:\n",
    "            # print(Graph.parent)\n",
    "            #if self.visited[i]==False:\n",
    "            if self.tClosure[Graph.parent][i]==0:\n",
    "            # if self.tClosure[s][i]==0:\n",
    "                self.DFSUtil(i)\n",
    "\n",
    "    def findTClosure(self):\n",
    "        #self.visited=[]\n",
    "        # parent=0\n",
    "        for i in range(self.v):\n",
    "            Graph.parent=i\n",
    "            #self.visited=[False]*self.v\n",
    "            #if self.visited[i] == False:\n",
    "            self.DFSUtil(i)\n",
    "        return self.tClosure\n",
    "\n",
    "if __name__ == '__main__':\n",
    "    g = Graph(4)\n",
    "    g.addEdge(0, 1)\n",
    "    g.addEdge(0, 2)\n",
    "    g.addEdge(1, 2)\n",
    "    g.addEdge(2, 0)\n",
    "    g.addEdge(2, 3)\n",
    "    g.addEdge(3, 3)\n",
    "    result=g.findTClosure()\n",
    "    for i in range(g.v):\n",
    "        print(result[i])\n"
   ]
  },
  {
   "cell_type": "markdown",
   "metadata": {},
   "source": [
    "# Find k-cores of an undirected graph\n",
    "Given a graph G and an integer K, K-cores of the graph are connected components that are left after all vertices of degree less than k have been removed"
   ]
  },
  {
   "cell_type": "code",
   "execution_count": 4,
   "metadata": {},
   "outputs": [
    {
     "name": "stdout",
     "output_type": "stream",
     "text": [
      "2 -> 3 4 6 \n",
      "3 -> 2 4 6 7 \n",
      "4 -> 2 3 6 7 \n",
      "6 -> 2 3 4 7 \n",
      "7 -> 3 4 6 \n"
     ]
    }
   ],
   "source": [
    "from collections import defaultdict\n",
    "class Graph:\n",
    "    def __init__(self,v):\n",
    "        self.v=v\n",
    "        self.graph=defaultdict(list)\n",
    "\n",
    "    def addEdge(self,u,v):\n",
    "        self.graph[u].append(v)\n",
    "        self.graph[v].append(u)\n",
    "\n",
    "    def BFSUtil(self,s,visited,degree,k):\n",
    "        queue=[]\n",
    "        visited[s]=True\n",
    "        queue.append(s)\n",
    "\n",
    "        while queue:\n",
    "            parent=queue.pop(0)\n",
    "            for i in self.graph[parent]:\n",
    "                if degree[parent]<k:\n",
    "                    degree[i]-=1\n",
    "                    degree[parent]-=1\n",
    "                if visited[i]==False:\n",
    "                    queue.append(i)\n",
    "                    visited[i]=True\n",
    "\n",
    "    def BFS(self,k):\n",
    "        visited=[False]*self.v\n",
    "        degree=[len(self.graph[i]) for i in range(self.v)]\n",
    "        # print(degree)\n",
    "        for i in range(self.v):\n",
    "            if visited[i]==False:\n",
    "                self.BFSUtil(i,visited,degree,k)\n",
    "        # print(degree)\n",
    "        for i in range(self.v):\n",
    "            if degree[i]>=k:\n",
    "                print(f'{i} ->',end=\" \")\n",
    "                for j in self.graph[i]:\n",
    "                    if degree[j]>=k:\n",
    "                        print(j,end=\" \")\n",
    "                print()\n",
    "\n",
    "if __name__ == '__main__':\n",
    "    g=Graph(9)\n",
    "\n",
    "    g.addEdge(0, 1)\n",
    "    g.addEdge(0, 2)\n",
    "    g.addEdge(1, 2)\n",
    "    g.addEdge(1, 5)\n",
    "    g.addEdge(2, 3)\n",
    "    g.addEdge(2, 4)\n",
    "    g.addEdge(2, 5)\n",
    "    g.addEdge(2, 6)\n",
    "    g.addEdge(3, 4)\n",
    "    g.addEdge(3, 6)\n",
    "    g.addEdge(3, 7)\n",
    "    g.addEdge(4, 6)\n",
    "    g.addEdge(4, 7)\n",
    "    g.addEdge(5, 6)\n",
    "    g.addEdge(5, 8)\n",
    "    g.addEdge(6, 7)\n",
    "    g.addEdge(6, 8)\n",
    "    # g = Graph(13);\n",
    "    # g.addEdge(0, 1)\n",
    "    # g.addEdge(0, 2)\n",
    "    # g.addEdge(0, 3)\n",
    "    # g.addEdge(1, 4)\n",
    "    # g.addEdge(1, 5)\n",
    "    # g.addEdge(1, 6)\n",
    "    # g.addEdge(2, 7)\n",
    "    # g.addEdge(2, 8)\n",
    "    # g.addEdge(2, 9)\n",
    "    # g.addEdge(3, 10)\n",
    "    # g.addEdge(3, 11)\n",
    "    # g.addEdge(3, 12)\n",
    "    g.BFS(3)\n",
    "# check dfs version"
   ]
  },
  {
   "cell_type": "markdown",
   "metadata": {},
   "source": [
    "# Iterative DFS"
   ]
  },
  {
   "cell_type": "code",
   "execution_count": 6,
   "metadata": {},
   "outputs": [
    {
     "name": "stdout",
     "output_type": "stream",
     "text": [
      "0 3 2 1 4 "
     ]
    }
   ],
   "source": [
    "from collections import defaultdict\n",
    "class Graph:\n",
    "    def __init__(self,v):\n",
    "        self.v=v\n",
    "        self.graph=defaultdict(list)\n",
    "\n",
    "    def addEdge(self,u,v):\n",
    "        self.graph[u].append(v)\n",
    "\n",
    "    def DFSUtil(self,v,visited):\n",
    "        stack=[]\n",
    "        # visited[v]=True\n",
    "        stack.append(v)\n",
    "        while stack:\n",
    "            ele=stack.pop(-1)\n",
    "            if visited[ele]==False:\n",
    "                print(ele,end=' ')\n",
    "                visited[ele]=True\n",
    "            for i in self.graph[ele]:\n",
    "                if visited[i]==False:\n",
    "                    stack.append(i)\n",
    "\n",
    "    def DFS(self):\n",
    "        visited=[False]*self.v\n",
    "        for i in range(self.v):\n",
    "            if visited[i]==False:\n",
    "                self.DFSUtil(0,visited)\n",
    "\n",
    "\n",
    "if __name__ == '__main__':\n",
    "    g=Graph(5)\n",
    "    g.addEdge(1, 0)\n",
    "    g.addEdge(0, 2)\n",
    "    g.addEdge(2, 1)\n",
    "    g.addEdge(0, 3)\n",
    "    g.addEdge(1, 4)\n",
    "    g.DFS()\n"
   ]
  },
  {
   "cell_type": "markdown",
   "metadata": {},
   "source": [
    "# Count the number of nodes at given level in a tree using BFS."
   ]
  },
  {
   "cell_type": "code",
   "execution_count": 10,
   "metadata": {},
   "outputs": [
    {
     "name": "stdout",
     "output_type": "stream",
     "text": [
      "3\n"
     ]
    }
   ],
   "source": [
    "from collections import defaultdict\n",
    "class Graph:\n",
    "    def __init__(self,v):\n",
    "        self.v=v\n",
    "        self.graph=defaultdict(list)\n",
    "\n",
    "    def addEdge(self,u,v):\n",
    "        self.graph[u].append(v)\n",
    "        self.graph[v].append(u)\n",
    "\n",
    "    def countNodes(self,root,reqLevel):\n",
    "        visited=[False]*self.v\n",
    "        level=[0]*self.v\n",
    "        queue=[]\n",
    "        queue.append(root)\n",
    "        visited[root]=True\n",
    "        level[root]=0\n",
    "        while queue:\n",
    "            parent=queue.pop(0)\n",
    "            for i in self.graph[parent]:\n",
    "                if visited[i]==False:\n",
    "                    visited[i]=True\n",
    "                    level[i]=level[parent]+1\n",
    "                    queue.append(i)\n",
    "        count=0\n",
    "        for i in level:\n",
    "        # print(level)\n",
    "            if i==reqLevel:\n",
    "                count+=1\n",
    "        print(count)\n",
    "\n",
    "if __name__ == '__main__':\n",
    "    g=Graph(6)\n",
    "    g.addEdge(0, 1)\n",
    "    g.addEdge(0, 2)\n",
    "    g.addEdge(1, 3)\n",
    "    g.addEdge(2, 4)\n",
    "    g.addEdge(2, 5)\n",
    "    g.countNodes(0,2)\n"
   ]
  },
  {
   "cell_type": "markdown",
   "metadata": {},
   "source": [
    "# Count the number of nodes at a given level in a tree using DFS"
   ]
  },
  {
   "cell_type": "code",
   "execution_count": 12,
   "metadata": {},
   "outputs": [
    {
     "name": "stdout",
     "output_type": "stream",
     "text": [
      "[0, 1, 1, 2, 2, 2]\n",
      "3\n"
     ]
    }
   ],
   "source": [
    "from collections import defaultdict\n",
    "class Graph:\n",
    "    def __init__(self,v):\n",
    "        self.v=v\n",
    "        self.graph=defaultdict(list)\n",
    "\n",
    "    def addEdge(self,u,v):\n",
    "        self.graph[u].append(v)\n",
    "        self.graph[v].append(u)\n",
    "\n",
    "    def countNodes(self,root,reqLevel):\n",
    "        visited=[False]*self.v\n",
    "        level=[0]*self.v\n",
    "        # queue=[]\n",
    "        # queue.append(root)\n",
    "        stack=[]\n",
    "        stack.append(root)\n",
    "        # visited[root]=True\n",
    "        level[root]=0\n",
    "        while stack:\n",
    "            parent=stack.pop(-1)\n",
    "            if visited[parent]==False:\n",
    "                visited[parent]=True\n",
    "            for i in self.graph[parent]:\n",
    "                if visited[i]==False:\n",
    "                    visited[i]=True\n",
    "                    level[i]=level[parent]+1\n",
    "                    stack.append(i)\n",
    "        print(level)\n",
    "        count=0\n",
    "        for i in level:\n",
    "        # print(level)\n",
    "            if i==reqLevel:\n",
    "                count+=1\n",
    "        print(count)\n",
    "\n",
    "if __name__ == '__main__':\n",
    "    g=Graph(6)\n",
    "    g.addEdge(0, 1)\n",
    "    g.addEdge(0, 2)\n",
    "    g.addEdge(1, 3)\n",
    "    g.addEdge(2, 4)\n",
    "    g.addEdge(2, 5)\n",
    "    g.countNodes(0,2)\n"
   ]
  },
  {
   "cell_type": "markdown",
   "metadata": {},
   "source": [
    "# Count all possible paths between two vertices"
   ]
  },
  {
   "cell_type": "code",
   "execution_count": 2,
   "metadata": {},
   "outputs": [
    {
     "name": "stdout",
     "output_type": "stream",
     "text": [
      "3\n"
     ]
    }
   ],
   "source": [
    "from collections import defaultdict\n",
    "class Graph:\n",
    "    def __init__(self,v):\n",
    "        self.v=v\n",
    "        self.graph=defaultdict(list)\n",
    "\n",
    "    def addEdge(self,u,v):\n",
    "        self.graph[u].append(v)\n",
    "\n",
    "    def countPaths(self,s,d):\n",
    "        visited=[False]*self.v\n",
    "        count=[0]\n",
    "        self.countPathsUtil(s,d,visited,count)\n",
    "        return count[0]\n",
    "\n",
    "    def countPathsUtil(self,s,d,visited,count):\n",
    "        visited[s]=True\n",
    "        if s==d:\n",
    "            count[0]+=1\n",
    "        else:\n",
    "            for i in self.graph[s]:\n",
    "                if visited[i]==False:\n",
    "                    self.countPathsUtil(i,d,visited,count)\n",
    "        visited[s]=False\n",
    "\n",
    "if __name__ == '__main__':\n",
    "    g=Graph(4)\n",
    "    g.addEdge(0, 1)\n",
    "    g.addEdge(0, 2)\n",
    "    g.addEdge(0, 3)\n",
    "    g.addEdge(2, 0)\n",
    "    g.addEdge(2, 1)\n",
    "    g.addEdge(1, 3)\n",
    "    result=g.countPaths(2,3)\n",
    "    print(result)\n"
   ]
  },
  {
   "cell_type": "markdown",
   "metadata": {},
   "source": [
    "# Minimum initial vertices to traverse whole matrix with given conditions"
   ]
  },
  {
   "cell_type": "code",
   "execution_count": 3,
   "metadata": {},
   "outputs": [
    {
     "name": "stdout",
     "output_type": "stream",
     "text": [
      "2\n"
     ]
    }
   ],
   "source": [
    "def countVerticesUtil(i,j,n,m,arr,visited):\n",
    "    visited[i][j]=True\n",
    "\n",
    "    if i+1<n and arr[i+1][j]<=arr[i][j] and visited[i+1][j]==False:\n",
    "        countVerticesUtil(i+1,j,n,m,arr,visited)\n",
    "\n",
    "    if i-1>=0 and arr[i-1][j]<=arr[i][j] and visited[i-1][j]==False:\n",
    "        countVerticesUtil(i-1,j,n,m,arr,visited)\n",
    "\n",
    "    if j+1<m and arr[i][j+1]<=arr[i][j] and visited[i][j+1]==False:\n",
    "        countVerticesUtil(i,j+1,n,m,arr,visited)\n",
    "\n",
    "    if j-1<n and arr[i][j-1]<=arr[i][j] and visited[i][j-1]==False:\n",
    "        countVerticesUtil(i,j-1,n,m,arr,visited)\n",
    "\n",
    "def countInitialVertices(arr,n,m):\n",
    "    dict=[]\n",
    "    count=0\n",
    "    for i in range(n):\n",
    "        for j in range(m):\n",
    "            dict.append((arr[i][j],(i,j)))\n",
    "    dict=sorted(dict,key=lambda x:x[0])\n",
    "    # print(dict)\n",
    "    visited=[[False for j in range(m)] for i in range(n)]\n",
    "    # print(visited)\n",
    "    for i in range(len(dict)-1,-1,-1):\n",
    "        if visited[dict[i][1][0]][dict[i][1][1]] ==False:\n",
    "            count+=1\n",
    "            # print(i)\n",
    "            countVerticesUtil(dict[i][1][0],dict[i][1][1],n,m,arr,visited)\n",
    "    # print(visited)\n",
    "    return count\n",
    "if __name__ == '__main__':\n",
    "    arr=[[1,2,3],[2,3,1],[1,1,1]]\n",
    "    n=3;m=3\n",
    "    print(countInitialVertices(arr,n,m))\n"
   ]
  },
  {
   "cell_type": "markdown",
   "metadata": {},
   "source": [
    "# Shortest path to reach one prime to other by changing single digit at a time"
   ]
  },
  {
   "cell_type": "code",
   "execution_count": 5,
   "metadata": {},
   "outputs": [
    {
     "name": "stdout",
     "output_type": "stream",
     "text": [
      "6\n"
     ]
    }
   ],
   "source": [
    "from collections import defaultdict\n",
    "class Graph:\n",
    "    def __init__(self,v):\n",
    "        self.v=v\n",
    "        self.graph=defaultdict(list)\n",
    "\n",
    "    def addEdge(self,u,v):\n",
    "        self.graph[u].append(v)\n",
    "        self.graph[v].append(u)\n",
    "\n",
    "    def BFS(self,in1,in2):\n",
    "        visited=[0]*self.v\n",
    "        queue=[]\n",
    "        queue.append(in1)\n",
    "        visited[in1]=1\n",
    "        while queue:\n",
    "            ele=queue.pop(0)\n",
    "            for i in self.graph[ele]:\n",
    "                if visited[i]==0:\n",
    "                    visited[i]=visited[ele]+1\n",
    "                    queue.append(i)\n",
    "                if i==in2:\n",
    "                    return visited[i]-1\n",
    "\n",
    "def countShortestPath(num1,num2):\n",
    "    primeNos=[]\n",
    "    sieveOfEratosthenes(primeNos)\n",
    "    # print(primeNos)\n",
    "\n",
    "    g=Graph(len(primeNos))\n",
    "    for i in range(len(primeNos)):\n",
    "        for j in range(i+1,len(primeNos)):\n",
    "            if compare(primeNos[i],primeNos[j]):\n",
    "                g.addEdge(i,j)\n",
    "\n",
    "    in1=0;in2=0\n",
    "    for i in range(len(primeNos)):\n",
    "        if primeNos[i]==num1:\n",
    "            in1=i\n",
    "            break\n",
    "    for i in range(len(primeNos)):\n",
    "        if primeNos[i]==num2:\n",
    "            in2=i\n",
    "            break\n",
    "    # # print(g.graph[17])\n",
    "    # q=primeNos.index(11)\n",
    "    # # print(q)\n",
    "    # for i in g.graph[q]:\n",
    "    #     # print(i)\n",
    "    #     print(primeNos[i],end=' ')\n",
    "    return g.BFS(in1,in2)\n",
    "\n",
    "def compare(n1,n2):\n",
    "    s1=str(n1)\n",
    "    s2=str(n2)\n",
    "    c=0\n",
    "    if s1[0]!=s2[0]:\n",
    "        c+=1\n",
    "    if s1[1]!=s2[1]:\n",
    "        c+=1\n",
    "    if s1[2]!=s2[2]:\n",
    "        c+=1\n",
    "    if s1[3]!=s2[3]:\n",
    "        c+=1\n",
    "    return c==1\n",
    "\n",
    "def sieveOfEratosthenes(primeNos):\n",
    "    n=9999\n",
    "    prime=[True]*(n+1)\n",
    "    p=2\n",
    "    while p*p<=n:\n",
    "        if prime[p]==True:\n",
    "            for i in range(p*p,n+1,p):\n",
    "                prime[i]=False\n",
    "        p+=1\n",
    "    for i in range(1000,len(prime)):\n",
    "        if prime[i]:\n",
    "            primeNos.append(i)\n",
    "\n",
    "if __name__ == '__main__':\n",
    "    n1=1033\n",
    "    n2=8179\n",
    "    print(countShortestPath(n1,n2))\n"
   ]
  },
  {
   "cell_type": "markdown",
   "metadata": {},
   "source": [
    "# Water Jug problem using BFS"
   ]
  },
  {
   "cell_type": "code",
   "execution_count": 6,
   "metadata": {},
   "outputs": [
    {
     "name": "stdout",
     "output_type": "stream",
     "text": [
      "6\n"
     ]
    }
   ],
   "source": [
    "def waterJugProblem(n,m,target):\n",
    "    queue=[]\n",
    "    visited=[ [0 for j in range(m+1)] for i in range(n+1)]\n",
    "    queue.append((0,0))\n",
    "    visited[0][0]=1\n",
    "    while queue:\n",
    "        ele=queue.pop(0)\n",
    "        if ele[0]==target or ele[1]==target:\n",
    "            return visited[ele[0]][ele[1]]-1\n",
    "\n",
    "        if ele[0]==0:\n",
    "            if visited[n][ele[1]]==0:\n",
    "                queue.append((n,ele[1]))\n",
    "                visited[n][ele[1]]=visited[ele[0]][ele[1]]+1\n",
    "\n",
    "        amount=min(ele[0],m-ele[1])\n",
    "        if amount>0:\n",
    "            queue.append((ele[0]-amount,ele[1]+amount))\n",
    "            visited[ele[0]-amount][ele[1]+amount]=visited[ele[0]][ele[1]]+1\n",
    "\n",
    "        if ele[1]==m:\n",
    "            if visited[ele[0]][0]==0:\n",
    "                queue.append((ele[0],0))\n",
    "                visited[ele[0]][0]=visited[ele[0]][ele[1]]+1\n",
    "\n",
    "if __name__ == '__main__':\n",
    "    result=min(waterJugProblem(5,3,4),waterJugProblem(3,5,4))\n",
    "    print(result)\n"
   ]
  },
  {
   "cell_type": "markdown",
   "metadata": {},
   "source": [
    "# Count number of trees in a forest"
   ]
  },
  {
   "cell_type": "code",
   "execution_count": 7,
   "metadata": {},
   "outputs": [
    {
     "name": "stdout",
     "output_type": "stream",
     "text": [
      "2\n"
     ]
    }
   ],
   "source": [
    "from collections import defaultdict\n",
    "class Graph:\n",
    "    def __init__(self,v):\n",
    "        self.v=v\n",
    "        self.graph=defaultdict(list)\n",
    "\n",
    "    def addEdge(self,u,v):\n",
    "        self.graph[u].append(v)\n",
    "\n",
    "    def countForestUtil(self,v,visited):\n",
    "        visited[v]=True\n",
    "        for i in self.graph[v]:\n",
    "            if visited[i]==False:\n",
    "                self.countForestUtil(i,visited)\n",
    "\n",
    "    def countForest(self):\n",
    "        visited=[False]*self.v\n",
    "        count=0\n",
    "        for i in range(self.v):\n",
    "            if visited[i]==False:\n",
    "                count+=1\n",
    "                self.countForestUtil(i,visited)\n",
    "        return count\n",
    "\n",
    "if __name__ == '__main__':\n",
    "    g=Graph(5)\n",
    "    g.addEdge(0,1)\n",
    "    g.addEdge(0,2)\n",
    "    g.addEdge(3,4)\n",
    "    print(g.countForest())\n"
   ]
  },
  {
   "cell_type": "markdown",
   "metadata": {},
   "source": [
    "# Transpose graph"
   ]
  },
  {
   "cell_type": "code",
   "execution_count": 8,
   "metadata": {},
   "outputs": [
    {
     "name": "stdout",
     "output_type": "stream",
     "text": [
      "0--> 1 4 3 \n",
      "1--> \n",
      "2--> 0 \n",
      "3--> 2 \n",
      "4--> 1 3 \n",
      "\n",
      "0--> 2 \n",
      "1--> 0 4 \n",
      "2--> 3 \n",
      "3--> 0 4 \n",
      "4--> 0 \n",
      "\n"
     ]
    }
   ],
   "source": [
    "from collections import defaultdict\n",
    "\n",
    "class Graph:\n",
    "    def __init__(self,v):\n",
    "        self.v=v\n",
    "        self.graph=defaultdict(list)\n",
    "\n",
    "    def addEdge(self,u,v):\n",
    "        self.graph[u].append(v)\n",
    "\n",
    "    def transposeGraph(self,t):\n",
    "        for i in range(self.v):\n",
    "            for j in self.graph[i]:\n",
    "                t.addEdge(j,i)\n",
    "\n",
    "    def displayGraph(self):\n",
    "        for i in range(self.v):\n",
    "            print(f'{i}-->',end=\" \")\n",
    "            for j in self.graph[i]:\n",
    "                print(f'{j}',end=\" \")\n",
    "            print()\n",
    "        print()\n",
    "\n",
    "\n",
    "\n",
    "if __name__ == '__main__':\n",
    "    g=Graph(5)\n",
    "    g.addEdge(0,1)\n",
    "    g.addEdge(0,4)\n",
    "    g.addEdge(0,3)\n",
    "    g.addEdge(2,0)\n",
    "    g.addEdge(3,2)\n",
    "    g.addEdge(4,1)\n",
    "    g.addEdge(4,3)\n",
    "    # g.addEdge(0,1)\n",
    "    t=Graph(5)\n",
    "    g.transposeGraph(t)\n",
    "    g.displayGraph()\n",
    "    t.displayGraph()\n"
   ]
  },
  {
   "cell_type": "markdown",
   "metadata": {},
   "source": [
    "# Path in a Rectangle with Circles"
   ]
  },
  {
   "cell_type": "code",
   "execution_count": 9,
   "metadata": {},
   "outputs": [
    {
     "name": "stdout",
     "output_type": "stream",
     "text": [
      "(0, 0)\n",
      "(1, 0)\n",
      "(1, 1)\n",
      "(2, 0)\n",
      "(3, 0)\n",
      "(3, 1)\n",
      "(4, 1)\n",
      "(4, 2)\n",
      "(4, 3)\n",
      "(4, 4)\n",
      "True\n"
     ]
    }
   ],
   "source": [
    "def preprocess(mat,m,n,r,k,x,y):\n",
    "    for i in range(k):\n",
    "        p=x[i]\n",
    "        q=y[i]\n",
    "        mat[p][q]=0\n",
    "        for i in range(r):\n",
    "            if p+r<=m:\n",
    "                mat[p+r][q]=0\n",
    "            if p-r>=0:\n",
    "                mat[p-r][q]=0\n",
    "            if q+r<=n:\n",
    "                mat[p][q+r]=0\n",
    "            if q-r>=0:\n",
    "                mat[p][q-r]=0\n",
    "\n",
    "def findPath(mat,m,n,r,k,x,y):\n",
    "    preprocess(mat,m,n,r,k,x,y)\n",
    "    # print(mat)\n",
    "    # for i in range(m):\n",
    "    #     print(mat[i])\n",
    "    if mat[0][0]==0:\n",
    "        return False\n",
    "    visited=[[False for j in range(n)] for i in range(m)]\n",
    "    if findPathUtil(mat,m,n,0,0,visited):\n",
    "        return True\n",
    "    return False\n",
    "\n",
    "def findPathUtil(mat,m,n,i,j,visited):\n",
    "    '''\n",
    "    print(i,j,f'm={m-1} n={n-1}')\n",
    "    visited[i][j]=True\n",
    "    if i==m-1 and j==n-1:\n",
    "        return True\n",
    "    if i+1<m and mat[i+1][j]==1 and visited[i+1][j]==False:\n",
    "        return findPathUtil(mat,m,n,i+1,j,visited)\n",
    "    if i-1>=0 and mat[i-1][j]==1 and visited[i-1][j]==False:\n",
    "        return findPathUtil(mat,m,n,i-1,j,visited)\n",
    "    if j+1<n and mat[i][j+1]==1 and visited[i][j+1]==False:\n",
    "        return findPathUtil(mat,m,n,i,j+1,visited)\n",
    "    if j-1>=0 and mat[i][j-1]==1 and visited[i][j-1]==False:\n",
    "        return findPathUtil(mat,m,n,i,j-1,visited)\n",
    "    # visited[i][j]=False\n",
    "    '''\n",
    "\n",
    "    queue=[]\n",
    "    queue.append((i,j))\n",
    "    visited[i][j]=True\n",
    "    while queue:\n",
    "        ele=queue.pop()\n",
    "        print(ele)\n",
    "        if ele[0]==m-1 and ele[1]==n-1:\n",
    "            return True\n",
    "\n",
    "        i=ele[0]\n",
    "        j=ele[1]\n",
    "\n",
    "        if i+1<m and mat[i+1][j]==1 and visited[i+1][j]==False:\n",
    "            queue.append((i+1,j))\n",
    "            visited[i+1][j]=True\n",
    "\n",
    "        if i-1>=0 and mat[i-1][j]==1 and visited[i-1][j]==False:\n",
    "            queue.append((i-1,j))\n",
    "            visited[i-1][j]=True\n",
    "\n",
    "        if j+1<n and mat[i][j+1]==1 and visited[i][j+1]==False:\n",
    "            queue.append((i,j+1))\n",
    "            visited[i][j+1]=True\n",
    "\n",
    "        if j-1>=0 and mat[i][j-1]==1 and visited[i][j-1]==False:\n",
    "            queue.append((i,j-1))\n",
    "            visited[i][j-1]=True\n",
    "\n",
    "\n",
    "    return False\n",
    "\n",
    "if __name__ == '__main__':\n",
    "    m=5;n=5;r=1;k=2\n",
    "    x=[1-1,3-1];y=[3-1,3-1]\n",
    "    mat=[[1 for j in range(0,n)] for i in range(0,m)]\n",
    "    # for i in range(m+1):\n",
    "\n",
    "    print(findPath(mat,m,n,r,k,x,y))\n"
   ]
  },
  {
   "cell_type": "markdown",
   "metadata": {},
   "source": [
    "# Height of a generic tree from parent array"
   ]
  },
  {
   "cell_type": "markdown",
   "metadata": {},
   "source": [
    "One solution can be to use the parent array to fill the height of the nodes. But this solution only works if the nodes are in alphabetical order"
   ]
  },
  {
   "cell_type": "code",
   "execution_count": 1,
   "metadata": {},
   "outputs": [
    {
     "name": "stdout",
     "output_type": "stream",
     "text": [
      "4\n"
     ]
    }
   ],
   "source": [
    "def getHeight(parent):\n",
    "    level=[-1]*len(parent)\n",
    "    height=float('-infinity')\n",
    "    for i in range(len(parent)):\n",
    "        if parent[i]==-1:\n",
    "            level[i]=0\n",
    "        else:\n",
    "            level[i]=level[parent[i]]+1\n",
    "        height=max(height,level[i])\n",
    "    # print(level)\n",
    "    return height\n",
    "\n",
    "if __name__ == '__main__':\n",
    "    # parent=[-1, 0, 0, 0, 3, 1, 1, 2]\n",
    "    parent=[-1, 0, 1, 2, 3]\n",
    "    result=getHeight(parent)\n",
    "    print(result)\n"
   ]
  },
  {
   "cell_type": "markdown",
   "metadata": {},
   "source": [
    "Another solution is to recursively visit the parent node and fill the height"
   ]
  },
  {
   "cell_type": "code",
   "execution_count": 2,
   "metadata": {},
   "outputs": [
    {
     "name": "stdout",
     "output_type": "stream",
     "text": [
      "4\n"
     ]
    }
   ],
   "source": [
    "def fillHeight(parent,i,visited,height):\n",
    "    # if root node\n",
    "    if parent[i]==-1:\n",
    "        # if root node is already visited\n",
    "        if visited[i]:\n",
    "            return 0\n",
    "        else:\n",
    "            visited[i]=True\n",
    "            return 0\n",
    "\n",
    "    # if node is visited simply return its height\n",
    "    if visited[i]:\n",
    "        return height[i]\n",
    "\n",
    "    visited[i]=True\n",
    "    return 1+fillHeight(parent,parent[i],visited,height)\n",
    "\n",
    "def getHeight(parent):\n",
    "    height=[0]*len(parent)\n",
    "    visited=[False]*len(parent)\n",
    "    maxHeight=float('-infinity')\n",
    "    for i in range(len(parent)):\n",
    "        height[i]=fillHeight(parent,i,visited,height)\n",
    "        maxHeight=max(maxHeight,height[i])\n",
    "    return maxHeight\n",
    "\n",
    "if __name__ == '__main__':\n",
    "    # parent=[-1, 0, 0, 0, 3, 1, 1, 2]\n",
    "    parent=[-1,0,1,2,3]\n",
    "    print(getHeight(parent))\n"
   ]
  },
  {
   "cell_type": "markdown",
   "metadata": {},
   "source": [
    "# Check whether a given graph is Bipartite or not"
   ]
  },
  {
   "cell_type": "markdown",
   "metadata": {},
   "source": [
    "A Bipartite Graph is a graph whose vertices can be divided into two independent sets, U and V such that every edge (u, v) either connects a vertex from U to V or a vertex from V to U. In other words, for every edge (u, v), either u belongs to U and v to V, or u belongs to V and v to U. We can also say that there is no edge that connects vertices of same set."
   ]
  },
  {
   "cell_type": "markdown",
   "metadata": {},
   "source": [
    "A bipartite graph is possible if the graph coloring is possible using two colors such that vertices in a set are colored with the same color. Note that it is possible to color a cycle graph with even cycle using two colors. For example, see the following graph. FOR EVEN GRAPH"
   ]
  },
  {
   "cell_type": "markdown",
   "metadata": {},
   "source": [
    "It is not possible to color a cycle graph with odd cycle using two colors."
   ]
  },
  {
   "cell_type": "code",
   "execution_count": 4,
   "metadata": {},
   "outputs": [
    {
     "name": "stdout",
     "output_type": "stream",
     "text": [
      "True\n"
     ]
    }
   ],
   "source": [
    "from collections import defaultdict\n",
    "\n",
    "class Graph:\n",
    "    def __init__(self,v):\n",
    "        self.v=v\n",
    "        self.graph=defaultdict(list)\n",
    "\n",
    "    def addEdge(self,u,v):\n",
    "        self.graph[u].append(v)\n",
    "\n",
    "    def isBipartite(self):\n",
    "        visited=[False]*self.v\n",
    "        queue=[]\n",
    "        color=[-1]*self.v\n",
    "        # colors=['B','R']\n",
    "        queue.append(0)\n",
    "        visited[0]=True\n",
    "        # j=0\n",
    "        color[0]=0\n",
    "        # print(color)\n",
    "        while queue:\n",
    "            parent=queue.pop(0)\n",
    "            for i in self.graph[parent]:\n",
    "                if visited[i]==False:\n",
    "                    if color[i]==-1:\n",
    "                        color[i]=1-color[parent]\n",
    "                    if color[i]==color[parent]:\n",
    "                        return False\n",
    "                    visited[i]=True\n",
    "                    queue.append(i)\n",
    "                else:\n",
    "                    if color[i]==color[parent]:\n",
    "                        # print(i,parent)\n",
    "                        return False\n",
    "        # print(color)\n",
    "        return True\n",
    "\n",
    "if __name__ == '__main__':\n",
    "    g=Graph(4)\n",
    "    g.addEdge(0,1)\n",
    "    g.addEdge(0,3)\n",
    "    g.addEdge(1,0)\n",
    "    g.addEdge(1,2)\n",
    "    g.addEdge(2,1)\n",
    "    g.addEdge(2,3)\n",
    "    g.addEdge(3,0)\n",
    "    g.addEdge(3,2)\n",
    "    # g=Graph(5)\n",
    "    # g.addEdge(0,1)\n",
    "    # g.addEdge(0,3)\n",
    "    # g.addEdge(1,2)\n",
    "    # g.addEdge(2,4)\n",
    "    # g.addEdge(3,4)\n",
    "    print(g.isBipartite())\n"
   ]
  },
  {
   "cell_type": "markdown",
   "metadata": {},
   "source": [
    "Time Complexity -> O(V+E) and space complexity -> O(V)"
   ]
  },
  {
   "cell_type": "markdown",
   "metadata": {},
   "source": [
    "Suppose there are 5 edges, so there can be 3 edges with same color and 2 edges with other color, so max edges in a bipartite graph=6, max edges in a tree=n-1, so max edges required=6-4=2"
   ]
  },
  {
   "cell_type": "markdown",
   "metadata": {},
   "source": [
    "# A Peterson Graph Problem"
   ]
  },
  {
   "cell_type": "markdown",
   "metadata": {},
   "source": [
    "# Print all paths from a given source to a destination using BFS"
   ]
  },
  {
   "cell_type": "code",
   "execution_count": 5,
   "metadata": {},
   "outputs": [
    {
     "name": "stdout",
     "output_type": "stream",
     "text": [
      "2 0 3\n",
      "2 1 3\n",
      "2 0 1 3\n"
     ]
    }
   ],
   "source": [
    "from collections import defaultdict\n",
    "class Graph:\n",
    "    def __init__(self,v):\n",
    "        self.v=v\n",
    "        self.graph=defaultdict(list)\n",
    "\n",
    "    def addEdge(self,u,v):\n",
    "        self.graph[u].append(v)\n",
    "\n",
    "    def printPath(self,path):\n",
    "        print(\" \".join(map(str,path)))\n",
    "\n",
    "    def notVisited(self,path,node):\n",
    "        for i in range(len(path)):\n",
    "            if path[i]==node:\n",
    "                return False\n",
    "        return True\n",
    "\n",
    "    def findPath(self,s,d):\n",
    "        queue=[]\n",
    "        path=[]\n",
    "        path.append(s)\n",
    "        queue.append(path)\n",
    "        while queue:\n",
    "            path_till_now=queue.pop(0)\n",
    "            if path_till_now[-1]==d:\n",
    "                self.printPath(path_till_now)\n",
    "            else:\n",
    "                for i in self.graph[path_till_now[-1]]:\n",
    "                    if self.notVisited(path_till_now,i):\n",
    "                        temp=path_till_now[:]\n",
    "                        temp.append(i)\n",
    "                        queue.append(temp)\n",
    "\n",
    "if __name__ == '__main__':\n",
    "    g=Graph(4)\n",
    "    g.addEdge(2,0)\n",
    "    g.addEdge(2,1)\n",
    "    g.addEdge(0,2)\n",
    "    g.addEdge(0,1)\n",
    "    g.addEdge(0,3)\n",
    "    g.addEdge(1,3)\n",
    "    g.findPath(2,3)\n"
   ]
  },
  {
   "cell_type": "markdown",
   "metadata": {},
   "source": [
    "# Minimum number of edges between two vertices of a Graph"
   ]
  },
  {
   "cell_type": "markdown",
   "metadata": {},
   "source": [
    "BFS will always give us the minimum number of edges"
   ]
  },
  {
   "cell_type": "code",
   "execution_count": 1,
   "metadata": {},
   "outputs": [
    {
     "name": "stdout",
     "output_type": "stream",
     "text": [
      "3\n"
     ]
    }
   ],
   "source": [
    "from collections import defaultdict\n",
    "class Graph:\n",
    "    def __init__(self,v):\n",
    "        self.v=v\n",
    "        self.graph=defaultdict(list)\n",
    "\n",
    "    def addEdge(self,u,v):\n",
    "        self.graph[u].append(v)\n",
    "        self.graph[v].append(u)\n",
    "\n",
    "    def findMinEdges(self,s,d):\n",
    "        queue=[]\n",
    "        visited=[False]*self.v\n",
    "        queue.append(s)\n",
    "        distance=[-1]*self.v\n",
    "        distance[s]=0\n",
    "        while queue:\n",
    "            parent=queue.pop(0)\n",
    "            for i in self.graph[parent]:\n",
    "                if visited[i]==False:\n",
    "                    visited[i]=True\n",
    "                    distance[i]=distance[parent]+1\n",
    "                    queue.append(i)\n",
    "        return distance[d]\n",
    "\n",
    "if __name__ == '__main__':\n",
    "    # g=Graph(7)\n",
    "    # g.addEdge(0,1)\n",
    "    # g.addEdge(0,2)\n",
    "    # g.addEdge(0,4)\n",
    "    # g.addEdge(1,0)\n",
    "    # g.addEdge(1,2)\n",
    "    # g.addEdge(2,0)\n",
    "    # g.addEdge(2,1)\n",
    "    # g.addEdge(2,5)\n",
    "    # g.addEdge(3,4)\n",
    "    # g.addEdge(4,0)\n",
    "    # g.addEdge(4,3)\n",
    "    # g.addEdge(4,5)\n",
    "    # g.addEdge(4,6)\n",
    "    # g.addEdge(5,4)\n",
    "    # g.addEdge(5,2)\n",
    "    # g.addEdge(6,4)\n",
    "    g=Graph(9)\n",
    "    g.addEdge(0, 1)\n",
    "    g.addEdge(0, 7)\n",
    "    g.addEdge(1, 7)\n",
    "    g.addEdge(1, 2)\n",
    "    g.addEdge(2, 3)\n",
    "    g.addEdge(2, 5)\n",
    "    g.addEdge(2, 8)\n",
    "    g.addEdge(3, 4)\n",
    "    g.addEdge(3, 5)\n",
    "    g.addEdge(4, 5)\n",
    "    g.addEdge(5, 6)\n",
    "    g.addEdge(6, 7)\n",
    "    g.addEdge(7, 8)\n",
    "    print(g.findMinEdges(0,5))\n"
   ]
  },
  {
   "cell_type": "markdown",
   "metadata": {},
   "source": [
    "# Count nodes within K-distance from all nodes in a set"
   ]
  },
  {
   "cell_type": "markdown",
   "metadata": {},
   "source": [
    "Given an undirected tree with some marked nodes and a positive number K. We need to print the count of all such nodes which have distance from all marked nodes less than K that means every node whose distance from all marked nodes is less than K, should be counted in the result."
   ]
  },
  {
   "cell_type": "markdown",
   "metadata": {},
   "source": [
    "![](https://media.geeksforgeeks.org/wp-content/uploads/nodeAtKDistance.png)"
   ]
  },
  {
   "cell_type": "code",
   "execution_count": 2,
   "metadata": {},
   "outputs": [
    {
     "name": "stdout",
     "output_type": "stream",
     "text": [
      "6\n"
     ]
    }
   ],
   "source": [
    "from collections import defaultdict\n",
    "class Graph:\n",
    "    def __init__(self,v):\n",
    "        self.v=v\n",
    "        self.graph=defaultdict(list)\n",
    "\n",
    "    def addEdge(self,u,v):\n",
    "        self.graph[u].append(v)\n",
    "        self.graph[v].append(u)\n",
    "\n",
    "    def getNodesWithinDistanceUtil(self,s,k,distance):\n",
    "        queue=[]\n",
    "        visited=[False]*self.v\n",
    "        queue.append(s)\n",
    "        visited[s]=True\n",
    "        distance[s]=0\n",
    "        while queue:\n",
    "            parent=queue.pop(0)\n",
    "            for i in self.graph[parent]:\n",
    "                if visited[i]==False:\n",
    "                    visited[i]=True\n",
    "                    queue.append(i)\n",
    "                    distance[i]=distance[parent]+1\n",
    "\n",
    "    def getNodesWithinDistance(self,marked,k):\n",
    "        # self.distance=[-1]*self.v\n",
    "        distance=[[-1]*self.v for i in range(len(marked))]\n",
    "        # print(self.distance)\n",
    "        for i in range(len(marked)):\n",
    "            self.getNodesWithinDistanceUtil(marked[i],k,distance[i])\n",
    "        count=0\n",
    "        for i in range(self.v):\n",
    "            within_range=True\n",
    "            for j in range(len(distance)):\n",
    "                if distance[j][i]>k:\n",
    "                    within_range=False\n",
    "                    break\n",
    "            if within_range:\n",
    "                # print(i,end=\" \")\n",
    "                count+=1\n",
    "        return count\n",
    "\n",
    "if __name__ == '__main__':\n",
    "    g=Graph(10)\n",
    "    g.addEdge(1,0)\n",
    "    g.addEdge(0,3)\n",
    "    g.addEdge(0,8)\n",
    "    g.addEdge(2,3)\n",
    "    g.addEdge(3,5)\n",
    "    g.addEdge(3,6)\n",
    "    g.addEdge(3,7)\n",
    "    g.addEdge(4,5)\n",
    "    g.addEdge(5,9)\n",
    "    marked=[1,2,4]\n",
    "    k=3\n",
    "    print(g.getNodesWithinDistance(marked,k))\n"
   ]
  },
  {
   "cell_type": "markdown",
   "metadata": {},
   "source": [
    "# Bidirectional Search"
   ]
  },
  {
   "cell_type": "markdown",
   "metadata": {},
   "source": [
    "Searching a graph is quite famous problem and have a lot of practical use. We have already discussed here how to search for a goal vertex starting from a source vertex using BFS. In normal graph search using BFS/DFS we begin our search in one direction usually from source vertex toward the goal vertex, but what if we start search form both direction simultaneously."
   ]
  },
  {
   "cell_type": "markdown",
   "metadata": {},
   "source": [
    "Bidirectional search is a graph search algorithm which find smallest path form source to goal vertex. \n",
    "\n",
    "It runs two simultaneous search –\n",
    "\n",
    "1) Forward search form source/initial vertex toward goal vertex\n",
    "2) Backward search form goal/target vertex toward source vertex"
   ]
  },
  {
   "cell_type": "markdown",
   "metadata": {},
   "source": [
    "Bidirectional search replaces single search graph(which is likely to grow exponentially) with two smaller sub graphs – one starting from initial vertex and other starting from goal vertex. The search terminates when two graphs intersect."
   ]
  },
  {
   "cell_type": "markdown",
   "metadata": {},
   "source": [
    "<strong>Why bidirectional approach?</strong>\n",
    "\n",
    "Because in many cases it is faster, it dramatically reduce the amount of required exploration.\n",
    "Suppose if branching factor of tree is b(number of children from each node or the outdegree) and distance of goal vertex from source is d, then the normal BFS/DFS searching complexity would be O(b^d). On the other hand, if we execute two search operation then the complexity would be O(b^{d/2}) for each search and total complexity would be O(b^{d/2}+b^{d/2}) which is far less than O(b^d)."
   ]
  },
  {
   "cell_type": "markdown",
   "metadata": {},
   "source": [
    "<strong>When to use bidirectional approach?</strong>\n",
    "\n",
    "We can consider bidirectional approach when-\n",
    "\n",
    "1) Both initial and goal states are unique and completely defined.\n",
    "2) The branching factor is exactly the same in both directions."
   ]
  },
  {
   "cell_type": "markdown",
   "metadata": {},
   "source": [
    "<strong>Performance measures</strong>\n",
    "\n",
    "Completeness : Bidirectional search is complete if BFS is used in both searches.\n",
    "Optimality : It is optimal if BFS is used for search and paths have uniform cost.\n",
    "Time and Space Complexity : Time and space complexity is O(b^{d/2})"
   ]
  },
  {
   "cell_type": "code",
   "execution_count": 3,
   "metadata": {},
   "outputs": [
    {
     "name": "stdout",
     "output_type": "stream",
     "text": [
      "0 4 6 7 8 10 14\n"
     ]
    }
   ],
   "source": [
    "from collections import defaultdict\n",
    "class Graph:\n",
    "    def __init__(self,v):\n",
    "        self.v=v\n",
    "        self.graph=defaultdict(list)\n",
    "\n",
    "    def addEdge(self,u,v):\n",
    "        self.graph[u].append(v)\n",
    "\n",
    "    def BFS(self,queue,visited,parent):\n",
    "        current=queue.pop(0)\n",
    "        for i in self.graph[current]:\n",
    "            if visited[i]==False:\n",
    "                visited[i]=True\n",
    "                queue.append(i)\n",
    "                parent[i]=current\n",
    "\n",
    "    def isIntersecting(self,s_visited,t_visited):\n",
    "        for i in range(self.v):\n",
    "            if s_visited[i] and t_visited[i]:\n",
    "                return i\n",
    "        return -1\n",
    "\n",
    "    def printPath(self,s_parent,t_parent,intersect,s,t):\n",
    "        path=[]\n",
    "        path.append(intersect)\n",
    "\n",
    "        i=intersect\n",
    "\n",
    "        while i!=s:\n",
    "            path.append(s_parent[i])\n",
    "            i=s_parent[i]\n",
    "\n",
    "        path=path[::-1]\n",
    "        # print(path)\n",
    "        i=intersect\n",
    "\n",
    "        while i!=t:\n",
    "            path.append(t_parent[i])\n",
    "            i=t_parent[i]\n",
    "        # path=path[::-1]\n",
    "        print(\" \".join(map(str,path)))\n",
    "\n",
    "    def findPath(self,s,t):\n",
    "        s_queue=[]\n",
    "        t_queue=[]\n",
    "\n",
    "        s_visited=[False]*self.v\n",
    "        t_visited=[False]*self.v\n",
    "\n",
    "        s_parent=[0]*self.v\n",
    "        t_parent=[0]*self.v\n",
    "\n",
    "        s_queue.append(s)\n",
    "        s_parent[s]=-1\n",
    "\n",
    "        t_queue.append(t)\n",
    "        t_parent[t]=-1\n",
    "\n",
    "        while s_queue and t_queue:\n",
    "            self.BFS(s_queue,s_visited,s_parent)\n",
    "            self.BFS(t_queue,t_visited,t_parent)\n",
    "\n",
    "            intersectNode=self.isIntersecting(s_visited,t_visited)\n",
    "\n",
    "            if intersectNode!=-1:\n",
    "                self.printPath(s_parent,t_parent,intersectNode,s,t)\n",
    "                return\n",
    "        return -1\n",
    "\n",
    "if __name__ == '__main__':\n",
    "    g=Graph(15)\n",
    "    g.addEdge(0,4)\n",
    "    g.addEdge(1,4)\n",
    "    g.addEdge(2,5)\n",
    "    g.addEdge(3,5)\n",
    "    g.addEdge(4,0)\n",
    "    g.addEdge(4,1)\n",
    "    g.addEdge(4,6)\n",
    "    g.addEdge(5,2)\n",
    "    g.addEdge(5,3)\n",
    "    g.addEdge(5,6)\n",
    "    g.addEdge(6,4)\n",
    "    g.addEdge(6,5)\n",
    "    g.addEdge(6,7)\n",
    "    g.addEdge(7,6)\n",
    "    g.addEdge(7,8)\n",
    "    g.addEdge(8,7)\n",
    "    g.addEdge(8,9)\n",
    "    g.addEdge(8,10)\n",
    "    g.addEdge(9,8)\n",
    "    g.addEdge(9,11)\n",
    "    g.addEdge(9,12)\n",
    "    g.addEdge(10,8)\n",
    "    g.addEdge(10,13)\n",
    "    g.addEdge(10,14)\n",
    "    g.addEdge(11,9)\n",
    "    g.addEdge(12,9)\n",
    "    g.addEdge(13,10)\n",
    "    g.addEdge(14,10)\n",
    "    if g.findPath(0,14)==-1:\n",
    "        print(\"Path not found\")\n"
   ]
  },
  {
   "cell_type": "markdown",
   "metadata": {},
   "source": [
    "# Minimum edge reversals to make a root"
   ]
  },
  {
   "cell_type": "markdown",
   "metadata": {},
   "source": [
    "# BFS for Disconnected Graph"
   ]
  },
  {
   "cell_type": "markdown",
   "metadata": {},
   "source": [
    "Discussed"
   ]
  },
  {
   "cell_type": "markdown",
   "metadata": {},
   "source": [
    "# Move weighting scale alternate under given constraints"
   ]
  },
  {
   "cell_type": "markdown",
   "metadata": {},
   "source": [
    "<pre>\n",
    "Given a weighting scale and an array of different positive weights where we have an infinite supply of each weight. Our task is to put weights on left and right pans of scale one by one in such a way that pans move to that side where weight is put i.e. each time, pans of scale moves to alternate sides.\n",
    "\n",
    "We are given another integer ‘steps’, times which we need to perform this operation.\n",
    "Another constraint is that we can’t put same weight consecutively i.e. if weight w is taken then in next step while putting the weight on opposite pan we can’t take w again.\n",
    "</pre>"
   ]
  },
  {
   "cell_type": "code",
   "execution_count": 1,
   "metadata": {},
   "outputs": [
    {
     "name": "stdout",
     "output_type": "stream",
     "text": [
      "2 3 2 3 5 6 5 3 2 3\n"
     ]
    }
   ],
   "source": [
    "def getSequence(arr,steps):\n",
    "    n=len(arr)\n",
    "    sequence=[]\n",
    "    sequence.append(arr[0])\n",
    "    sequence.append(arr[1])\n",
    "    WEIGHT_1=arr[0]\n",
    "    WEIGHT_2=arr[1]\n",
    "    curr=1\n",
    "    for i in range(steps-2):\n",
    "        for j in range(n):\n",
    "            if j==curr:\n",
    "                continue\n",
    "            if i%2==0:\n",
    "                if arr[j]+WEIGHT_1>WEIGHT_2:\n",
    "                    WEIGHT_1+=arr[j]\n",
    "                    sequence.append(arr[j])\n",
    "                    curr=j\n",
    "                    break\n",
    "            else:\n",
    "                if arr[j]+WEIGHT_2>WEIGHT_1:\n",
    "                    WEIGHT_2+=arr[j]\n",
    "                    sequence.append(arr[j])\n",
    "                    curr=j\n",
    "                    break\n",
    "\n",
    "    return sequence\n",
    "\n",
    "if __name__ == '__main__':\n",
    "    arr=[2,3,5,6]\n",
    "    steps=10\n",
    "    # arr=[7,11]\n",
    "    # steps=3\n",
    "    result=getSequence(arr,steps)\n",
    "    print(\" \".join(map(str,result)))\n"
   ]
  },
  {
   "cell_type": "markdown",
   "metadata": {},
   "source": [
    "# Number of pair of positions in matrix which are not accessible"
   ]
  },
  {
   "cell_type": "markdown",
   "metadata": {},
   "source": [
    "Given a positive integer N. Consider a matrix of N X N. No cell can be accessible from any other cell, except the given pair cell in the form of (x1, y1), (x2, y2) i.e there is a path (accessible) between (x2, y2) to (x1, y1). The task is to find the count of pairs (a1, b1), (a2, b2) such that cell (a2, b2) is not accessible from (a1, b1)."
   ]
  },
  {
   "cell_type": "markdown",
   "metadata": {},
   "source": [
    "Consider each cell as a node, numbered from 1 to N*N. Each cell (x, y) can be map to number using (x – 1)*N + y. Now, consider each given allowed path as an edge between nodes. This will form a disjoint set of the connected component. Now, using Depth First Traversal or Breadth First Traversal, we can easily find the number of nodes or size of a connected component, say x. Now, count of non-accessible paths are x*(N*N – x). This way we can find non-accessible paths for each connected path."
   ]
  },
  {
   "cell_type": "code",
   "execution_count": 1,
   "metadata": {},
   "outputs": [
    {
     "name": "stdout",
     "output_type": "stream",
     "text": [
      "6\n"
     ]
    }
   ],
   "source": [
    "from collections import defaultdict\n",
    "class Graph:\n",
    "    def __init__(self,v):\n",
    "        self.v=v\n",
    "        self.graph=defaultdict(list)\n",
    "\n",
    "    def addEdge(self,u,v):\n",
    "        self.graph[u].append(v)\n",
    "        self.graph[v].append(u)\n",
    "\n",
    "    def insertPath(self,n,x1,y1,x2,y2):\n",
    "        a=(x1-1)*n+y1\n",
    "        b=(x2-1)*n+y2\n",
    "        self.addEdge(a,b)\n",
    "\n",
    "    def dfs(self,n,visited,s,k):\n",
    "        visited[s]=True\n",
    "        for i in self.graph[s]:\n",
    "            if visited[i-1]==False:\n",
    "                k[0]+=1\n",
    "                self.dfs(n,visited,i,k)\n",
    "\n",
    "    def countNonAccessiblePaths(self,n):\n",
    "        visited=[False]*(self.v)\n",
    "        ans=0\n",
    "        for i in range(1,self.v+1):\n",
    "            if visited[i-1]==False:\n",
    "                k=[1]\n",
    "                self.dfs(n,visited,i,k)\n",
    "                ans+=k[0]*(self.v-k[0])\n",
    "        return ans\n",
    "\n",
    "if __name__ == '__main__':\n",
    "    n=2\n",
    "    g=Graph(n*n)\n",
    "    g.insertPath(n,1,1,1,2)\n",
    "    g.insertPath(n,1,2,2,2)\n",
    "    # print(g.graph)\n",
    "    print(g.countNonAccessiblePaths(n))\n"
   ]
  },
  {
   "cell_type": "markdown",
   "metadata": {},
   "source": [
    "# Maximum product of two non-intersecting paths in a tree"
   ]
  },
  {
   "cell_type": "markdown",
   "metadata": {},
   "source": [
    "# Delete Edge to minimize subtree sum difference"
   ]
  },
  {
   "cell_type": "markdown",
   "metadata": {},
   "source": [
    "# Find the minimum number of moves needed to move from one cell of matrix to another"
   ]
  },
  {
   "cell_type": "markdown",
   "metadata": {},
   "source": [
    "<pre>\n",
    "Given a N X N matrix (M) filled with 1 , 0 , 2 , 3 . Find the minimum numbers of moves needed to move from source to destination (sink) . while traversing through blank cells only. You can traverse up, down, right and left.\n",
    "A value of cell 1 means Source.\n",
    "A value of cell 2 means Destination.\n",
    "A value of cell 3 means Blank cell.\n",
    "A value of cell 0 means Blank Wall.\n",
    "Note : there is only single source and single destination.they may be more than one path from source to destination(sink).each move in matrix we consider as ‘1’\n",
    "</pre>"
   ]
  },
  {
   "cell_type": "code",
   "execution_count": 2,
   "metadata": {},
   "outputs": [
    {
     "name": "stdout",
     "output_type": "stream",
     "text": [
      "4\n"
     ]
    }
   ],
   "source": [
    "def getMinLengthPath(arr):\n",
    "    rows=len(arr)\n",
    "    cols=len(arr[0])\n",
    "    # print(rows,cols)\n",
    "    for i in range(rows):\n",
    "        for j in range(cols):\n",
    "            if arr[i][j]==1:\n",
    "                x=i\n",
    "                y=j\n",
    "                break\n",
    "    queue=[]\n",
    "    visited=[[False for j in range(cols)]for i in range(rows)]\n",
    "    visited[x][y]=True\n",
    "    queue.append((x,y))\n",
    "    path=[[0 for j in range(cols)]for i in range(rows)]\n",
    "    while queue:\n",
    "        # print(queue)\n",
    "        current=queue.pop(0)\n",
    "        i,j=current[0],current[1]\n",
    "        # print(i,j)\n",
    "        if arr[i][j]==2:\n",
    "            return path[i][j]\n",
    "        if i+1<rows and (arr[i+1][j]==3 or arr[i+1][j]==2) and visited[i+1][j]==False:\n",
    "            queue.append((i+1,j))\n",
    "            path[i+1][j]=path[i][j]+1\n",
    "            visited[i+1][j]=True\n",
    "        if i-1>=0 and (arr[i-1][j]==3 or arr[i-1][j]==2) and visited[i-1][j]==False:\n",
    "            queue.append((i-1,j))\n",
    "            path[i-1][j]=path[i][j]+1\n",
    "            visited[i-1][j]=True\n",
    "        if j+1<cols and (arr[i][j+1]==3 or arr[i][j+1]==2) and visited[i][j+1]==False:\n",
    "            queue.append((i,j+1))\n",
    "            path[i][j+1]=path[i][j]+1\n",
    "            visited[i][j+1]=True\n",
    "        if j-1>=0 and (arr[i][j-1]==3 or arr[i][j-1]==2) and visited[i][j-1]==False:\n",
    "            queue.append((i,j-1))\n",
    "            path[i][j-1]=path[i][j]+1\n",
    "            visited[i][j-1]=True\n",
    "\n",
    "if __name__ == '__main__':\n",
    "    arr=[[ 3 , 3 , 1 , 0 ],[ 3 , 0 , 3 , 3 ],[ 2 , 3 , 0 , 3 ], [ 0 , 3 , 3 , 3 ]]\n",
    "    # arr=[[0,3,2],[3,3,0],[1,3,0]]\n",
    "    print(getMinLengthPath(arr))\n",
    "\n"
   ]
  },
  {
   "cell_type": "markdown",
   "metadata": {},
   "source": [
    "# Minimum steps to reach target by a Knight"
   ]
  },
  {
   "cell_type": "markdown",
   "metadata": {},
   "source": [
    "Given a square chessboard of N x N size, the position of Knight and position of a target is given. We need to find out the minimum steps a Knight will take to reach the target position."
   ]
  },
  {
   "cell_type": "code",
   "execution_count": null,
   "metadata": {},
   "outputs": [
    {
     "name": "stdout",
     "output_type": "stream",
     "text": [
      "20\n"
     ]
    }
   ],
   "source": [
    "def isSafe(i,j,n,visited):\n",
    "    return i>0 and i<=n and j>0 and j<=n and visited[i][j]==False\n",
    "\n",
    "def findMinMoves(n,knightPos,targetPos):\n",
    "    visited=[[False for j in range(n+1)]for i in range(n+1)]\n",
    "    queue=[]\n",
    "    queue.append((knightPos[0],knightPos[1]))\n",
    "    visited[knightPos[0]][knightPos[1]]=True\n",
    "    distance=[[-1 for j in range(n+1)]for i in range(n+1)]\n",
    "    distance[knightPos[0]][knightPos[1]]=0\n",
    "    movesX=[2,2,-2,-2,1,1,-1,-1]\n",
    "    movesY=[1,-1,-1,1,2,-2,2,-2]\n",
    "    while queue:\n",
    "        current=queue.pop(0)\n",
    "        x,y=current[0],current[1]\n",
    "        if x==targetPos[0] and y==targetPos[1]:\n",
    "            return distance[x][y]\n",
    "        for i in range(8):\n",
    "            newX=x+movesX[i]\n",
    "            newY=y+movesY[i]\n",
    "            if isSafe(newX,newY,n,visited):\n",
    "                queue.append((newX,newY))\n",
    "                visited[newX][newY]=True\n",
    "                distance[newX][newY]=distance[x][y]+1\n",
    "\n",
    "if __name__ == '__main__':\n",
    "    n=30\n",
    "    knightPos=[1,1]\n",
    "    targetPos=[30,30]\n",
    "    # n=6\n",
    "    # knightPos=[4,5]\n",
    "    # targetPos=[1,1]\n",
    "    print(findMinMoves(n,knightPos,targetPos))\n"
   ]
  },
  {
   "cell_type": "code",
   "execution_count": null,
   "metadata": {},
   "outputs": [],
   "source": []
  }
 ],
 "metadata": {
  "kernelspec": {
   "display_name": "Python 3",
   "language": "python",
   "name": "python3"
  },
  "language_info": {
   "codemirror_mode": {
    "name": "ipython",
    "version": 3
   },
   "file_extension": ".py",
   "mimetype": "text/x-python",
   "name": "python",
   "nbconvert_exporter": "python",
   "pygments_lexer": "ipython3",
   "version": "3.7.6"
  }
 },
 "nbformat": 4,
 "nbformat_minor": 4
}
