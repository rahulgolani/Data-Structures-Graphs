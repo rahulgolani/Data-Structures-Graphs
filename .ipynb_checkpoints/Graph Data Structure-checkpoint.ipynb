{
 "cells": [
  {
   "cell_type": "markdown",
   "metadata": {},
   "source": [
    "A Graph is a non-linear data structure (do not have to traverse the elements sequentially) consisting of nodes and edges. The nodes are sometimes also referred to as vertices and the edges are lines or arcs that connect any two nodes in the graph."
   ]
  },
  {
   "cell_type": "markdown",
   "metadata": {},
   "source": [
    "Graphs are used to solve many real-life problems. Graphs are used to represent networks. The networks may include paths in a city or telephone network or circuit network. Graphs are also used in social networks like linkedIn, Facebook. For example, in Facebook, each person is represented with a vertex(or node). Each node is a structure and contains information like person id, name, gender, locale etc."
   ]
  },
  {
   "cell_type": "markdown",
   "metadata": {},
   "source": [
    "# Introduction, DFS, BFS"
   ]
  },
  {
   "cell_type": "markdown",
   "metadata": {},
   "source": [
    "Graph is a data structure that consists of following two components:<br>\n",
    "1. A finite set of vertices also called as nodes.<br>\n",
    "2. A finite set of ordered pair of the form (u, v) called as edge. The pair is ordered because (u, v) is not same as (v, u) in case of a directed graph(di-graph). The pair of the form (u, v) indicates that there is an edge from vertex u to vertex v. The edges may contain weight/value/cost."
   ]
  },
  {
   "cell_type": "markdown",
   "metadata": {},
   "source": [
    "<strong>Representations</strong>"
   ]
  },
  {
   "cell_type": "markdown",
   "metadata": {},
   "source": [
    "Following two are the most commonly used representations of a graph.<br>\n",
    "1. Adjacency Matrix<br>\n",
    "2. Adjacency List<br>\n",
    "There are other representations also like, Incidence Matrix and Incidence List. The choice of the graph representation is situation specific. It totally depends on the type of operations to be performed and ease of use."
   ]
  },
  {
   "cell_type": "markdown",
   "metadata": {},
   "source": [
    "Adjacency Matrix is a 2D array of size V x V where V is the number of vertices in a graph. Let the 2D array be adj[][], a slot adj[i][j] = 1 indicates that there is an edge from vertex i to vertex j. Adjacency matrix for undirected graph is always symmetric. Adjacency Matrix is also used to represent weighted graphs. If adj[i][j] = w, then there is an edge from vertex i to vertex j with weight w."
   ]
  },
  {
   "cell_type": "markdown",
   "metadata": {},
   "source": [
    "Pros: Representation is easier to implement and follow. Removing an edge takes O(1) time. Queries like whether there is an edge from vertex ‘u’ to vertex ‘v’ are efficient and can be done O(1).\n",
    "<br><br>\n",
    "Cons: Consumes more space O(V^2). Even if the graph is sparse(contains less number of edges), it consumes the same space. Adding a vertex is O(V^2) time."
   ]
  },
  {
   "cell_type": "markdown",
   "metadata": {},
   "source": [
    "<strong>Adjacency Matrix</strong>"
   ]
  },
  {
   "cell_type": "code",
   "execution_count": 2,
   "metadata": {},
   "outputs": [
    {
     "name": "stdout",
     "output_type": "stream",
     "text": [
      "['a', 'b', 'c', 'd', 'e', 'f']\n",
      "[('a', 'c', 20), ('a', 'e', 10), ('b', 'e', 40), ('c', 'b', 30), ('e', 'd', 50), ('f', 'e', 60)]\n"
     ]
    }
   ],
   "source": [
    "class Graph:\n",
    "    def __init__(self,numVertices):\n",
    "        self.adjMat=[[-1 for j in range(numVertices)] for i in range(numVertices)]\n",
    "        self.numVertices=numVertices\n",
    "        self.vertices={}\n",
    "        self.verticesList=[None]*numVertices\n",
    "\n",
    "    def addVertex(self,vtx,id):\n",
    "        if vtx>=0 and vtx<self.numVertices:\n",
    "            self.vertices[id]=vtx\n",
    "            self.verticesList[vtx]=id\n",
    "\n",
    "    def setEdge(self,frm,to,cost):\n",
    "        frm=self.vertices[frm]\n",
    "        to=self.vertices[to]\n",
    "        self.adjMat[frm][to]=cost\n",
    "\n",
    "    def getVertices(self):\n",
    "        return self.verticesList\n",
    "\n",
    "    def getEdges(self):\n",
    "        edges=[]\n",
    "        for i in range(self.numVertices):\n",
    "            for j in range(self.numVertices):\n",
    "                if self.adjMat[i][j]!=-1:\n",
    "                    edges.append((self.verticesList[i],self.verticesList[j],self.adjMat[i][j]))\n",
    "        return edges\n",
    "\n",
    "if __name__ == '__main__':\n",
    "    graph=Graph(6)\n",
    "    graph.addVertex(0,'a')\n",
    "    graph.addVertex(1,'b')\n",
    "    graph.addVertex(2,'c')\n",
    "    graph.addVertex(3,'d')\n",
    "    graph.addVertex(4,'e')\n",
    "    graph.addVertex(5,'f')\n",
    "    print(graph.getVertices())\n",
    "    graph.setEdge('a','e',10)\n",
    "    graph.setEdge('a','c',20)\n",
    "    graph.setEdge('c','b',30)\n",
    "    graph.setEdge('b','e',40)\n",
    "    graph.setEdge('e','d',50)\n",
    "    graph.setEdge('f','e',60)\n",
    "    print(graph.getEdges())\n",
    "    #print(graph.adjMat)\n"
   ]
  },
  {
   "cell_type": "markdown",
   "metadata": {},
   "source": [
    "<strong>Adjacency List</strong>"
   ]
  },
  {
   "cell_type": "markdown",
   "metadata": {},
   "source": [
    "An array of lists is used. Size of the array is equal to the number of vertices. Let the array be array[]. An entry array[i] represents the list of vertices adjacent to the ith vertex"
   ]
  },
  {
   "cell_type": "code",
   "execution_count": 3,
   "metadata": {},
   "outputs": [
    {
     "name": "stdout",
     "output_type": "stream",
     "text": [
      "defaultdict(<class 'list'>, {0: [1, 4], 1: [2, 3, 4], 2: [3], 3: [4]})\n"
     ]
    }
   ],
   "source": [
    "from collections import defaultdict\n",
    "class Graph:\n",
    "    def __init__(self,v):\n",
    "        self.v=v\n",
    "        self.graph=defaultdict(list)\n",
    "\n",
    "    def addEdge(self,u,v):\n",
    "        self.graph[u].append(v)\n",
    "\n",
    "    def getGraph(self):\n",
    "        return self.graph\n",
    "\n",
    "if __name__ == '__main__':\n",
    "    graph=Graph(5)\n",
    "    graph.addEdge(0, 1)\n",
    "    graph.addEdge(0, 4)\n",
    "    graph.addEdge(1, 2)\n",
    "    graph.addEdge(1, 3)\n",
    "    graph.addEdge(1, 4)\n",
    "    graph.addEdge(2, 3)\n",
    "    graph.addEdge(3, 4)\n",
    "    print(graph.getGraph())\n"
   ]
  },
  {
   "cell_type": "markdown",
   "metadata": {},
   "source": [
    "Pros: Saves space O(|V|+|E|) . In the worst case, there can be C(V, 2) number of edges in a graph thus consuming O(V^2) space. Adding a vertex is easier.\n",
    "<br><br>\n",
    "Cons: Queries like whether there is an edge from vertex u to vertex v are not efficient and can be done O(V)."
   ]
  },
  {
   "cell_type": "markdown",
   "metadata": {},
   "source": [
    "# Breadth First Search or BFS for a Graph"
   ]
  },
  {
   "cell_type": "markdown",
   "metadata": {},
   "source": [
    "Breadth First Traversal (or Search) for a graph is similar to Breadth First Traversal of a tree. The only catch here is, unlike trees, graphs may contain cycles, so we may come to the same node again. To avoid processing a node more than once, we use a boolean visited array. For simplicity, it is assumed that all vertices are reachable from the starting vertex."
   ]
  },
  {
   "cell_type": "code",
   "execution_count": 5,
   "metadata": {},
   "outputs": [
    {
     "name": "stdout",
     "output_type": "stream",
     "text": [
      "2 0 3 1 "
     ]
    }
   ],
   "source": [
    "from collections import defaultdict\n",
    "\n",
    "class Graph:\n",
    "    def __init__(self, v):\n",
    "        self.v = v\n",
    "        self.graph = defaultdict(list)\n",
    "\n",
    "    def addEdge(self, u, v):\n",
    "        self.graph[u].append(v)\n",
    "\n",
    "    def BFS(self, s):\n",
    "        queue=[]\n",
    "        visited=[False]*self.v\n",
    "\n",
    "        queue.append(s)\n",
    "        visited[s]=True\n",
    "\n",
    "        while queue:\n",
    "            temp=queue.pop(0)\n",
    "            print(temp,end=' ')\n",
    "            for i in self.graph[temp]:\n",
    "                if visited[i]==False:\n",
    "                    queue.append(i)\n",
    "                    visited[i]=True\n",
    "\n",
    "\n",
    "if __name__ == '__main__':\n",
    "    g = Graph(4)\n",
    "    g.addEdge(0, 1)\n",
    "    g.addEdge(0, 2)\n",
    "    g.addEdge(1, 2)\n",
    "    g.addEdge(2, 0)\n",
    "    g.addEdge(2, 3)\n",
    "    g.addEdge(3, 3)\n",
    "    g.BFS(2)\n"
   ]
  },
  {
   "cell_type": "markdown",
   "metadata": {},
   "source": [
    "Note that the above code traverses only the vertices reachable from a given source vertex. All the vertices may not be reachable from a given vertex (example Disconnected graph). To print all the vertices, we can modify the BFS function to do traversal starting from all nodes one by one"
   ]
  },
  {
   "cell_type": "markdown",
   "metadata": {},
   "source": [
    "Time Complexity: O(V+E) where V is number of vertices in the graph and E is number of edges in the graph."
   ]
  },
  {
   "cell_type": "markdown",
   "metadata": {},
   "source": [
    "# Depth First Search or DFS for a Graph"
   ]
  },
  {
   "cell_type": "code",
   "execution_count": 7,
   "metadata": {},
   "outputs": [
    {
     "name": "stdout",
     "output_type": "stream",
     "text": [
      "2 0 1 3 "
     ]
    }
   ],
   "source": [
    "from collections import defaultdict\n",
    "class Graph:\n",
    "    def __init__(self,v):\n",
    "        self.v=v\n",
    "        self.graph=defaultdict(list)\n",
    "\n",
    "    def addEdge(self,u,v):\n",
    "        self.graph[u].append(v)\n",
    "\n",
    "    def DFSUtil(self,v,visited):\n",
    "        visited[v]=True\n",
    "        print(v,end=\" \")\n",
    "        for i in self.graph[v]:\n",
    "            if visited[i]==False:\n",
    "                self.DFSUtil(i,visited)\n",
    "\n",
    "    def DFS(self,s):\n",
    "        visited=[False]*self.v\n",
    "        self.DFSUtil(s,visited)\n",
    "\n",
    "if __name__ == '__main__':\n",
    "    g = Graph(4)\n",
    "    g.addEdge(0, 1)\n",
    "    g.addEdge(0, 2)\n",
    "    g.addEdge(1, 2)\n",
    "    g.addEdge(2, 0)\n",
    "    g.addEdge(2, 3)\n",
    "    g.addEdge(3, 3)\n",
    "    g.DFS(2)\n"
   ]
  },
  {
   "cell_type": "markdown",
   "metadata": {},
   "source": [
    "Time Complexity: O(V+E) where V is number of vertices in the graph and E is number of edges in the graph."
   ]
  },
  {
   "cell_type": "markdown",
   "metadata": {},
   "source": [
    "The above code traverses only the vertices reachable from a given source vertex. All the vertices may not be reachable from a given vertex (example Disconnected graph). To do complete DFS traversal of such graphs, we must call DFSUtil() for every vertex. Also, before calling DFSUtil(), we should check if it is already printed by some other call of DFSUtil()"
   ]
  },
  {
   "cell_type": "markdown",
   "metadata": {},
   "source": [
    "# Applications of Breadth First Traversal"
   ]
  },
  {
   "cell_type": "markdown",
   "metadata": {},
   "source": [
    "1) Shortest Path and Minimum Spanning Tree for unweighted graph->n an unweighted graph, the shortest path is the path with least number of edges. With Breadth First, we always reach a vertex from given source using the minimum number of edges. Also, in case of unweighted graphs, any spanning tree is Minimum Spanning Tree\n",
    "<br><br>\n",
    "2) Peer to Peer Networks. In Peer to Peer Networks like BitTorrent, Breadth First Search is used to find all neighbor nodes.\n",
    "<br><br>\n",
    "3) Crawlers in Search Engines: Crawlers build index using Breadth First. The idea is to start from source page and follow all links from source and keep doing same. Depth First Traversal can also be used for crawlers, but the advantage with Breadth First Traversal is, depth or levels of the built tree can be limited.\n",
    "<br><br>\n",
    "4) Social Networking Websites: In social networks, we can find people within a given distance ‘k’ from a person using Breadth First Search till ‘k’ levels.\n",
    "<br><br>\n",
    "5) GPS Navigation systems\n",
    "<br><br>\n",
    "6) Broadcasting in Network\n",
    "<br><br>\n",
    "7) Garbage Collection:Breadth First Search is preferred over Depth First Search because of better locality of reference:\n",
    "<br><br>\n",
    "8) Cycle Detection\n",
    "<br><br>\n",
    "9) Path Finding\n",
    "<br><br>\n",
    "10) Finding all nodes within one connected component: We can either use Breadth First or Depth First Traversal to find all nodes reachable from a given node."
   ]
  },
  {
   "cell_type": "markdown",
   "metadata": {},
   "source": [
    "# Applications of Depth First Search"
   ]
  },
  {
   "cell_type": "markdown",
   "metadata": {},
   "source": [
    "1) For a weighted graph, DFS traversal of the graph produces the minimum spanning tree and all pair shortest path tree.\n",
    "<br><br>\n",
    "2) Detecting cycle in a graph\n",
    "<br><br>\n",
    "3) Path Finding\n",
    "i) Call DFS(G, u) with u as the start vertex.\n",
    "ii) Use a stack S to keep track of the path between the start vertex and the current vertex.\n",
    "iii) As soon as destination vertex z is encountered, return the path as the\n",
    "contents of the stack\n",
    "<br><br>\n",
    "4) Topological Sorting\n",
    "<br><br>\n",
    "5) Finding Strongly Connected Components of a graph\n",
    "<br><br>\n",
    "6) Solving puzzles with only one solution, such as mazes\n"
   ]
  },
  {
   "cell_type": "code",
   "execution_count": 10,
   "metadata": {},
   "outputs": [],
   "source": [
    "# Graph representations using set and hash LATER"
   ]
  },
  {
   "cell_type": "markdown",
   "metadata": {},
   "source": [
    "# Find a Mother Vertex in a Graph"
   ]
  },
  {
   "cell_type": "markdown",
   "metadata": {},
   "source": [
    "Brute Force solution-> To run BFS/DFS for each vertex and check if all the vertices are reachable. This approach takes O(V(E+V)) time, which is very inefficient for large graphs."
   ]
  },
  {
   "cell_type": "code",
   "execution_count": 16,
   "metadata": {},
   "outputs": [
    {
     "name": "stdout",
     "output_type": "stream",
     "text": [
      "5\n"
     ]
    }
   ],
   "source": [
    "from collections import defaultdict\n",
    "class Graph:\n",
    "    def __init__(self,v):\n",
    "        self.v=v\n",
    "        self.graph=defaultdict(list)\n",
    "\n",
    "    def addEdge(self,u,v):\n",
    "        self.graph[u].append(v)\n",
    "\n",
    "    def BFSUtil(self,s):\n",
    "        queue=[]\n",
    "        self.visited[s]=True\n",
    "        queue.append(s)\n",
    "\n",
    "        while queue:\n",
    "            temp=queue.pop(0)\n",
    "            for node in self.graph[temp]:\n",
    "                if self.visited[node]==False:\n",
    "                    queue.append(node)\n",
    "                    self.visited[node]=True\n",
    "        if False in self.visited:\n",
    "            return False\n",
    "        return True\n",
    "\n",
    "\n",
    "    def BFS(self):\n",
    "        self.visited=[]\n",
    "        for i in range(self.v):\n",
    "            self.visited=[False]*self.v\n",
    "            if self.BFSUtil(i):\n",
    "                return i\n",
    "        return -1\n",
    "\n",
    "if __name__ == '__main__':\n",
    "    g=Graph(7)\n",
    "    g.addEdge(0, 1);\n",
    "    g.addEdge(0, 2);\n",
    "    g.addEdge(1, 3);\n",
    "    g.addEdge(4, 1);\n",
    "    g.addEdge(6, 4);\n",
    "    g.addEdge(5, 6);\n",
    "    g.addEdge(5, 2);\n",
    "    g.addEdge(6, 0);\n",
    "    print(g.BFS())\n"
   ]
  },
  {
   "cell_type": "markdown",
   "metadata": {},
   "source": [
    "How to find mother vertex?\n",
    "<br><br>\n",
    "Case 1:- Undirected Connected Graph : In this case, all the vertices are mother vertices as we can reach to all the other nodes in the graph.\n",
    "<br>\n",
    "Case 2:- Undirected/Directed Disconnected Graph : In this case, there is no mother vertices as we cannot reach to all the other nodes in the graph.\n",
    "<br>\n",
    "Case 3:- Directed Connected Graph : In this case, we have to find a vertex -v in the graph such that we can reach to all the other nodes in the graph through a directed path."
   ]
  },
  {
   "cell_type": "markdown",
   "metadata": {},
   "source": [
    "The idea is based on Kosaraju’s Strongly Connected Component Algorithm. In a graph of strongly connected components, mother vertices are always vertices of source component in component graph. The idea is->\n",
    "<br>\n",
    "If there exist mother vertex (or vertices), then one of the mother vertices is the last finished vertex in DFS. (Or a mother vertex has the maximum finish time in DFS traversal).\n",
    "<br>\n",
    "A vertex is said to be finished in DFS if a recursive call for its DFS is over, i.e., all descendants of the vertex have been visited.\n",
    "\n"
   ]
  },
  {
   "cell_type": "markdown",
   "metadata": {},
   "source": [
    "Approach-><br>\n",
    "Do DFS traversal of the given graph. While doing traversal keep track of last finished vertex ‘v’. This step takes O(V+E) time.<br>\n",
    "If there exist mother vertex (or vetices), then v must be one (or one of them). Check if v is a mother vertex by doing DFS/BFS from v. This step also takes O(V+E) time."
   ]
  },
  {
   "cell_type": "code",
   "execution_count": 17,
   "metadata": {},
   "outputs": [
    {
     "name": "stdout",
     "output_type": "stream",
     "text": [
      "5\n"
     ]
    }
   ],
   "source": [
    "from collections import defaultdict\n",
    "class Graph:\n",
    "    def __init__(self,v):\n",
    "        self.v=v\n",
    "        self.graph=defaultdict(list)\n",
    "\n",
    "    def addEdge(self,u,v):\n",
    "        self.graph[u].append(v)\n",
    "\n",
    "    def DFSUtil(self,v,visited):\n",
    "        visited[v]=True\n",
    "        for i in self.graph[v]:\n",
    "            if visited[i]==False:\n",
    "                self.DFSUtil(i,visited)\n",
    "\n",
    "    def findMotherVertex(self):\n",
    "        visited=[False]*self.v\n",
    "        v=0\n",
    "        for i in range(self.v):\n",
    "            if visited[i]==False:\n",
    "                self.DFSUtil(i,visited)\n",
    "                v=i\n",
    "\n",
    "        visited=[False]*self.v\n",
    "        self.DFSUtil(v,visited)\n",
    "        if False in visited:\n",
    "            return -1\n",
    "        return v\n",
    "\n",
    "if __name__ == '__main__':\n",
    "    g=Graph(7)\n",
    "    g.addEdge(0, 1)\n",
    "    g.addEdge(0, 2)\n",
    "    g.addEdge(1, 3)\n",
    "    g.addEdge(4, 1)\n",
    "    g.addEdge(6, 4)\n",
    "    g.addEdge(5, 6)\n",
    "    g.addEdge(5, 2)\n",
    "    g.addEdge(6, 0)\n",
    "    result=g.findMotherVertex()\n",
    "    print(result)\n"
   ]
  },
  {
   "cell_type": "markdown",
   "metadata": {},
   "source": [
    "# Transitive Closure of a Graph using DFS"
   ]
  },
  {
   "cell_type": "markdown",
   "metadata": {},
   "source": [
    "Given a directed graph, find out if a vertex v is reachable from another vertex u for all vertex pairs (u, v) in the given graph. Here reachable mean that there is a path from vertex u to v. The reach-ability matrix is called transitive closure of a graph."
   ]
  },
  {
   "cell_type": "code",
   "execution_count": 18,
   "metadata": {},
   "outputs": [
    {
     "name": "stdout",
     "output_type": "stream",
     "text": [
      "[1, 1, 1, 1]\n",
      "[1, 1, 1, 1]\n",
      "[1, 1, 1, 1]\n",
      "[0, 0, 0, 1]\n"
     ]
    }
   ],
   "source": [
    "from collections import defaultdict\n",
    "class Graph:\n",
    "    def __init__(self,v):\n",
    "        self.v=v\n",
    "        self.graph=defaultdict(list)\n",
    "        self.tClosure=[[1 if i==j else 0 for j in range(self.v) ]for i in range(self.v)]\n",
    "\n",
    "    parent=0\n",
    "\n",
    "    def addEdge(self,u,v):\n",
    "        self.graph[u].append(v)\n",
    "\n",
    "    def DFSUtil(self,v):\n",
    "        self.visited[v]=True\n",
    "        self.tClosure[Graph.parent][v]=1\n",
    "        for i in self.graph[v]:\n",
    "            if self.visited[i]==False:\n",
    "                self.DFSUtil(i)\n",
    "\n",
    "    def findTClosure(self):\n",
    "        self.visited=[]\n",
    "        # parent=0\n",
    "        for i in range(self.v):\n",
    "            Graph.parent=i\n",
    "            self.visited=[False]*self.v\n",
    "            if self.visited[i] == False:\n",
    "                self.DFSUtil(i)\n",
    "        return self.tClosure\n",
    "\n",
    "if __name__ == '__main__':\n",
    "    g = Graph(4)\n",
    "    g.addEdge(0, 1)\n",
    "    g.addEdge(0, 2)\n",
    "    g.addEdge(1, 2)\n",
    "    g.addEdge(2, 0)\n",
    "    g.addEdge(2, 3)\n",
    "    g.addEdge(3, 3)\n",
    "    result=g.findTClosure()\n",
    "    for i in range(g.v):\n",
    "        print(result[i])\n"
   ]
  },
  {
   "cell_type": "code",
   "execution_count": null,
   "metadata": {},
   "outputs": [],
   "source": []
  }
 ],
 "metadata": {
  "kernelspec": {
   "display_name": "Python 3",
   "language": "python",
   "name": "python3"
  },
  "language_info": {
   "codemirror_mode": {
    "name": "ipython",
    "version": 3
   },
   "file_extension": ".py",
   "mimetype": "text/x-python",
   "name": "python",
   "nbconvert_exporter": "python",
   "pygments_lexer": "ipython3",
   "version": "3.7.6"
  }
 },
 "nbformat": 4,
 "nbformat_minor": 4
}
