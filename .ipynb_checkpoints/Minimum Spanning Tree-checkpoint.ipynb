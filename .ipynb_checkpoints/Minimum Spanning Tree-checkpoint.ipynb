{
 "cells": [
  {
   "cell_type": "markdown",
   "metadata": {},
   "source": [
    "Given a connected and undirected graph, a spanning tree of that graph is a subgraph that is a tree and connects all the vertices together."
   ]
  },
  {
   "cell_type": "markdown",
   "metadata": {},
   "source": [
    "A minimum spanning tree (MST) or minimum weight spanning tree for a weighted, connected and undirected graph is a spanning tree with weight less than or equal to the weight of every other spanning tree"
   ]
  },
  {
   "cell_type": "markdown",
   "metadata": {},
   "source": [
    "A minimum spanning tree has (V – 1) edges where V is the number of vertices in the given graph. "
   ]
  },
  {
   "cell_type": "markdown",
   "metadata": {},
   "source": [
    "# Applications of Minimum Spanning Tree Problem"
   ]
  },
  {
   "cell_type": "markdown",
   "metadata": {},
   "source": [
    "Minimum Spanning Tree (MST) problem: Given connected graph G with positive edge weights, find a min weight set of edges that connects all of the vertices."
   ]
  },
  {
   "cell_type": "markdown",
   "metadata": {},
   "source": [
    "<strong>Network design</strong>"
   ]
  },
  {
   "cell_type": "markdown",
   "metadata": {},
   "source": [
    "The standard application is to a problem like phone network design. You have a business with several offices; you want to lease phone lines to connect them up with each other; and the phone company charges different amounts of money to connect different pairs of cities. You want a set of lines that connects all your offices with a minimum total cost. It should be a spanning tree, since if a network isn’t a tree you can always remove some edges and save money.\n",
    "\n"
   ]
  },
  {
   "cell_type": "markdown",
   "metadata": {},
   "source": [
    "<strong>Cluster analysis</strong>"
   ]
  },
  {
   "cell_type": "markdown",
   "metadata": {},
   "source": [
    "k clustering problem can be viewed as finding an MST and deleting the k-1 most\n",
    "expensive edges."
   ]
  },
  {
   "cell_type": "markdown",
   "metadata": {},
   "source": [
    "# Kruskal’s Minimum Spanning Tree Algorithm"
   ]
  },
  {
   "cell_type": "markdown",
   "metadata": {},
   "source": [
    "1. Sort all the edges in non-decreasing order of their weight. \n",
    "2. Pick the smallest edge. Check if it forms a cycle with the spanning tree formed so far. If cycle is not formed, include this edge. Else, discard it. \n",
    "3. Repeat step#2 until there are (V-1) edges in the spanning tree."
   ]
  },
  {
   "cell_type": "code",
   "execution_count": 1,
   "metadata": {},
   "outputs": [
    {
     "name": "stdout",
     "output_type": "stream",
     "text": [
      "Edge 2 -> 3 == 4\n",
      "Edge 0 -> 3 == 5\n",
      "Edge 0 -> 1 == 10\n",
      "Min Cost of the spanning Tree is 19\n"
     ]
    }
   ],
   "source": [
    "from collections import defaultdict\n",
    "\n",
    "class Subset:\n",
    "    def __init__(self,parent,rank):\n",
    "        self.parent=parent\n",
    "        self.rank=rank\n",
    "\n",
    "class Graph:\n",
    "    def __init__(self,v):\n",
    "        self.v=v\n",
    "        self.graph=[]\n",
    "\n",
    "    def addEdge(self,u,v,w):\n",
    "        self.graph.append([u,v,w])\n",
    "\n",
    "    def find(self,subsets,i):\n",
    "        if subsets[i].parent!=i:\n",
    "            subsets[i].parent=self.find(subsets,subsets[i].parent)\n",
    "        return subsets[i].parent\n",
    "\n",
    "    def union(self,subsets,x,y):\n",
    "        if subsets[x].rank>subsets[y].rank:\n",
    "            subsets[y].parent=x\n",
    "        elif subsets[x].rank<subsets[y].rank:\n",
    "            subsets[x].parent=y\n",
    "        else:\n",
    "            subsets[y].parent=x\n",
    "            subsets[x].rank+=1\n",
    "\n",
    "    def findMST(self):\n",
    "        subsets=[]\n",
    "        for i in range(self.v):\n",
    "            subsets.append(Subset(i,0))\n",
    "\n",
    "        # print(self.graph)\n",
    "        self.graph.sort(key=lambda x:x[2])\n",
    "        # print(self.graph)\n",
    "\n",
    "        result=[]\n",
    "        i=0\n",
    "        e=0\n",
    "        while e<self.v-1:\n",
    "            u,v,w=self.graph[i]\n",
    "            i+=1\n",
    "            x=self.find(subsets,u)\n",
    "            y=self.find(subsets,v)\n",
    "            if x!=y:\n",
    "                e+=1\n",
    "                result.append([u,v,w])\n",
    "                self.union(subsets,x,y)\n",
    "\n",
    "        minCost=0\n",
    "        for i in result:\n",
    "            u,v,w=i\n",
    "            minCost+=w\n",
    "            print(f\"Edge {u} -> {v} == {w}\")\n",
    "        print(f\"Min Cost of the spanning Tree is {minCost}\")\n",
    "\n",
    "\n",
    "if __name__ == '__main__':\n",
    "    g=Graph(4)\n",
    "    g.addEdge(0, 1, 10)\n",
    "    g.addEdge(0, 2, 6)\n",
    "    g.addEdge(0, 3, 5)\n",
    "    g.addEdge(1, 3, 15)\n",
    "    g.addEdge(2, 3, 4)\n",
    "    g.findMST()\n"
   ]
  },
  {
   "cell_type": "markdown",
   "metadata": {},
   "source": [
    "Time Complexity -> O(ElogE) or O(ElogV). Sorting of edges takes O(ELogE) time. After sorting, we iterate through all edges and apply find-union algorithm. The find and union operations can take atmost O(LogV) time. So overall complexity is O(ELogE + ELogV) time. The value of E can be atmost O(V2), so O(LogV) are O(LogE) same. Therefore, overall time complexity is O(ElogE) or O(ElogV)"
   ]
  },
  {
   "cell_type": "markdown",
   "metadata": {},
   "source": [
    "# Boruvka’s algorithm"
   ]
  },
  {
   "cell_type": "code",
   "execution_count": 3,
   "metadata": {},
   "outputs": [
    {
     "name": "stdout",
     "output_type": "stream",
     "text": [
      "Edge 0 -> 3 == 5\n",
      "Edge 0 -> 1 == 10\n",
      "Edge 2 -> 3 == 4\n",
      "19\n"
     ]
    }
   ],
   "source": [
    "class Subset:\n",
    "    def __init__(self,parent,rank):\n",
    "        self.parent=parent\n",
    "        self.rank=rank\n",
    "\n",
    "class Graph:\n",
    "    def __init__(self,v):\n",
    "        self.v=v\n",
    "        self.graph=[]\n",
    "\n",
    "    def addEdge(self,u,v,w):\n",
    "        self.graph.append([u,v,w])\n",
    "\n",
    "    def find(self,subsets,i):\n",
    "        if subsets[i].parent!=i:\n",
    "            subsets[i].parent=self.find(subsets,subsets[i].parent)\n",
    "        return subsets[i].parent\n",
    "\n",
    "    def union(self,subsets,x,y):\n",
    "        if subsets[x].rank>subsets[y].rank:\n",
    "            subsets[y].parent=x\n",
    "        elif subsets[x].rank<subsets[y].rank:\n",
    "            subsets[x].parent=y\n",
    "        else:\n",
    "            subsets[y].parent=x\n",
    "            subsets[x].rank+=1\n",
    "\n",
    "    def MST(self):\n",
    "        subsets=[]\n",
    "        for i in range(self.v):\n",
    "            subsets.append(Subset(i,0))\n",
    "\n",
    "        cheapest=[-1]*self.v\n",
    "        minWeight=0\n",
    "        numOfVertices=self.v\n",
    "\n",
    "        while numOfVertices>1:\n",
    "            for i in range(len(self.graph)):\n",
    "                u,v,w=self.graph[i]\n",
    "                x=self.find(subsets,u)\n",
    "                y=self.find(subsets,v)\n",
    "\n",
    "                if x!=y:\n",
    "                    if cheapest[x]==-1 or cheapest[x][2]>w:\n",
    "                        cheapest[x]=[u,v,w]\n",
    "                    if cheapest[y]==-1 or cheapest[y][2]>w:\n",
    "                        cheapest[y]=[u,v,w]\n",
    "\n",
    "            for i in range(self.v):\n",
    "                if cheapest[i]!=-1:\n",
    "\n",
    "                    u,v,w=cheapest[i]\n",
    "                    x=self.find(subsets,u)\n",
    "                    y=self.find(subsets,v)\n",
    "                    if x!=y:\n",
    "                        minWeight+=w\n",
    "                        self.union(subsets,x,y)\n",
    "                        print(f\"Edge {u} -> {v} == {w}\")\n",
    "                        numOfVertices-=1\n",
    "            cheapest=[-1]*self.v\n",
    "        print(minWeight)\n",
    "\n",
    "\n",
    "if __name__ == '__main__':\n",
    "    # g=Graph(4)\n",
    "    # g.addEdge(0, 1, 10)\n",
    "    # g.addEdge(0, 2, 30)\n",
    "    # g.addEdge(0, 3, 15)\n",
    "    # g.addEdge(1, 2, 40)\n",
    "    # g.addEdge(2, 3, 50)\n",
    "    g = Graph(4)\n",
    "    g.addEdge(0, 1, 10)\n",
    "    g.addEdge(0, 2, 6)\n",
    "    g.addEdge(0, 3, 5)\n",
    "    g.addEdge(1, 3, 15)\n",
    "    g.addEdge(2, 3, 4)\n",
    "    g.MST()\n"
   ]
  },
  {
   "cell_type": "markdown",
   "metadata": {},
   "source": [
    "# Minimum cost to connect all cities"
   ]
  },
  {
   "cell_type": "markdown",
   "metadata": {},
   "source": [
    "There are n cities and there are roads in between some of the cities. Somehow all the roads are damaged simultaneously. We have to repair the roads to connect the cities again. There is a fixed cost to repair a particular road. Find out the minimum cost to connect all the cities by repairing roads. Input is in matrix(city) form, if city[i][j] = 0 then there is not any road between city i and city j, if city[i][j] = a > 0 then the cost to rebuild the path between city i and city j is a. Print out the minimum cost to connect all the cities. \n",
    "It is sure that all the cities were connected before the roads were damaged.\n",
    "\n"
   ]
  },
  {
   "cell_type": "markdown",
   "metadata": {},
   "source": [
    "Approach -> Minimum Spanning Tree"
   ]
  },
  {
   "cell_type": "code",
   "execution_count": 4,
   "metadata": {},
   "outputs": [
    {
     "name": "stdout",
     "output_type": "stream",
     "text": [
      "106\n"
     ]
    }
   ],
   "source": [
    "class Subset:\n",
    "    def __init__(self,parent,rank):\n",
    "        self.parent=parent\n",
    "        self.rank=rank\n",
    "\n",
    "class Graph:\n",
    "    def __init__(self,v):\n",
    "        self.v=v\n",
    "        self.graph=[]\n",
    "\n",
    "    def addEdge(self,u,v,w):\n",
    "        self.graph.append([u,v,w])\n",
    "\n",
    "    def find(self,subsets,i):\n",
    "        if subsets[i].parent!=i:\n",
    "            subsets[i].parent=self.find(subsets,subsets[i].parent)\n",
    "        return subsets[i].parent\n",
    "\n",
    "    def union(self,subsets,x,y):\n",
    "        if subsets[x].rank>subsets[y].rank:\n",
    "            subsets[y].parent=x\n",
    "        elif subsets[x].rank<subsets[y].rank:\n",
    "            subsets[x].parent=y\n",
    "        else:\n",
    "            subsets[y].parent=x\n",
    "            subsets[x].rank+=1\n",
    "\n",
    "    def MST(self):\n",
    "        subsets=[]\n",
    "        for i in range(self.v):\n",
    "            subsets.append(Subset(i,0))\n",
    "\n",
    "        numOfVertices=self.v\n",
    "        cheapest=[-1]*self.v\n",
    "        minCost=0\n",
    "\n",
    "        while numOfVertices>1:\n",
    "            for i in range(len(self.graph)):\n",
    "                u,v,w=self.graph[i]\n",
    "                x=self.find(subsets,u)\n",
    "                y=self.find(subsets,v)\n",
    "\n",
    "                if x!=y:\n",
    "                    if cheapest[x]==-1 or cheapest[x][2]>w:\n",
    "                        cheapest[x]=[u,v,w]\n",
    "                    if cheapest[y]==-1 or cheapest[y][2]>w:\n",
    "                        cheapest[y]=[u,v,w]\n",
    "            for i in range(self.v):\n",
    "                if cheapest[i]!=-1:\n",
    "\n",
    "                    u,v,w=cheapest[i]\n",
    "                    x=self.find(subsets,u)\n",
    "                    y=self.find(subsets,v)\n",
    "                    if x!=y:\n",
    "                        minCost+=w\n",
    "                        self.union(subsets,x,y)\n",
    "                        numOfVertices-=1\n",
    "            cheapest=[-1]*self.v\n",
    "        return minCost\n",
    "\n",
    "def findMinCost(arr):\n",
    "    n=len(arr)\n",
    "    g=Graph(n)\n",
    "    for i in range(n):\n",
    "        for j in range(n):\n",
    "            if arr[i][j]!=0:\n",
    "                g.addEdge(i,j,arr[i][j])\n",
    "    return g.MST()\n",
    "\n",
    "if __name__ == '__main__':\n",
    "    # arr=[[0, 1, 2, 3, 4], [1, 0, 5, 0, 7], [2, 5, 0, 6, 0],[3, 0, 6, 0, 0], [4, 7, 0, 0, 0]]\n",
    "    arr=[[0, 1, 1, 100, 0, 0],[1, 0, 1, 0, 0, 0], [1, 1, 0, 0, 0, 0], [100, 0, 0, 0, 2, 2],[0, 0, 0, 2, 0, 2], [0, 0, 0, 2, 2, 0]]\n",
    "    result=findMinCost(arr)\n",
    "    print(result)\n"
   ]
  },
  {
   "cell_type": "markdown",
   "metadata": {},
   "source": [
    "Time Complexity O(n^2)"
   ]
  },
  {
   "cell_type": "markdown",
   "metadata": {},
   "source": [
    "# Steiner Tree Problem"
   ]
  },
  {
   "cell_type": "markdown",
   "metadata": {},
   "source": [
    "<strong>What is Steiner Tree?</strong>\n",
    "\n",
    "Given a graph and a subset of vertices in the graph, a steiner tree spans though the given subset. The Steiner Tree may contain some vertices which are not in given subset but are used to connect the vertices of subset.\n",
    "\n",
    "The given set of vertices is called Terminal Vertices and other vertices that are used to construct Steiner tree are called Steiner vertices."
   ]
  },
  {
   "cell_type": "markdown",
   "metadata": {},
   "source": [
    "![](https://media.geeksforgeeks.org/wp-content/cdn-uploads/steiner.png)"
   ]
  },
  {
   "cell_type": "markdown",
   "metadata": {},
   "source": [
    "If given subset (or terminal) vertices is equal to set of all vertices in Steiner Tree problem, then the problem becomes Minimum Spanning Tree problem. And if the given subset contains only two vertices, then it shortest path problem between two vertices."
   ]
  },
  {
   "cell_type": "markdown",
   "metadata": {},
   "source": [
    "# Reverse Delete Algorithm for Minimum Spanning Tree"
   ]
  },
  {
   "cell_type": "markdown",
   "metadata": {},
   "source": [
    "Reverse Delete algorithm is closely related to Kruskal’s algorithm. In Kruskal’s algorithm what we do is : Sort edges by increasing order of their weights. After sorting, we one by one pick edges in increasing order. We include current picked edge if by including this in spanning tree not form any cycle until there are V-1 edges in spanning tree, where V = number of vertices."
   ]
  },
  {
   "cell_type": "markdown",
   "metadata": {},
   "source": [
    "In Reverse Delete algorithm, we sort all edges in decreasing order of their weights. After sorting, we one by one pick edges in decreasing order. We include current picked edge if excluding current edge causes disconnection in current graph. The main idea is delete edge if its deletion does not lead to disconnection of graph."
   ]
  },
  {
   "cell_type": "markdown",
   "metadata": {},
   "source": [
    "1) Sort all edges of graph in non-increasing order of\n",
    "   edge weights.\n",
    "\n",
    "2) Initialize MST as original graph and remove extra\n",
    "   edges using step 3.\n",
    "\n",
    "3) Pick highest weight edge from remaining edges and \n",
    "   check if deleting the edge disconnects the graph  \n",
    "   or not.\n",
    "       If disconnects, then we don't delete the edge.\n",
    "       Else we delete the edge and continue. "
   ]
  },
  {
   "cell_type": "code",
   "execution_count": 5,
   "metadata": {},
   "outputs": [
    {
     "name": "stdout",
     "output_type": "stream",
     "text": [
      "Edge 3 -> 4\n",
      "Edge 0 -> 7\n",
      "Edge 2 -> 3\n",
      "Edge 2 -> 5\n",
      "Edge 0 -> 1\n",
      "Edge 5 -> 6\n",
      "Edge 2 -> 8\n",
      "Edge 6 -> 7\n",
      "37\n"
     ]
    }
   ],
   "source": [
    "from collections import defaultdict\n",
    "\n",
    "class Graph:\n",
    "    def __init__(self,v):\n",
    "        self.v=v\n",
    "        self.graph=defaultdict(list)\n",
    "        self.edges=[]\n",
    "\n",
    "    def addEdge(self,u,v,w):\n",
    "        self.graph[u].append(v)\n",
    "        self.graph[v].append(u)\n",
    "        self.edges.append([u,v,w])\n",
    "\n",
    "    def connected(self):\n",
    "        visited=[False]*(self.v)\n",
    "        self.dfs(0,visited)\n",
    "        for i in range(self.v):\n",
    "            if visited[i]==False:\n",
    "                return False\n",
    "        return True\n",
    "\n",
    "    def dfs(self,v,visited):\n",
    "        visited[v]=True\n",
    "        for i in self.graph[v]:\n",
    "            if visited[i]==False:\n",
    "                self.dfs(i,visited)\n",
    "\n",
    "    def reverseDelete(self):\n",
    "        self.edges.sort(key=lambda x:x[2])\n",
    "        minCost=0\n",
    "        for i in range(len(self.edges)-1,-1,-1):\n",
    "            u=self.edges[i][0]\n",
    "            v=self.edges[i][1]\n",
    "            self.graph[u].remove(v)\n",
    "            self.graph[v].remove(u)\n",
    "\n",
    "            if self.connected()==False:\n",
    "                self.graph[u].append(v)\n",
    "                self.graph[v].append(u)\n",
    "                minCost+=self.edges[i][2]\n",
    "                print(f\"Edge {u} -> {v}\")\n",
    "        print(minCost)\n",
    "\n",
    "if __name__ == '__main__':\n",
    "    g=Graph(9)\n",
    "    g.addEdge(0, 1, 4)\n",
    "    g.addEdge(0, 7, 8)\n",
    "    g.addEdge(1, 2, 8)\n",
    "    g.addEdge(1, 7, 11)\n",
    "    g.addEdge(2, 3, 7)\n",
    "    g.addEdge(2, 8, 2)\n",
    "    g.addEdge(2, 5, 4)\n",
    "    g.addEdge(3, 4, 9)\n",
    "    g.addEdge(3, 5, 14)\n",
    "    g.addEdge(4, 5, 10)\n",
    "    g.addEdge(5, 6, 2)\n",
    "    g.addEdge(6, 7, 1)\n",
    "    g.addEdge(6, 8, 6)\n",
    "    g.addEdge(7, 8, 7)\n",
    "    g.reverseDelete()\n"
   ]
  },
  {
   "cell_type": "code",
   "execution_count": null,
   "metadata": {},
   "outputs": [],
   "source": []
  }
 ],
 "metadata": {
  "kernelspec": {
   "display_name": "Python 3",
   "language": "python",
   "name": "python3"
  },
  "language_info": {
   "codemirror_mode": {
    "name": "ipython",
    "version": 3
   },
   "file_extension": ".py",
   "mimetype": "text/x-python",
   "name": "python",
   "nbconvert_exporter": "python",
   "pygments_lexer": "ipython3",
   "version": "3.7.6"
  }
 },
 "nbformat": 4,
 "nbformat_minor": 4
}
