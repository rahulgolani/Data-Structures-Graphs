{
 "cells": [
  {
   "cell_type": "markdown",
   "metadata": {},
   "source": [
    "A Graph is a non-linear data structure (do not have to traverse the elements sequentially) consisting of nodes and edges. The nodes are sometimes also referred to as vertices and the edges are lines or arcs that connect any two nodes in the graph."
   ]
  },
  {
   "cell_type": "markdown",
   "metadata": {},
   "source": [
    "Graphs are used to solve many real-life problems. Graphs are used to represent networks. The networks may include paths in a city or telephone network or circuit network. Graphs are also used in social networks like linkedIn, Facebook. For example, in Facebook, each person is represented with a vertex(or node). Each node is a structure and contains information like person id, name, gender, locale etc."
   ]
  },
  {
   "cell_type": "markdown",
   "metadata": {},
   "source": [
    "<h1><center>Introduction, DFS, BFS</center></h1>"
   ]
  },
  {
   "cell_type": "markdown",
   "metadata": {},
   "source": [
    "Graph is a data structure that consists of following two components:<br>\n",
    "1. A finite set of vertices also called as nodes.<br>\n",
    "2. A finite set of ordered pair of the form (u, v) called as edge. The pair is ordered because (u, v) is not same as (v, u) in case of a directed graph(di-graph). The pair of the form (u, v) indicates that there is an edge from vertex u to vertex v. The edges may contain weight/value/cost."
   ]
  },
  {
   "cell_type": "markdown",
   "metadata": {},
   "source": [
    "<strong>Representations</strong>"
   ]
  },
  {
   "cell_type": "markdown",
   "metadata": {},
   "source": [
    "Following two are the most commonly used representations of a graph.<br>\n",
    "1. Adjacency Matrix<br>\n",
    "2. Adjacency List<br>\n",
    "There are other representations also like, Incidence Matrix and Incidence List. The choice of the graph representation is situation specific. It totally depends on the type of operations to be performed and ease of use."
   ]
  },
  {
   "cell_type": "markdown",
   "metadata": {},
   "source": [
    "Adjacency Matrix is a 2D array of size V x V where V is the number of vertices in a graph. Let the 2D array be adj[][], a slot adj[i][j] = 1 indicates that there is an edge from vertex i to vertex j. Adjacency matrix for undirected graph is always symmetric. Adjacency Matrix is also used to represent weighted graphs. If adj[i][j] = w, then there is an edge from vertex i to vertex j with weight w."
   ]
  },
  {
   "cell_type": "markdown",
   "metadata": {},
   "source": [
    "Pros: Representation is easier to implement and follow. Removing an edge takes O(1) time. Queries like whether there is an edge from vertex ‘u’ to vertex ‘v’ are efficient and can be done O(1).\n",
    "<br><br>\n",
    "Cons: Consumes more space O(V^2). Even if the graph is sparse(contains less number of edges), it consumes the same space. Adding a vertex is O(V^2) time."
   ]
  },
  {
   "cell_type": "markdown",
   "metadata": {},
   "source": [
    "<strong>Adjacency Matrix</strong>"
   ]
  },
  {
   "cell_type": "code",
   "execution_count": 2,
   "metadata": {},
   "outputs": [
    {
     "name": "stdout",
     "output_type": "stream",
     "text": [
      "['a', 'b', 'c', 'd', 'e', 'f']\n",
      "[('a', 'c', 20), ('a', 'e', 10), ('b', 'e', 40), ('c', 'b', 30), ('e', 'd', 50), ('f', 'e', 60)]\n"
     ]
    }
   ],
   "source": [
    "class Graph:\n",
    "    def __init__(self,numVertices):\n",
    "        self.adjMat=[[-1 for j in range(numVertices)] for i in range(numVertices)]\n",
    "        self.numVertices=numVertices\n",
    "        self.vertices={}\n",
    "        self.verticesList=[None]*numVertices\n",
    "\n",
    "    def addVertex(self,vtx,id):\n",
    "        if vtx>=0 and vtx<self.numVertices:\n",
    "            self.vertices[id]=vtx\n",
    "            self.verticesList[vtx]=id\n",
    "\n",
    "    def setEdge(self,frm,to,cost):\n",
    "        frm=self.vertices[frm]\n",
    "        to=self.vertices[to]\n",
    "        self.adjMat[frm][to]=cost\n",
    "\n",
    "    def getVertices(self):\n",
    "        return self.verticesList\n",
    "\n",
    "    def getEdges(self):\n",
    "        edges=[]\n",
    "        for i in range(self.numVertices):\n",
    "            for j in range(self.numVertices):\n",
    "                if self.adjMat[i][j]!=-1:\n",
    "                    edges.append((self.verticesList[i],self.verticesList[j],self.adjMat[i][j]))\n",
    "        return edges\n",
    "\n",
    "if __name__ == '__main__':\n",
    "    graph=Graph(6)\n",
    "    graph.addVertex(0,'a')\n",
    "    graph.addVertex(1,'b')\n",
    "    graph.addVertex(2,'c')\n",
    "    graph.addVertex(3,'d')\n",
    "    graph.addVertex(4,'e')\n",
    "    graph.addVertex(5,'f')\n",
    "    print(graph.getVertices())\n",
    "    graph.setEdge('a','e',10)\n",
    "    graph.setEdge('a','c',20)\n",
    "    graph.setEdge('c','b',30)\n",
    "    graph.setEdge('b','e',40)\n",
    "    graph.setEdge('e','d',50)\n",
    "    graph.setEdge('f','e',60)\n",
    "    print(graph.getEdges())\n",
    "    #print(graph.adjMat)\n"
   ]
  },
  {
   "cell_type": "code",
   "execution_count": null,
   "metadata": {},
   "outputs": [],
   "source": []
  }
 ],
 "metadata": {
  "kernelspec": {
   "display_name": "Python 3",
   "language": "python",
   "name": "python3"
  },
  "language_info": {
   "codemirror_mode": {
    "name": "ipython",
    "version": 3
   },
   "file_extension": ".py",
   "mimetype": "text/x-python",
   "name": "python",
   "nbconvert_exporter": "python",
   "pygments_lexer": "ipython3",
   "version": "3.7.6"
  }
 },
 "nbformat": 4,
 "nbformat_minor": 4
}
